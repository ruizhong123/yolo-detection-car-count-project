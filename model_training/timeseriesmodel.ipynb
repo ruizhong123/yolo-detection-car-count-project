{
 "cells": [
  {
   "cell_type": "markdown",
   "id": "3cc26055",
   "metadata": {},
   "source": [
    "Train GRU Tip\n",
    "\n",
    "    - scaled data : using standarized 、 minmaxize \n",
    "\n",
    "    - descise the prediction of lag by using correlation coefficient \n",
    "\n",
    "    - the computeation time of the model is so slow , we can use dropout . we need compare dropout \n",
    "\n",
    "    - if model have good performation at the training data , we consider using validate data \n",
    "\n",
    "    -  save model with h5 fromat \n",
    "\n",
    "    - convert model , tensorflowjs_converter --input_format=keras c:/model.h5 c:/model  \n",
    "\n",
    "      "
   ]
  },
  {
   "cell_type": "code",
   "execution_count": null,
   "id": "13338787",
   "metadata": {},
   "outputs": [],
   "source": [
    "import pandas as pd\n",
    "\n",
    "timestep = 10 \n",
    "\n",
    "timestep_lag_list = []\n",
    "target_list = []\n",
    "\n",
    "for i in range(len(data)):\n",
    "    \n",
    "    timestep_lag_list.append(data[:i+timestep,:])\n",
    "\n",
    "    target_list.append(data[i+timestep,:])\n",
    "    \n",
    "    entire_data = pd.concat([pd.DataFrame(timestep_lag_list), pd.DataFrame(target_list)], axis=1)\n",
    "\n",
    "\n",
    "# Create a DataFrame from the list of lists\n",
    "time_data = pd.DataFrame(entire_data, columns=[f\"time_lag_{i+1}\" for i in range(timestep)] + ['targettime'])\n",
    "\n",
    "\n",
    "X = time_data.iloc[:, :-1].values\n",
    "y = time_data.iloc[:, -1].values\n",
    "\n",
    "\n",
    "# sp\n",
    "from sklearn.model_selection import train_test_split\n",
    "\n",
    "X_train, X_test, y_train, y_test = train_test_split(X, y, test_size=0.3, random_state=42)   \n",
    " "
   ]
  },
  {
   "cell_type": "code",
   "execution_count": null,
   "id": "8917f071",
   "metadata": {},
   "outputs": [],
   "source": [
    "from tensorflow.keras.models import Sequential\n",
    "from tensorflow.keras.layers import GRU, Dense, Dropout\n",
    "from sklearn.preprocessing import MinMaxScaler\n",
    "from sklearn.model_selection import train_test_split\n",
    "from tensrorflow import keras\n",
    "\n",
    "\n",
    "\n",
    "# Reshape the data to 3D for GRU\n",
    "input= keras.Input(shape=(X_train.shape[1], 1))\n",
    "\n",
    "layer1 = GRU(64)(input)\n",
    "layer2 = Dropout(0.2)(layer1)\n",
    "layer3 = GRU(64)(layer1)\n",
    "layer4 = Dropout(0.2)(layer1)\n",
    "output = Dense(32, activation='relu')(layer1)\n",
    "output = Dense(1, activation='linear')(output)\n",
    "\n",
    "model = keras.Model(inputs=input, outputs=output)\n",
    "\n",
    "\n",
    "model.compile(optimizer='adam', loss='mean_squared_error')\n",
    "\n",
    "model.fit(X_train, y_train, epochs=50, batch_size=32, validation_data=(X_test, y_test), verbose=1)\n",
    "\n",
    "import numpy as np\n",
    "from sklearn.metrics import mean_squared_error, mean_absolute_error\n",
    "y_pred = model.predict(X_test)\n",
    "mse = mean_squared_error(y_test, y_pred)"
   ]
  },
  {
   "cell_type": "code",
   "execution_count": null,
   "id": "f36a7bc5",
   "metadata": {},
   "outputs": [],
   "source": [
    "import matplotlib.pyplot as plt\n",
    "\n",
    "loss = history.history[\"mae\"]\n",
    "val_loss = history.history[\"val_mae\"]\n",
    "epochs = range(1, len(loss) + 1)\n",
    "\n",
    "plt.figure()\n",
    "plt.plot(epochs, loss, \"bo\", label=\"Training MAE\")\n",
    "plt.plot(epochs, val_loss, \"b\", label=\"Validation MAE\")\n",
    "plt.title(\"Training and validation MAE\")\n",
    "plt.legend()\n",
    "plt.show()"
   ]
  }
 ],
 "metadata": {
  "kernelspec": {
   "display_name": "model_training",
   "language": "python",
   "name": "python3"
  },
  "language_info": {
   "name": "python",
   "version": "3.12.9"
  }
 },
 "nbformat": 4,
 "nbformat_minor": 5
}
