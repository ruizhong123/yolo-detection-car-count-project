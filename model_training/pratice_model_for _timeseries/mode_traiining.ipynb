{
 "cells": [
  {
   "cell_type": "markdown",
   "id": "426185d7",
   "metadata": {},
   "source": [
    "Taining model "
   ]
  },
  {
   "cell_type": "code",
   "execution_count": null,
   "id": "8b7249db",
   "metadata": {
    "vscode": {
     "languageId": "plaintext"
    }
   },
   "outputs": [],
   "source": []
  }
 ],
 "metadata": {
  "language_info": {
   "name": "python"
  }
 },
 "nbformat": 4,
 "nbformat_minor": 5
}
