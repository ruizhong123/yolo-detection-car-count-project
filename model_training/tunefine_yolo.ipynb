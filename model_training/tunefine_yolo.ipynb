{
 "cells": [
  {
   "cell_type": "markdown",
   "id": "3e91e7f7",
   "metadata": {},
   "source": [
    "## optimize the parameter of model "
   ]
  },
  {
   "cell_type": "markdown",
   "id": "f6fba49e",
   "metadata": {},
   "source": [
    " . we use 5000 picture for training model , set 3500 picture as training data and then each half of data as valid data and testing data "
   ]
  },
  {
   "cell_type": "code",
   "execution_count": 3,
   "id": "e27d007b",
   "metadata": {},
   "outputs": [
    {
     "name": "stdout",
     "output_type": "stream",
     "text": [
      "2025-05-29 10:55:45.237090\n",
      " Image data insert to database successfully \n"
     ]
    },
    {
     "name": "stderr",
     "output_type": "stream",
     "text": [
      "[tcp @ 0x2d5b5300] Connection to tcp://cctvn.freeway.gov.tw:443 failed: Connection timed out\n"
     ]
    },
    {
     "name": "stdout",
     "output_type": "stream",
     "text": [
      "2025-05-29 10:57:23.951887\n",
      " Image data insert to database successfully \n"
     ]
    },
    {
     "name": "stderr",
     "output_type": "stream",
     "text": [
      "[tcp @ 0x2d76e580] Connection to tcp://cctvn.freeway.gov.tw:443 failed: Connection timed out\n"
     ]
    },
    {
     "name": "stdout",
     "output_type": "stream",
     "text": [
      "2025-05-29 10:59:13.017688\n",
      " Image data insert to database successfully \n"
     ]
    },
    {
     "name": "stderr",
     "output_type": "stream",
     "text": [
      "[tcp @ 0x2d66a1c0] Connection to tcp://cctvn.freeway.gov.tw:443 failed: Connection timed out\n"
     ]
    },
    {
     "name": "stdout",
     "output_type": "stream",
     "text": [
      "2025-05-29 11:01:02.700137\n",
      " Image data insert to database successfully \n"
     ]
    },
    {
     "name": "stderr",
     "output_type": "stream",
     "text": [
      "[tcp @ 0x2d76e5c0] Connection to tcp://cctvn.freeway.gov.tw:443 failed: Connection timed out\n"
     ]
    },
    {
     "name": "stdout",
     "output_type": "stream",
     "text": [
      "2025-05-29 11:03:06.560944\n",
      " Image data insert to database successfully \n"
     ]
    },
    {
     "name": "stderr",
     "output_type": "stream",
     "text": [
      "[tcp @ 0x2d5c96c0] Connection to tcp://cctvn.freeway.gov.tw:443 failed: Connection timed out\n"
     ]
    },
    {
     "name": "stdout",
     "output_type": "stream",
     "text": [
      "2025-05-29 11:04:48.324347\n",
      " Image data insert to database successfully \n"
     ]
    },
    {
     "name": "stderr",
     "output_type": "stream",
     "text": [
      "[tcp @ 0x2d572300] Connection to tcp://cctvn.freeway.gov.tw:443 failed: Connection timed out\n"
     ]
    },
    {
     "name": "stdout",
     "output_type": "stream",
     "text": [
      "2025-05-29 11:06:28.409891\n",
      " Image data insert to database successfully \n"
     ]
    },
    {
     "name": "stderr",
     "output_type": "stream",
     "text": [
      "[tcp @ 0x2d51d500] Connection to tcp://cctvn.freeway.gov.tw:443 failed: Connection timed out\n"
     ]
    },
    {
     "name": "stdout",
     "output_type": "stream",
     "text": [
      "2025-05-29 11:08:08.994462\n",
      " Image data insert to database successfully \n"
     ]
    },
    {
     "name": "stderr",
     "output_type": "stream",
     "text": [
      "[tcp @ 0x2d5b5300] Connection to tcp://cctvn.freeway.gov.tw:443 failed: Connection timed out\n"
     ]
    },
    {
     "name": "stdout",
     "output_type": "stream",
     "text": [
      "2025-05-29 11:09:44.425479\n",
      " Image data insert to database successfully \n"
     ]
    },
    {
     "name": "stderr",
     "output_type": "stream",
     "text": [
      "[tcp @ 0x2d6b2300] Connection to tcp://cctvn.freeway.gov.tw:443 failed: Connection timed out\n"
     ]
    },
    {
     "name": "stdout",
     "output_type": "stream",
     "text": [
      "2025-05-29 11:11:34.967438\n",
      " Image data insert to database successfully \n"
     ]
    },
    {
     "name": "stderr",
     "output_type": "stream",
     "text": [
      "[tcp @ 0x2d7d2500] Connection to tcp://cctvn.freeway.gov.tw:443 failed: Connection timed out\n"
     ]
    },
    {
     "name": "stdout",
     "output_type": "stream",
     "text": [
      "2025-05-29 11:13:30.194593\n",
      " Image data insert to database successfully \n"
     ]
    },
    {
     "name": "stderr",
     "output_type": "stream",
     "text": [
      "[tcp @ 0x2d63fa00] Connection to tcp://cctvn.freeway.gov.tw:443 failed: Connection timed out\n"
     ]
    },
    {
     "name": "stdout",
     "output_type": "stream",
     "text": [
      "2025-05-29 11:15:14.828297\n",
      " Image data insert to database successfully \n"
     ]
    },
    {
     "name": "stderr",
     "output_type": "stream",
     "text": [
      "[tcp @ 0x2d54d900] Connection to tcp://cctvn.freeway.gov.tw:443 failed: Connection timed out\n",
      "[tcp @ 0x2d52bfc0] Connection to tcp://cctvn.freeway.gov.tw:443 failed: Connection timed out\n"
     ]
    },
    {
     "name": "stdout",
     "output_type": "stream",
     "text": [
      "2025-05-29 11:17:11.340521\n",
      " Image data insert to database successfully \n"
     ]
    },
    {
     "name": "stderr",
     "output_type": "stream",
     "text": [
      "[tcp @ 0x2d562100] Connection to tcp://cctvn.freeway.gov.tw:443 failed: Connection timed out\n",
      "[tcp @ 0x2d7bf740] Connection to tcp://cctvn.freeway.gov.tw:443 failed: Connection timed out\n"
     ]
    },
    {
     "name": "stdout",
     "output_type": "stream",
     "text": [
      "2025-05-29 11:19:04.733769\n",
      " Image data insert to database successfully \n"
     ]
    },
    {
     "name": "stderr",
     "output_type": "stream",
     "text": [
      "[tcp @ 0x2d5b7a40] Connection to tcp://cctvn.freeway.gov.tw:443 failed: Connection timed out\n",
      "[tcp @ 0x2d75b8c0] Connection to tcp://cctvn.freeway.gov.tw:443 failed: Connection timed out\n"
     ]
    },
    {
     "name": "stdout",
     "output_type": "stream",
     "text": [
      "2025-05-29 11:21:10.799345\n",
      " Image data insert to database successfully \n"
     ]
    },
    {
     "name": "stderr",
     "output_type": "stream",
     "text": [
      "[tcp @ 0x2d75b8c0] Connection to tcp://cctvn.freeway.gov.tw:443 failed: Connection timed out\n",
      "[tcp @ 0x2d5b7a40] Connection to tcp://cctvn.freeway.gov.tw:443 failed: Connection timed out\n"
     ]
    },
    {
     "name": "stdout",
     "output_type": "stream",
     "text": [
      "2025-05-29 11:23:14.208186\n",
      " Image data insert to database successfully \n"
     ]
    },
    {
     "name": "stderr",
     "output_type": "stream",
     "text": [
      "[tcp @ 0x2d561940] Connection to tcp://cctvn.freeway.gov.tw:443 failed: Connection timed out\n",
      "[tcp @ 0x2d562100] Connection to tcp://cctvn.freeway.gov.tw:443 failed: Connection timed out\n"
     ]
    },
    {
     "name": "stdout",
     "output_type": "stream",
     "text": [
      "2025-05-29 11:25:26.651787\n",
      " Image data insert to database successfully \n"
     ]
    },
    {
     "name": "stderr",
     "output_type": "stream",
     "text": [
      "[tcp @ 0x2d7b9780] Connection to tcp://cctvn.freeway.gov.tw:443 failed: Connection timed out\n",
      "[tcp @ 0x2d584a80] Connection to tcp://cctvn.freeway.gov.tw:443 failed: Connection timed out\n"
     ]
    },
    {
     "name": "stdout",
     "output_type": "stream",
     "text": [
      "2025-05-29 11:27:27.534280\n",
      " Image data insert to database successfully \n"
     ]
    },
    {
     "name": "stderr",
     "output_type": "stream",
     "text": [
      "[tcp @ 0x2d560600] Connection to tcp://cctvn.freeway.gov.tw:443 failed: Connection timed out\n",
      "[tcp @ 0x2d56ae80] Connection to tcp://cctvn.freeway.gov.tw:443 failed: Connection timed out\n"
     ]
    },
    {
     "name": "stdout",
     "output_type": "stream",
     "text": [
      "2025-05-29 11:29:31.307987\n",
      " Image data insert to database successfully \n"
     ]
    },
    {
     "name": "stderr",
     "output_type": "stream",
     "text": [
      "[tcp @ 0x2d5c96c0] Connection to tcp://cctvn.freeway.gov.tw:443 failed: Connection timed out\n",
      "[tcp @ 0x2d673380] Connection to tcp://cctvn.freeway.gov.tw:443 failed: Connection timed out\n"
     ]
    },
    {
     "name": "stdout",
     "output_type": "stream",
     "text": [
      "2025-05-29 11:31:22.439867\n",
      " Image data insert to database successfully \n"
     ]
    },
    {
     "name": "stderr",
     "output_type": "stream",
     "text": [
      "[tcp @ 0x2d56c700] Connection to tcp://cctvn.freeway.gov.tw:443 failed: Connection timed out\n",
      "[tcp @ 0x2d562100] Connection to tcp://cctvn.freeway.gov.tw:443 failed: Connection timed out\n"
     ]
    },
    {
     "name": "stdout",
     "output_type": "stream",
     "text": [
      "2025-05-29 11:33:21.459216\n",
      " Image data insert to database successfully \n"
     ]
    },
    {
     "name": "stderr",
     "output_type": "stream",
     "text": [
      "[tcp @ 0x2d691140] Connection to tcp://cctvn.freeway.gov.tw:443 failed: Connection timed out\n",
      "[tcp @ 0x2d667c40] Connection to tcp://cctvn.freeway.gov.tw:443 failed: Connection timed out\n"
     ]
    },
    {
     "name": "stdout",
     "output_type": "stream",
     "text": [
      "2025-05-29 11:35:01.450427\n",
      " Image data insert to database successfully \n"
     ]
    },
    {
     "name": "stderr",
     "output_type": "stream",
     "text": [
      "[tcp @ 0x2d54d8c0] Connection to tcp://cctvn.freeway.gov.tw:443 failed: Connection timed out\n"
     ]
    },
    {
     "name": "stdout",
     "output_type": "stream",
     "text": [
      "2025-05-29 11:36:39.855604\n",
      " Image data insert to database successfully \n"
     ]
    },
    {
     "name": "stderr",
     "output_type": "stream",
     "text": [
      "[tcp @ 0x2d691480] Connection to tcp://cctvn.freeway.gov.tw:443 failed: Connection timed out\n"
     ]
    },
    {
     "name": "stdout",
     "output_type": "stream",
     "text": [
      "2025-05-29 11:38:21.085560\n",
      " Image data insert to database successfully \n"
     ]
    },
    {
     "name": "stderr",
     "output_type": "stream",
     "text": [
      "[tcp @ 0x2d691480] Connection to tcp://cctvn.freeway.gov.tw:443 failed: Connection timed out\n",
      "[tcp @ 0x2d691480] Connection to tcp://cctvn.freeway.gov.tw:443 failed: Connection timed out\n"
     ]
    },
    {
     "name": "stdout",
     "output_type": "stream",
     "text": [
      "2025-05-29 11:40:10.824629\n",
      " Image data insert to database successfully \n"
     ]
    },
    {
     "name": "stderr",
     "output_type": "stream",
     "text": [
      "[tcp @ 0x2d52bfc0] Connection to tcp://cctvn.freeway.gov.tw:443 failed: Connection timed out\n",
      "[tcp @ 0x2d63e500] Connection to tcp://cctvn.freeway.gov.tw:443 failed: Connection timed out\n"
     ]
    },
    {
     "name": "stdout",
     "output_type": "stream",
     "text": [
      "2025-05-29 11:42:05.553003\n",
      " Image data insert to database successfully \n"
     ]
    },
    {
     "name": "stderr",
     "output_type": "stream",
     "text": [
      "[tcp @ 0x2d64b140] Connection to tcp://cctvn.freeway.gov.tw:443 failed: Connection timed out\n",
      "[tcp @ 0x2d691480] Connection to tcp://cctvn.freeway.gov.tw:443 failed: Connection timed out\n"
     ]
    },
    {
     "name": "stdout",
     "output_type": "stream",
     "text": [
      "2025-05-29 11:43:59.968921\n",
      " Image data insert to database successfully \n"
     ]
    },
    {
     "name": "stderr",
     "output_type": "stream",
     "text": [
      "[tcp @ 0x2d5b5300] Connection to tcp://cctvn.freeway.gov.tw:443 failed: Connection timed out\n",
      "[tcp @ 0x2d692900] Connection to tcp://cctvn.freeway.gov.tw:443 failed: Connection timed out\n"
     ]
    },
    {
     "name": "stdout",
     "output_type": "stream",
     "text": [
      "2025-05-29 11:45:51.500646\n",
      " Image data insert to database successfully \n",
      "2025-05-29 11:47:30.810295\n",
      " Image data insert to database successfully \n",
      "2025-05-29 11:49:19.816987\n",
      " Image data insert to database successfully \n",
      "2025-05-29 11:51:08.076351\n",
      " Image data insert to database successfully \n",
      "2025-05-29 11:53:21.482062\n",
      " Image data insert to database successfully \n",
      "2025-05-29 11:54:57.835259\n",
      " Image data insert to database successfully \n",
      "2025-05-29 11:56:34.033475\n",
      " Image data insert to database successfully \n",
      "2025-05-29 11:58:03.673579\n",
      " Image data insert to database successfully \n",
      "2025-05-29 11:59:31.171924\n",
      " Image data insert to database successfully \n",
      "2025-05-29 12:01:06.153456\n",
      " Image data insert to database successfully \n",
      "2025-05-29 12:03:00.047892\n",
      " Image data insert to database successfully \n",
      "2025-05-29 12:04:38.433365\n",
      " Image data insert to database successfully \n",
      "2025-05-29 12:06:19.581686\n",
      " Image data insert to database successfully \n",
      "2025-05-29 12:07:49.824422\n",
      " Image data insert to database successfully \n",
      "2025-05-29 12:09:23.218656\n",
      " Image data insert to database successfully \n",
      "2025-05-29 12:11:12.829100\n",
      " Image data insert to database successfully \n",
      "2025-05-29 12:13:06.810131\n",
      " Image data insert to database successfully \n",
      "2025-05-29 12:14:57.967980\n",
      " Image data insert to database successfully \n",
      "2025-05-29 12:16:47.486018\n",
      " Image data insert to database successfully \n",
      "2025-05-29 12:18:24.890250\n",
      " Image data insert to database successfully \n",
      "2025-05-29 12:20:06.915962\n",
      " Image data insert to database successfully \n"
     ]
    },
    {
     "name": "stderr",
     "output_type": "stream",
     "text": [
      "[tcp @ 0x2d63e500] Connection to tcp://cctvn.freeway.gov.tw:443 failed: Connection timed out\n"
     ]
    },
    {
     "name": "stdout",
     "output_type": "stream",
     "text": [
      "2025-05-29 12:22:08.811189\n",
      " Image data insert to database successfully \n",
      "2025-05-29 12:24:21.036034\n",
      " Image data insert to database successfully \n",
      "2025-05-29 12:26:03.597542\n",
      " Image data insert to database successfully \n",
      "2025-05-29 12:27:39.612673\n",
      " Image data insert to database successfully \n",
      "2025-05-29 12:29:19.173510\n",
      " Image data insert to database successfully \n",
      "2025-05-29 12:30:54.998769\n",
      " Image data insert to database successfully \n",
      "2025-05-29 12:32:45.946790\n",
      " Image data insert to database successfully \n",
      "2025-05-29 12:34:19.389484\n",
      " Image data insert to database successfully \n",
      "2025-05-29 12:35:49.749524\n",
      " Image data insert to database successfully \n",
      "2025-05-29 12:37:29.398874\n",
      " Image data insert to database successfully \n",
      "2025-05-29 12:39:04.272831\n",
      " Image data insert to database successfully \n",
      "2025-05-29 12:40:46.871308\n",
      " Image data insert to database successfully \n",
      "2025-05-29 12:42:31.028888\n",
      " Image data insert to database successfully \n",
      "2025-05-29 12:44:09.819759\n",
      " Image data insert to database successfully \n",
      "2025-05-29 12:45:44.144822\n",
      " Image data insert to database successfully \n",
      "2025-05-29 12:47:22.383370\n",
      " Image data insert to database successfully \n",
      "2025-05-29 12:48:59.649167\n",
      " Image data insert to database successfully \n",
      "2025-05-29 12:50:36.160092\n",
      " Image data insert to database successfully \n",
      "2025-05-29 12:52:25.530567\n",
      " Image data insert to database successfully \n",
      "2025-05-29 12:54:09.251030\n",
      " Image data insert to database successfully \n",
      "2025-05-29 12:55:44.597892\n",
      " Image data insert to database successfully \n",
      "2025-05-29 12:57:25.386148\n",
      " Image data insert to database successfully \n",
      "2025-05-29 12:59:11.425331\n",
      " Image data insert to database successfully \n",
      "2025-05-29 13:00:50.055244\n",
      " Image data insert to database successfully \n"
     ]
    },
    {
     "name": "stderr",
     "output_type": "stream",
     "text": [
      "[mjpeg @ 0x2d848200] overread 8\n"
     ]
    },
    {
     "name": "stdout",
     "output_type": "stream",
     "text": [
      "2025-05-29 13:03:03.043627\n",
      " Image data insert to database successfully \n",
      "2025-05-29 13:04:48.301646\n",
      " Image data insert to database successfully \n",
      "2025-05-29 13:06:28.336016\n",
      " Image data insert to database successfully \n",
      "2025-05-29 13:08:07.009316\n",
      " Image data insert to database successfully \n",
      "2025-05-29 13:09:46.682732\n",
      " Image data insert to database successfully \n"
     ]
    },
    {
     "name": "stderr",
     "output_type": "stream",
     "text": [
      "[tcp @ 0x2d5c96c0] Connection to tcp://cctvn.freeway.gov.tw:443 failed: Connection timed out\n"
     ]
    },
    {
     "name": "stdout",
     "output_type": "stream",
     "text": [
      "2025-05-29 13:11:36.797238\n",
      " Image data insert to database successfully \n",
      "2025-05-29 13:13:20.554975\n",
      " Image data insert to database successfully \n",
      "2025-05-29 13:14:56.056123\n",
      " Image data insert to database successfully \n",
      "2025-05-29 13:16:31.508609\n",
      " Image data insert to database successfully \n",
      "2025-05-29 13:18:15.139246\n",
      " Image data insert to database successfully \n",
      "2025-05-29 13:20:14.402437\n",
      " Image data insert to database successfully \n",
      "2025-05-29 13:22:04.002302\n",
      " Image data insert to database successfully \n",
      "2025-05-29 13:23:58.150419\n",
      " Image data insert to database successfully \n",
      "2025-05-29 13:25:42.654759\n",
      " Image data insert to database successfully \n",
      "2025-05-29 13:27:22.858738\n",
      " Image data insert to database successfully \n",
      "2025-05-29 13:29:11.879331\n",
      " Image data insert to database successfully \n",
      "2025-05-29 13:30:54.851071\n",
      " Image data insert to database successfully \n",
      "2025-05-29 13:33:51.517689\n",
      " Image data insert to database successfully \n",
      "2025-05-29 13:35:36.834082\n",
      " Image data insert to database successfully \n",
      "2025-05-29 13:37:09.015561\n",
      " Image data insert to database successfully \n",
      "2025-05-29 13:38:42.476256\n",
      " Image data insert to database successfully \n",
      "2025-05-29 13:40:19.243032\n",
      " Image data insert to database successfully \n",
      "2025-05-29 13:41:55.369649\n",
      " Image data insert to database successfully \n",
      "2025-05-29 13:43:33.650418\n",
      " Image data insert to database successfully \n",
      "2025-05-29 13:45:05.721631\n",
      " Image data insert to database successfully \n",
      "2025-05-29 13:46:47.021608\n",
      " Image data insert to database successfully \n",
      "2025-05-29 13:48:22.696438\n",
      " Image data insert to database successfully \n",
      "2025-05-29 13:49:54.641613\n",
      " Image data insert to database successfully \n",
      "2025-05-29 13:52:38.810983\n",
      " Image data insert to database successfully \n",
      "2025-05-29 13:54:19.921397\n",
      " Image data insert to database successfully \n",
      "2025-05-29 13:55:48.681361\n",
      " Image data insert to database successfully \n",
      "2025-05-29 13:57:36.199834\n",
      " Image data insert to database successfully \n",
      "2025-05-29 13:59:18.409036\n",
      " Image data insert to database successfully \n",
      "2025-05-29 14:02:43.787989\n",
      " Image data insert to database successfully \n",
      "2025-05-29 14:04:25.121091\n",
      " Image data insert to database successfully \n",
      "2025-05-29 14:05:56.958467\n",
      " Image data insert to database successfully \n",
      "2025-05-29 14:07:39.742190\n",
      " Image data insert to database successfully \n",
      "2025-05-29 14:09:14.191973\n",
      " Image data insert to database successfully \n",
      "2025-05-29 14:10:57.352593\n",
      " Image data insert to database successfully \n",
      "2025-05-29 14:12:44.995212\n",
      " Image data insert to database successfully \n",
      "2025-05-29 14:14:30.534324\n",
      " Image data insert to database successfully \n"
     ]
    },
    {
     "name": "stderr",
     "output_type": "stream",
     "text": [
      "[tcp @ 0x2d5b7a40] Connection to tcp://cctvn.freeway.gov.tw:443 failed: Connection timed out\n"
     ]
    },
    {
     "name": "stdout",
     "output_type": "stream",
     "text": [
      "2025-05-29 14:16:05.494850\n",
      " Image data insert to database successfully \n",
      "2025-05-29 14:17:45.041106\n",
      " Image data insert to database successfully \n",
      "2025-05-29 14:19:23.934001\n",
      " Image data insert to database successfully \n",
      "2025-05-29 14:21:03.201782\n",
      " Image data insert to database successfully \n",
      "2025-05-29 14:22:51.980401\n",
      " Image data insert to database successfully \n",
      "2025-05-29 14:24:48.982208\n",
      " Image data insert to database successfully \n",
      "2025-05-29 14:26:37.346461\n",
      " Image data insert to database successfully \n",
      "2025-05-29 14:28:06.340622\n",
      " Image data insert to database successfully \n",
      "2025-05-29 14:29:42.410929\n",
      " Image data insert to database successfully \n",
      "2025-05-29 14:31:18.777915\n",
      " Image data insert to database successfully \n",
      "2025-05-29 14:33:11.584704\n",
      " Image data insert to database successfully \n",
      "2025-05-29 14:34:43.711413\n",
      " Image data insert to database successfully \n",
      "2025-05-29 14:36:18.245732\n",
      " Image data insert to database successfully \n",
      "  collecting image data is enough \n"
     ]
    },
    {
     "ename": "error",
     "evalue": "OpenCV(4.10.0) /io/opencv/modules/highgui/src/window.cpp:1295: error: (-2:Unspecified error) The function is not implemented. Rebuild the library with Windows, GTK+ 2.x or Cocoa support. If you are on Ubuntu or Debian, install libgtk2.0-dev and pkg-config, then re-run cmake or configure script in function 'cvDestroyAllWindows'\n",
     "output_type": "error",
     "traceback": [
      "\u001b[31m---------------------------------------------------------------------------\u001b[39m",
      "\u001b[31merror\u001b[39m                                     Traceback (most recent call last)",
      "\u001b[36mCell\u001b[39m\u001b[36m \u001b[39m\u001b[32mIn[3]\u001b[39m\u001b[32m, line 88\u001b[39m\n\u001b[32m     85\u001b[39m cursor.close()\n\u001b[32m     86\u001b[39m cap.release()\n\u001b[32m---> \u001b[39m\u001b[32m88\u001b[39m \u001b[43mcv2\u001b[49m\u001b[43m.\u001b[49m\u001b[43mdestroyAllWindows\u001b[49m\u001b[43m(\u001b[49m\u001b[43m)\u001b[49m \n",
      "\u001b[31merror\u001b[39m: OpenCV(4.10.0) /io/opencv/modules/highgui/src/window.cpp:1295: error: (-2:Unspecified error) The function is not implemented. Rebuild the library with Windows, GTK+ 2.x or Cocoa support. If you are on Ubuntu or Debian, install libgtk2.0-dev and pkg-config, then re-run cmake or configure script in function 'cvDestroyAllWindows'\n"
     ]
    }
   ],
   "source": [
    "import cv2 \n",
    "import mysql.connector as con \n",
    "import time \n",
    "from datetime import datetime\n",
    "\n",
    "url = \"https://cctvn.freeway.gov.tw/abs2mjpg/bmjpg?camera=13380\"\n",
    "\n",
    "# connect mysql \n",
    "\n",
    "cursor = con.connect(\n",
    "    host = \"172.26.176.1\",\n",
    "    user = 'ruizhong' ,\n",
    "    password = \"123456\",\n",
    "    database = \"the_volume_of_car\"\n",
    ")\n",
    "\n",
    "cur = cursor.cursor()\n",
    "\n",
    "# input order that the  sql need \n",
    "\n",
    "query = \"insert into image (image_data,capture_time) values (%s,%s)\"\n",
    "\n",
    "\n",
    "i = 0\n",
    "while True :\n",
    "    \n",
    "    \n",
    "    cap = cv2.VideoCapture(url)\n",
    "    \n",
    "    ret,frame = cap.read()\n",
    "    \n",
    "    if not ret :\n",
    "        \n",
    "        cap = cv2.VideoCapture(url)\n",
    "        \n",
    "        ret,frame = cap.read()\n",
    "        \n",
    "    \n",
    "    \n",
    "   \n",
    "    ret , buffer = cv2.imencode(\".jpg\",frame)\n",
    "    \n",
    "    ##   \n",
    "    \n",
    "    if i % 200 == 0:\n",
    "        \n",
    "        cur.execute(\"\"\"\n",
    "        \n",
    "        CREATE TABLE IF NOT EXISTS image (\n",
    "            id INT AUTO_INCREMENT PRIMARY KEY,\n",
    "            image_data BLOB NOT NULL,\n",
    "            capture_time DATETIME NOT NULL\n",
    "        )\n",
    "    \"\"\"\n",
    "        )\n",
    "        \n",
    "        cursor.commit()\n",
    "        \n",
    "        \n",
    "        # store into mysql \n",
    "        \n",
    "        capture_time = datetime.now()\n",
    "        \n",
    "        print(capture_time)\n",
    "        \n",
    "        image_bytes = buffer.tobytes()\n",
    "        \n",
    "        \n",
    "        cur.execute(query,(image_bytes,capture_time))\n",
    "        \n",
    "        cursor.commit()\n",
    "        \n",
    "        print(\" Image data insert to database successfully \")\n",
    "    \n",
    "    # we collect 5000 image data \n",
    "    if i ==  25000:\n",
    "        \n",
    "        print( \"  collecting image data is enough \")\n",
    "        \n",
    "        break  \n",
    "    \n",
    "    i += 1 \n",
    "    \n",
    "\n",
    "cursor.close()\n",
    "cap.release()\n",
    "\n",
    "cv2.destroyAllWindows() "
   ]
  },
  {
   "cell_type": "markdown",
   "id": "3b13eac4",
   "metadata": {},
   "source": [
    "## the weather for cloud "
   ]
  },
  {
   "cell_type": "code",
   "execution_count": 3,
   "id": "61c5ef36",
   "metadata": {},
   "outputs": [
    {
     "name": "stdout",
     "output_type": "stream",
     "text": [
      "2025-05-25 03:26:45.508990\n",
      " Image data insert to database successfully \n",
      "2025-05-25 03:27:56.547999\n",
      " Image data insert to database successfully \n",
      "2025-05-25 03:28:58.113530\n",
      " Image data insert to database successfully \n",
      "2025-05-25 03:29:59.589200\n",
      " Image data insert to database successfully \n",
      "2025-05-25 03:31:01.880472\n",
      " Image data insert to database successfully \n",
      "2025-05-25 03:32:04.788455\n",
      " Image data insert to database successfully \n"
     ]
    },
    {
     "name": "stderr",
     "output_type": "stream",
     "text": [
      "[mjpeg @ 0x70c5100] overread 8\n"
     ]
    },
    {
     "name": "stdout",
     "output_type": "stream",
     "text": [
      "2025-05-25 03:33:21.493552\n",
      " Image data insert to database successfully \n"
     ]
    },
    {
     "name": "stderr",
     "output_type": "stream",
     "text": [
      "[mjpeg @ 0x71f2d80] overread 6\n"
     ]
    },
    {
     "name": "stdout",
     "output_type": "stream",
     "text": [
      "2025-05-25 03:34:38.814096\n",
      " Image data insert to database successfully \n",
      "2025-05-25 03:35:36.915211\n",
      " Image data insert to database successfully \n",
      "2025-05-25 03:36:37.728669\n",
      " Image data insert to database successfully \n",
      "2025-05-25 03:37:34.345817\n",
      " Image data insert to database successfully \n",
      "2025-05-25 03:38:33.654593\n",
      " Image data insert to database successfully \n",
      "2025-05-25 03:39:40.323430\n",
      " Image data insert to database successfully \n",
      "2025-05-25 03:40:42.914075\n",
      " Image data insert to database successfully \n",
      "2025-05-25 03:41:45.923229\n",
      " Image data insert to database successfully \n",
      "2025-05-25 03:42:45.509082\n",
      " Image data insert to database successfully \n",
      "2025-05-25 03:43:49.685161\n",
      " Image data insert to database successfully \n"
     ]
    },
    {
     "name": "stderr",
     "output_type": "stream",
     "text": [
      "[mjpeg @ 0x71f2d80] overread 8\n"
     ]
    },
    {
     "name": "stdout",
     "output_type": "stream",
     "text": [
      "2025-05-25 03:45:01.119451\n",
      " Image data insert to database successfully \n",
      "2025-05-25 03:45:59.443467\n",
      " Image data insert to database successfully \n",
      "2025-05-25 03:46:58.850395\n",
      " Image data insert to database successfully \n",
      "2025-05-25 03:48:00.887116\n",
      " Image data insert to database successfully \n",
      "2025-05-25 03:49:01.222985\n",
      " Image data insert to database successfully \n"
     ]
    },
    {
     "name": "stderr",
     "output_type": "stream",
     "text": [
      "[mjpeg @ 0x70c5100] overread 8\n"
     ]
    },
    {
     "name": "stdout",
     "output_type": "stream",
     "text": [
      "2025-05-25 03:50:18.673555\n",
      " Image data insert to database successfully \n",
      "2025-05-25 03:51:21.176337\n",
      " Image data insert to database successfully \n",
      "2025-05-25 03:52:22.456005\n",
      " Image data insert to database successfully \n",
      "2025-05-25 03:53:20.465789\n",
      " Image data insert to database successfully \n",
      "2025-05-25 03:54:20.095248\n",
      " Image data insert to database successfully \n",
      "2025-05-25 03:55:18.818163\n",
      " Image data insert to database successfully \n",
      "2025-05-25 03:56:12.537763\n",
      " Image data insert to database successfully \n",
      "2025-05-25 03:57:07.960489\n",
      " Image data insert to database successfully \n"
     ]
    },
    {
     "name": "stderr",
     "output_type": "stream",
     "text": [
      "[mjpeg @ 0x741e580] overread 8\n"
     ]
    },
    {
     "name": "stdout",
     "output_type": "stream",
     "text": [
      "2025-05-25 03:58:23.696567\n",
      " Image data insert to database successfully \n",
      "2025-05-25 03:59:26.475822\n",
      " Image data insert to database successfully \n",
      "2025-05-25 04:00:29.610084\n",
      " Image data insert to database successfully \n",
      "2025-05-25 04:01:26.338247\n",
      " Image data insert to database successfully \n",
      "2025-05-25 04:02:26.323769\n",
      " Image data insert to database successfully \n",
      "2025-05-25 04:03:25.857052\n",
      " Image data insert to database successfully \n",
      "2025-05-25 04:04:25.704302\n",
      " Image data insert to database successfully \n",
      "2025-05-25 04:05:21.037635\n",
      " Image data insert to database successfully \n",
      "2025-05-25 04:06:15.369903\n",
      " Image data insert to database successfully \n",
      "2025-05-25 04:07:16.272192\n",
      " Image data insert to database successfully \n",
      "2025-05-25 04:08:15.085867\n",
      " Image data insert to database successfully \n"
     ]
    },
    {
     "name": "stderr",
     "output_type": "stream",
     "text": [
      "[mjpeg @ 0x71509c0] overread 6\n"
     ]
    },
    {
     "name": "stdout",
     "output_type": "stream",
     "text": [
      "2025-05-25 04:09:28.972341\n",
      " Image data insert to database successfully \n",
      "2025-05-25 04:10:25.491402\n",
      " Image data insert to database successfully \n",
      "2025-05-25 04:11:24.934303\n",
      " Image data insert to database successfully \n",
      "2025-05-25 04:12:39.353904\n",
      " Image data insert to database successfully \n",
      "2025-05-25 04:13:40.469471\n",
      " Image data insert to database successfully \n",
      "2025-05-25 04:14:40.671662\n",
      " Image data insert to database successfully \n",
      "2025-05-25 04:15:37.360713\n",
      " Image data insert to database successfully \n",
      "2025-05-25 04:16:37.601758\n",
      " Image data insert to database successfully \n",
      "2025-05-25 04:17:38.021635\n",
      " Image data insert to database successfully \n",
      "2025-05-25 04:18:27.738415\n",
      " Image data insert to database successfully \n",
      "2025-05-25 04:19:19.649273\n",
      " Image data insert to database successfully \n",
      "2025-05-25 04:20:16.646709\n",
      " Image data insert to database successfully \n"
     ]
    },
    {
     "name": "stderr",
     "output_type": "stream",
     "text": [
      "[mjpeg @ 0x741e580] overread 8\n"
     ]
    },
    {
     "name": "stdout",
     "output_type": "stream",
     "text": [
      "2025-05-25 04:21:30.126843\n",
      " Image data insert to database successfully \n",
      "2025-05-25 04:22:29.414039\n",
      " Image data insert to database successfully \n",
      "2025-05-25 04:23:28.715888\n",
      " Image data insert to database successfully \n",
      "2025-05-25 04:24:29.166598\n",
      " Image data insert to database successfully \n",
      "2025-05-25 04:25:29.893274\n",
      " Image data insert to database successfully \n",
      "2025-05-25 04:26:24.640485\n",
      " Image data insert to database successfully \n",
      "2025-05-25 04:27:26.969294\n",
      " Image data insert to database successfully \n",
      "2025-05-25 04:28:22.653024\n",
      " Image data insert to database successfully \n",
      "2025-05-25 04:29:20.622158\n",
      " Image data insert to database successfully \n",
      "2025-05-25 04:30:22.080154\n",
      " Image data insert to database successfully \n",
      "2025-05-25 04:31:22.038325\n",
      " Image data insert to database successfully \n",
      "2025-05-25 04:32:21.013416\n",
      " Image data insert to database successfully \n",
      "2025-05-25 04:33:18.523166\n",
      " Image data insert to database successfully \n",
      "2025-05-25 04:34:19.671432\n",
      " Image data insert to database successfully \n",
      "2025-05-25 04:35:19.340235\n",
      " Image data insert to database successfully \n",
      "2025-05-25 04:36:14.522424\n",
      " Image data insert to database successfully \n",
      "2025-05-25 04:37:14.803077\n",
      " Image data insert to database successfully \n",
      "2025-05-25 04:38:14.503417\n",
      " Image data insert to database successfully \n",
      "2025-05-25 04:39:10.351606\n",
      " Image data insert to database successfully \n",
      "2025-05-25 04:40:08.431254\n",
      " Image data insert to database successfully \n",
      "2025-05-25 04:41:06.107679\n",
      " Image data insert to database successfully \n",
      "2025-05-25 04:42:02.632850\n",
      " Image data insert to database successfully \n",
      "2025-05-25 04:43:00.644782\n",
      " Image data insert to database successfully \n",
      "2025-05-25 04:44:00.831474\n",
      " Image data insert to database successfully \n",
      "2025-05-25 04:44:54.232863\n",
      " Image data insert to database successfully \n",
      "2025-05-25 04:45:49.708708\n",
      " Image data insert to database successfully \n"
     ]
    },
    {
     "name": "stderr",
     "output_type": "stream",
     "text": [
      "[mjpeg @ 0x7304080] overread 8\n"
     ]
    },
    {
     "name": "stdout",
     "output_type": "stream",
     "text": [
      "2025-05-25 04:47:03.738944\n",
      " Image data insert to database successfully \n",
      "2025-05-25 04:48:04.722740\n",
      " Image data insert to database successfully \n"
     ]
    },
    {
     "name": "stderr",
     "output_type": "stream",
     "text": [
      "[mjpeg @ 0x70b94c0] overread 8\n"
     ]
    },
    {
     "name": "stdout",
     "output_type": "stream",
     "text": [
      "2025-05-25 04:49:19.338936\n",
      " Image data insert to database successfully \n",
      "2025-05-25 04:50:19.766272\n",
      " Image data insert to database successfully \n",
      "2025-05-25 04:51:22.315640\n",
      " Image data insert to database successfully \n",
      "2025-05-25 04:52:24.977427\n",
      " Image data insert to database successfully \n",
      "2025-05-25 04:53:24.411137\n",
      " Image data insert to database successfully \n",
      "2025-05-25 04:54:23.401059\n",
      " Image data insert to database successfully \n",
      "2025-05-25 04:55:21.022211\n",
      " Image data insert to database successfully \n",
      "2025-05-25 04:56:17.602004\n",
      " Image data insert to database successfully \n",
      "2025-05-25 04:57:20.903816\n",
      " Image data insert to database successfully \n",
      "2025-05-25 04:58:19.314034\n",
      " Image data insert to database successfully \n",
      "2025-05-25 04:59:16.346478\n",
      " Image data insert to database successfully \n"
     ]
    },
    {
     "name": "stderr",
     "output_type": "stream",
     "text": [
      "[mjpeg @ 0x7426740] overread 8\n"
     ]
    },
    {
     "name": "stdout",
     "output_type": "stream",
     "text": [
      "2025-05-25 05:00:29.483145\n",
      " Image data insert to database successfully \n",
      "2025-05-25 05:01:33.580135\n",
      " Image data insert to database successfully \n",
      "2025-05-25 05:02:34.931575\n",
      " Image data insert to database successfully \n",
      "2025-05-25 05:03:36.977125\n",
      " Image data insert to database successfully \n",
      "2025-05-25 05:04:37.481635\n",
      " Image data insert to database successfully \n",
      "2025-05-25 05:05:35.187979\n",
      " Image data insert to database successfully \n",
      "2025-05-25 05:06:33.046375\n",
      " Image data insert to database successfully \n",
      "2025-05-25 05:07:32.034173\n",
      " Image data insert to database successfully \n",
      "2025-05-25 05:08:31.497247\n",
      " Image data insert to database successfully \n",
      "2025-05-25 05:09:33.583385\n",
      " Image data insert to database successfully \n"
     ]
    },
    {
     "name": "stderr",
     "output_type": "stream",
     "text": [
      "[ WARN:0@30268.461] global cap_ffmpeg_impl.hpp:453 _opencv_ffmpeg_interrupt_callback Stream timeout triggered after 30019.283138 ms\n",
      "[ WARN:0@30268.461] global cap_ffmpeg_impl.hpp:453 _opencv_ffmpeg_interrupt_callback Stream timeout triggered after 30020.014192 ms\n",
      "[mjpeg @ 0x7426740] overread 8\n"
     ]
    },
    {
     "name": "stdout",
     "output_type": "stream",
     "text": [
      "2025-05-25 05:11:03.001628\n",
      " Image data insert to database successfully \n",
      "2025-05-25 05:12:00.134729\n",
      " Image data insert to database successfully \n",
      "2025-05-25 05:12:58.357681\n",
      " Image data insert to database successfully \n",
      "2025-05-25 05:13:58.686934\n",
      " Image data insert to database successfully \n",
      "2025-05-25 05:14:59.191926\n",
      " Image data insert to database successfully \n",
      "2025-05-25 05:16:00.528449\n",
      " Image data insert to database successfully \n",
      "2025-05-25 05:16:57.861680\n",
      " Image data insert to database successfully \n",
      "2025-05-25 05:17:59.210579\n",
      " Image data insert to database successfully \n",
      "2025-05-25 05:18:57.373213\n",
      " Image data insert to database successfully \n",
      "2025-05-25 05:19:57.247692\n",
      " Image data insert to database successfully \n"
     ]
    },
    {
     "name": "stderr",
     "output_type": "stream",
     "text": [
      "[mjpeg @ 0x71509c0] overread 1\n"
     ]
    },
    {
     "name": "stdout",
     "output_type": "stream",
     "text": [
      "2025-05-25 05:21:11.630081\n",
      " Image data insert to database successfully \n",
      "2025-05-25 05:22:20.543164\n",
      " Image data insert to database successfully \n",
      "2025-05-25 05:23:17.997119\n",
      " Image data insert to database successfully \n",
      "2025-05-25 05:24:19.134275\n",
      " Image data insert to database successfully \n",
      "2025-05-25 05:25:20.851091\n",
      " Image data insert to database successfully \n",
      "2025-05-25 05:26:36.000169\n",
      " Image data insert to database successfully \n",
      "2025-05-25 05:27:33.366156\n",
      " Image data insert to database successfully \n",
      "2025-05-25 05:28:33.345112\n",
      " Image data insert to database successfully \n",
      "2025-05-25 05:29:30.979107\n",
      " Image data insert to database successfully \n",
      "2025-05-25 05:30:47.979208\n",
      " Image data insert to database successfully \n",
      "2025-05-25 05:31:45.589466\n",
      " Image data insert to database successfully \n",
      "2025-05-25 05:32:48.789083\n",
      " Image data insert to database successfully \n",
      "2025-05-25 05:33:50.473104\n",
      " Image data insert to database successfully \n",
      "2025-05-25 05:34:51.836844\n",
      " Image data insert to database successfully \n",
      "2025-05-25 05:35:53.054411\n",
      " Image data insert to database successfully \n",
      "2025-05-25 05:37:07.136923\n",
      " Image data insert to database successfully \n",
      "2025-05-25 05:38:06.924065\n",
      " Image data insert to database successfully \n",
      "2025-05-25 05:39:08.782504\n",
      " Image data insert to database successfully \n"
     ]
    },
    {
     "name": "stderr",
     "output_type": "stream",
     "text": [
      "[mjpeg @ 0x741e580] overread 8\n"
     ]
    },
    {
     "name": "stdout",
     "output_type": "stream",
     "text": [
      "2025-05-25 05:40:27.138321\n",
      " Image data insert to database successfully \n",
      "2025-05-25 05:41:27.824034\n",
      " Image data insert to database successfully \n",
      "2025-05-25 05:42:29.874971\n",
      " Image data insert to database successfully \n",
      "2025-05-25 05:43:30.906899\n",
      " Image data insert to database successfully \n",
      "2025-05-25 05:44:35.410459\n",
      " Image data insert to database successfully \n",
      "2025-05-25 05:45:33.076375\n",
      " Image data insert to database successfully \n",
      "2025-05-25 05:46:31.050713\n",
      " Image data insert to database successfully \n",
      "2025-05-25 05:47:50.850663\n",
      " Image data insert to database successfully \n",
      "2025-05-25 05:48:53.738439\n",
      " Image data insert to database successfully \n",
      "2025-05-25 05:49:57.871599\n",
      " Image data insert to database successfully \n",
      "2025-05-25 05:51:10.648486\n",
      " Image data insert to database successfully \n",
      "2025-05-25 05:52:16.070814\n",
      " Image data insert to database successfully \n",
      "2025-05-25 05:53:18.808826\n",
      " Image data insert to database successfully \n",
      "2025-05-25 05:54:22.691386\n",
      " Image data insert to database successfully \n",
      "2025-05-25 05:55:40.117848\n",
      " Image data insert to database successfully \n",
      "2025-05-25 05:56:40.981310\n",
      " Image data insert to database successfully \n",
      "2025-05-25 05:57:45.780358\n",
      " Image data insert to database successfully \n",
      "2025-05-25 05:59:02.977899\n",
      " Image data insert to database successfully \n",
      "2025-05-25 06:00:03.835176\n",
      " Image data insert to database successfully \n",
      "2025-05-25 06:01:14.108005\n",
      " Image data insert to database successfully \n",
      "2025-05-25 06:02:18.230079\n",
      " Image data insert to database successfully \n",
      "2025-05-25 06:03:20.289308\n",
      " Image data insert to database successfully \n",
      "2025-05-25 06:04:17.865974\n",
      " Image data insert to database successfully \n",
      "2025-05-25 06:05:20.206143\n",
      " Image data insert to database successfully \n",
      "2025-05-25 06:06:21.902496\n",
      " Image data insert to database successfully \n",
      "2025-05-25 06:07:24.293977\n",
      " Image data insert to database successfully \n"
     ]
    },
    {
     "name": "stderr",
     "output_type": "stream",
     "text": [
      "[mjpeg @ 0x71509c0] overread 8\n"
     ]
    },
    {
     "name": "stdout",
     "output_type": "stream",
     "text": [
      "2025-05-25 06:08:41.132732\n",
      " Image data insert to database successfully \n",
      "2025-05-25 06:09:49.601564\n",
      " Image data insert to database successfully \n"
     ]
    },
    {
     "name": "stderr",
     "output_type": "stream",
     "text": [
      "[mjpeg @ 0x7304080] overread 8\n"
     ]
    },
    {
     "name": "stdout",
     "output_type": "stream",
     "text": [
      "2025-05-25 06:11:10.230087\n",
      " Image data insert to database successfully \n",
      "2025-05-25 06:12:11.953828\n",
      " Image data insert to database successfully \n",
      "2025-05-25 06:13:15.082286\n",
      " Image data insert to database successfully \n",
      "2025-05-25 06:14:18.283373\n",
      " Image data insert to database successfully \n",
      "2025-05-25 06:15:18.561948\n",
      " Image data insert to database successfully \n",
      "2025-05-25 06:16:24.563181\n",
      " Image data insert to database successfully \n",
      "2025-05-25 06:17:31.508712\n",
      " Image data insert to database successfully \n",
      "2025-05-25 06:18:35.810666\n",
      " Image data insert to database successfully \n",
      "2025-05-25 06:19:42.171513\n",
      " Image data insert to database successfully \n"
     ]
    },
    {
     "name": "stderr",
     "output_type": "stream",
     "text": [
      "[mjpeg @ 0x7318d00] overread 8\n"
     ]
    },
    {
     "name": "stdout",
     "output_type": "stream",
     "text": [
      "2025-05-25 06:21:00.777119\n",
      " Image data insert to database successfully \n",
      "2025-05-25 06:22:05.958197\n",
      " Image data insert to database successfully \n",
      "2025-05-25 06:23:12.537217\n",
      " Image data insert to database successfully \n",
      "2025-05-25 06:24:16.564280\n",
      " Image data insert to database successfully \n",
      "2025-05-25 06:25:18.480730\n",
      " Image data insert to database successfully \n",
      "2025-05-25 06:26:25.379880\n",
      " Image data insert to database successfully \n",
      "2025-05-25 06:27:30.574933\n",
      " Image data insert to database successfully \n",
      "2025-05-25 06:28:36.985610\n",
      " Image data insert to database successfully \n",
      "2025-05-25 06:29:41.013569\n",
      " Image data insert to database successfully \n",
      "2025-05-25 06:30:51.187969\n",
      " Image data insert to database successfully \n"
     ]
    },
    {
     "name": "stderr",
     "output_type": "stream",
     "text": [
      "[mjpeg @ 0x7318d00] overread 8\n"
     ]
    },
    {
     "name": "stdout",
     "output_type": "stream",
     "text": [
      "2025-05-25 06:32:14.271683\n",
      " Image data insert to database successfully \n",
      "2025-05-25 06:33:17.876962\n",
      " Image data insert to database successfully \n",
      "2025-05-25 06:34:20.108456\n",
      " Image data insert to database successfully \n",
      "2025-05-25 06:35:25.569267\n",
      " Image data insert to database successfully \n",
      "2025-05-25 06:36:26.161311\n",
      " Image data insert to database successfully \n",
      "2025-05-25 06:37:30.337114\n",
      " Image data insert to database successfully \n",
      "2025-05-25 06:38:36.318886\n",
      " Image data insert to database successfully \n",
      "2025-05-25 06:39:40.017463\n",
      " Image data insert to database successfully \n",
      "2025-05-25 06:40:45.683529\n",
      " Image data insert to database successfully \n",
      "2025-05-25 06:41:52.477935\n",
      " Image data insert to database successfully \n",
      "2025-05-25 06:42:57.787762\n",
      " Image data insert to database successfully \n",
      "2025-05-25 06:44:06.047380\n",
      " Image data insert to database successfully \n",
      "2025-05-25 06:45:08.441590\n",
      " Image data insert to database successfully \n",
      "2025-05-25 06:46:14.335500\n",
      " Image data insert to database successfully \n",
      "2025-05-25 06:47:15.940861\n",
      " Image data insert to database successfully \n",
      "2025-05-25 06:48:20.070876\n",
      " Image data insert to database successfully \n",
      "2025-05-25 06:49:24.783341\n",
      " Image data insert to database successfully \n",
      "2025-05-25 06:50:31.179856\n",
      " Image data insert to database successfully \n",
      "2025-05-25 06:51:32.545878\n",
      " Image data insert to database successfully \n",
      "2025-05-25 06:52:37.461247\n",
      " Image data insert to database successfully \n",
      "2025-05-25 06:53:43.328260\n",
      " Image data insert to database successfully \n"
     ]
    },
    {
     "name": "stderr",
     "output_type": "stream",
     "text": [
      "[mjpeg @ 0x7318d00] overread 8\n"
     ]
    },
    {
     "name": "stdout",
     "output_type": "stream",
     "text": [
      "2025-05-25 06:55:03.327291\n",
      " Image data insert to database successfully \n",
      "2025-05-25 06:56:06.232131\n",
      " Image data insert to database successfully \n",
      "2025-05-25 06:57:07.543168\n",
      " Image data insert to database successfully \n",
      "2025-05-25 06:58:14.076553\n",
      " Image data insert to database successfully \n",
      "2025-05-25 06:59:16.782633\n",
      " Image data insert to database successfully \n",
      "2025-05-25 07:00:22.030167\n",
      " Image data insert to database successfully \n",
      "2025-05-25 07:01:29.712363\n",
      " Image data insert to database successfully \n",
      "2025-05-25 07:02:33.539881\n",
      " Image data insert to database successfully \n",
      "2025-05-25 07:03:36.219076\n",
      " Image data insert to database successfully \n",
      "2025-05-25 07:04:43.638675\n",
      " Image data insert to database successfully \n",
      "2025-05-25 07:05:49.623712\n",
      " Image data insert to database successfully \n",
      "2025-05-25 07:06:55.413361\n",
      " Image data insert to database successfully \n",
      "2025-05-25 07:08:00.596455\n",
      " Image data insert to database successfully \n",
      "2025-05-25 07:09:07.206326\n",
      " Image data insert to database successfully \n",
      "2025-05-25 07:10:17.264162\n",
      " Image data insert to database successfully \n",
      "2025-05-25 07:11:22.630349\n",
      " Image data insert to database successfully \n",
      "2025-05-25 07:12:26.108489\n",
      " Image data insert to database successfully \n",
      "2025-05-25 07:13:29.708006\n",
      " Image data insert to database successfully \n",
      "2025-05-25 07:14:38.504558\n",
      " Image data insert to database successfully \n",
      "2025-05-25 07:15:48.127779\n",
      " Image data insert to database successfully \n",
      "2025-05-25 07:16:53.406329\n",
      " Image data insert to database successfully \n"
     ]
    },
    {
     "name": "stderr",
     "output_type": "stream",
     "text": [
      "[mjpeg @ 0x7426740] overread 8\n"
     ]
    },
    {
     "name": "stdout",
     "output_type": "stream",
     "text": [
      "2025-05-25 07:18:12.456177\n",
      " Image data insert to database successfully \n",
      "2025-05-25 07:19:15.823292\n",
      " Image data insert to database successfully \n",
      "2025-05-25 07:20:24.091882\n",
      " Image data insert to database successfully \n",
      "2025-05-25 07:21:29.019326\n",
      " Image data insert to database successfully \n",
      "2025-05-25 07:22:35.691960\n",
      " Image data insert to database successfully \n",
      "2025-05-25 07:23:44.556428\n",
      " Image data insert to database successfully \n",
      "2025-05-25 07:24:48.632747\n",
      " Image data insert to database successfully \n",
      "2025-05-25 07:25:53.666697\n",
      " Image data insert to database successfully \n",
      "2025-05-25 07:26:55.753720\n",
      " Image data insert to database successfully \n",
      "2025-05-25 07:27:57.203982\n",
      " Image data insert to database successfully \n"
     ]
    },
    {
     "name": "stderr",
     "output_type": "stream",
     "text": [
      "[mjpeg @ 0x70b94c0] overread 8\n"
     ]
    },
    {
     "name": "stdout",
     "output_type": "stream",
     "text": [
      "2025-05-25 07:29:13.811855\n",
      " Image data insert to database successfully \n",
      "2025-05-25 07:30:19.163942\n",
      " Image data insert to database successfully \n",
      "2025-05-25 07:31:25.898579\n",
      " Image data insert to database successfully \n",
      "2025-05-25 07:32:27.818911\n",
      " Image data insert to database successfully \n",
      "2025-05-25 07:33:31.139475\n",
      " Image data insert to database successfully \n",
      "2025-05-25 07:34:37.593152\n",
      " Image data insert to database successfully \n",
      "2025-05-25 07:35:38.694480\n",
      " Image data insert to database successfully \n",
      "2025-05-25 07:36:45.538585\n",
      " Image data insert to database successfully \n",
      "2025-05-25 07:37:50.992664\n",
      " Image data insert to database successfully \n",
      "2025-05-25 07:38:56.629198\n",
      " Image data insert to database successfully \n",
      "2025-05-25 07:40:02.868637\n",
      " Image data insert to database successfully \n",
      "2025-05-25 07:41:13.491655\n",
      " Image data insert to database successfully \n",
      "2025-05-25 07:42:17.555072\n",
      " Image data insert to database successfully \n",
      "2025-05-25 07:43:18.328504\n",
      " Image data insert to database successfully \n",
      "2025-05-25 07:44:20.927391\n",
      " Image data insert to database successfully \n",
      "2025-05-25 07:45:27.234395\n",
      " Image data insert to database successfully \n",
      "2025-05-25 07:46:32.241290\n",
      " Image data insert to database successfully \n",
      "2025-05-25 07:47:40.782533\n",
      " Image data insert to database successfully \n",
      "2025-05-25 07:48:47.097206\n",
      " Image data insert to database successfully \n"
     ]
    },
    {
     "name": "stderr",
     "output_type": "stream",
     "text": [
      "[mjpeg @ 0x7318d00] overread 8\n"
     ]
    },
    {
     "name": "stdout",
     "output_type": "stream",
     "text": [
      "2025-05-25 07:50:13.308180\n",
      " Image data insert to database successfully \n",
      "2025-05-25 07:51:19.496384\n",
      " Image data insert to database successfully \n",
      "2025-05-25 07:52:19.442810\n",
      " Image data insert to database successfully \n"
     ]
    },
    {
     "ename": "KeyboardInterrupt",
     "evalue": "",
     "output_type": "error",
     "traceback": [
      "\u001b[31m---------------------------------------------------------------------------\u001b[39m",
      "\u001b[31mKeyboardInterrupt\u001b[39m                         Traceback (most recent call last)",
      "\u001b[36mCell\u001b[39m\u001b[36m \u001b[39m\u001b[32mIn[3]\u001b[39m\u001b[32m, line 28\u001b[39m\n\u001b[32m     24\u001b[39m i = \u001b[32m0\u001b[39m\n\u001b[32m     25\u001b[39m \u001b[38;5;28;01mwhile\u001b[39;00m \u001b[38;5;28;01mTrue\u001b[39;00m :\n\u001b[32m---> \u001b[39m\u001b[32m28\u001b[39m     cap = \u001b[43mcv2\u001b[49m\u001b[43m.\u001b[49m\u001b[43mVideoCapture\u001b[49m\u001b[43m(\u001b[49m\u001b[43murl\u001b[49m\u001b[43m)\u001b[49m\n\u001b[32m     30\u001b[39m     ret,frame = cap.read()\n\u001b[32m     32\u001b[39m     \u001b[38;5;28;01mif\u001b[39;00m \u001b[38;5;129;01mnot\u001b[39;00m ret :\n",
      "\u001b[31mKeyboardInterrupt\u001b[39m: "
     ]
    }
   ],
   "source": [
    "\n",
    "import cv2 \n",
    "import mysql.connector as con \n",
    "import time \n",
    "from datetime import datetime\n",
    "\n",
    "url = \"https://cctvn.freeway.gov.tw/abs2mjpg/bmjpg?camera=13380\"\n",
    "\n",
    "# connect mysql \n",
    "\n",
    "cursor = con.connect(\n",
    "    host = \"172.26.176.1\",\n",
    "    user = 'ruizhong' ,\n",
    "    password = \"123456\",\n",
    "    database = \"the_volume_of_car\"\n",
    ")\n",
    "\n",
    "cur = cursor.cursor()\n",
    "\n",
    "# input order that the  sql need \n",
    "\n",
    "query = \"insert into cloud_image (image_data,capture_time) values (%s,%s)\"\n",
    "\n",
    "\n",
    "i = 0\n",
    "while True :\n",
    "    \n",
    "    \n",
    "    cap = cv2.VideoCapture(url)\n",
    "    \n",
    "    ret,frame = cap.read()\n",
    "    \n",
    "    if not ret :\n",
    "        \n",
    "        cap = cv2.VideoCapture(url)\n",
    "        \n",
    "        ret,frame = cap.read()\n",
    "        \n",
    "    \n",
    "    \n",
    "   \n",
    "    ret , buffer = cv2.imencode(\".jpg\",frame)\n",
    "    \n",
    "    ##   \n",
    "    \n",
    "    if i % 200 == 0:\n",
    "        \n",
    "        cur.execute(\"\"\"\n",
    "        \n",
    "        CREATE TABLE IF NOT EXISTS cloud_image (\n",
    "            id INT AUTO_INCREMENT PRIMARY KEY,\n",
    "            image_data BLOB NOT NULL,\n",
    "            capture_time DATETIME NOT NULL\n",
    "        )\n",
    "    \"\"\"\n",
    "        )\n",
    "        \n",
    "        cursor.commit()\n",
    "        \n",
    "        \n",
    "        # store into mysql \n",
    "        \n",
    "        capture_time = datetime.now()\n",
    "        \n",
    "        print(capture_time)\n",
    "        \n",
    "        image_bytes = buffer.tobytes()\n",
    "        \n",
    "        \n",
    "        cur.execute(query,(image_bytes,capture_time))\n",
    "        \n",
    "        cursor.commit()\n",
    "        \n",
    "        print(\" Image data insert to database successfully \")\n",
    "    \n",
    "    # we collect 5000 image data \n",
    "    if i ==  350000:\n",
    "        \n",
    "        print( \"  collecting image data is enough \")\n",
    "        \n",
    "        break  \n",
    "    \n",
    "    i += 1 \n",
    "    \n",
    "\n",
    "cursor.close()\n",
    "cap.release()\n",
    "\n",
    "cv2.destroyAllWindows() "
   ]
  },
  {
   "cell_type": "markdown",
   "id": "13646d22",
   "metadata": {},
   "source": [
    "## select image image data from database  "
   ]
  },
  {
   "cell_type": "code",
   "execution_count": 2,
   "id": "334046c7",
   "metadata": {},
   "outputs": [],
   "source": [
    "import mysql.connector as con \n",
    "\n",
    "# connect mysql \n",
    "\n",
    "cursor = con.connect(\n",
    "    host = \"172.26.176.1\",\n",
    "    user = 'ruizhong' ,\n",
    "    password = \"123456\",\n",
    "    database = \"the_volume_of_car\"\n",
    ")\n",
    "\n",
    "cur = cursor.cursor()\n"
   ]
  },
  {
   "cell_type": "code",
   "execution_count": 5,
   "id": "2a46f820",
   "metadata": {},
   "outputs": [
    {
     "name": "stderr",
     "output_type": "stream",
     "text": [
      "<>:14: SyntaxWarning: invalid escape sequence '\\h'\n",
      "<>:14: SyntaxWarning: invalid escape sequence '\\h'\n",
      "/tmp/ipykernel_2055/1508688402.py:14: SyntaxWarning: invalid escape sequence '\\h'\n",
      "  folder_name = '\\\\wsl$\\home\\ruizhong\\entire_project\\project_version5\\model_training\\morning_image'\n"
     ]
    }
   ],
   "source": [
    "import os \n",
    "\n",
    "query = 'SELECT image_data,capture_time FROM image;'\n",
    "\n",
    "\n",
    "time_list = []\n",
    "\n",
    "image_list = []\n",
    "\n",
    "\n",
    "cur.execute(query)\n",
    "\n",
    "\n",
    "folder_name = '\\\\wsl$\\home\\ruizhong\\entire_project\\project_version5\\model_training\\morning_image'\n",
    "\n",
    "\n",
    "if not os.path.exists(folder_name):\n",
    "    \n",
    "    os.mkdir(folder_name)\n",
    "\n",
    "\n",
    "for image,capture_time in cur.fetchall():    \n",
    "    \n",
    "    image_list.append(image)\n",
    "\n",
    "\n",
    "    file_path = os.path.join(folder_name,f'{capture_time}.jpeg')\n",
    "    \n",
    "    try :\n",
    "        \n",
    "        with open(file_path,'wb') as f:\n",
    "            \n",
    "            f.write(image)\n",
    "    \n",
    "    except Exception as e :\n",
    "        \n",
    "        print(e)   "
   ]
  },
  {
   "cell_type": "code",
   "execution_count": 6,
   "id": "781a0557",
   "metadata": {},
   "outputs": [
    {
     "data": {
      "text/plain": [
       "131"
      ]
     },
     "execution_count": 6,
     "metadata": {},
     "output_type": "execute_result"
    }
   ],
   "source": [
    "len(image_list)"
   ]
  },
  {
   "cell_type": "code",
   "execution_count": 7,
   "id": "6f5f964c",
   "metadata": {},
   "outputs": [],
   "source": [
    "import os \n",
    "\n",
    "query = 'SELECT image_data,capture_time FROM cloud_image;'\n",
    "\n",
    "\n",
    "time_list = []\n",
    "\n",
    "image_list = []\n",
    "\n",
    "\n",
    "cur.execute(query)\n",
    "\n",
    "\n",
    "folder_name = 'night_image'\n",
    "\n",
    "if not os.path.exists(folder_name):\n",
    "    \n",
    "    os.mkdir(folder_name)\n",
    "\n",
    "\n",
    "for image,capture_time in cur.fetchall():    \n",
    "    \n",
    "    image_list.append(image)\n",
    "\n",
    "\n",
    "    file_path = os.path.join(folder_name,f'{capture_time}.jpeg')\n",
    "    \n",
    "    try :\n",
    "        \n",
    "        with open(file_path,'wb') as f:\n",
    "            \n",
    "            f.write(image)\n",
    "    \n",
    "    except Exception as e :\n",
    "        \n",
    "        print(e)   "
   ]
  },
  {
   "cell_type": "code",
   "execution_count": 8,
   "id": "4380ef2f",
   "metadata": {},
   "outputs": [
    {
     "data": {
      "text/plain": [
       "596"
      ]
     },
     "execution_count": 8,
     "metadata": {},
     "output_type": "execute_result"
    }
   ],
   "source": [
    "len(image_list)"
   ]
  },
  {
   "cell_type": "markdown",
   "id": "1721cb2f",
   "metadata": {},
   "source": [
    "## train model \n",
    "\n",
    "\n",
    "    following step\n",
    "\n",
    "    1 、 100 epoch \n",
    "\n",
    "    2 、 try batch 16 、 32 、 64 and 128 \n",
    "\n",
    "    3 、  \n"
   ]
  },
  {
   "cell_type": "code",
   "execution_count": null,
   "id": "af31ad3f",
   "metadata": {},
   "outputs": [],
   "source": [
    "%pip install roboflow\n",
    "\n",
    "from roboflow import Roboflow\n",
    "rf = Roboflow(api_key=\"sc25U0aTO4SKcNXArv2N\")\n",
    "project = rf.workspace(\"rui-zhong\").project(\"car-detection-djzcb\")\n",
    "version = project.version(2)\n",
    "dataset = version.download(\"coco\")"
   ]
  },
  {
   "cell_type": "code",
   "execution_count": 14,
   "id": "b6aa2d4c",
   "metadata": {},
   "outputs": [
    {
     "name": "stderr",
     "output_type": "stream",
     "text": [
      "UsageError: Line magic function `%` not found.\n"
     ]
    }
   ],
   "source": [
    "% yolo train model=yolo12n.pt data=./car-detection-2/data.yaml epochs=50 imgsz=640 batch=16 name=car_detection_train"
   ]
  },
  {
   "cell_type": "code",
   "execution_count": 21,
   "id": "80d2db6f",
   "metadata": {},
   "outputs": [
    {
     "name": "stdout",
     "output_type": "stream",
     "text": [
      "Ultralytics 8.3.146 🚀 Python-3.12.9 torch-2.7.0+cu126 CUDA:1 (NVIDIA GeForce RTX 4060 Laptop GPU, 8188MiB)\n",
      "\u001b[34m\u001b[1mengine/trainer: \u001b[0magnostic_nms=False, amp=True, augment=False, auto_augment=randaugment, batch=16, bgr=0.0, box=7.5, cache=False, cfg=None, classes=None, close_mosaic=10, cls=0.5, conf=None, copy_paste=0.0, copy_paste_mode=flip, cos_lr=False, cutmix=0.0, data=/home/ruizhong/entire_project/project_version5/model_training/car-detection--2/data.yaml, degrees=0.0, deterministic=True, device=1, dfl=1.5, dnn=False, dropout=0.0, dynamic=False, embed=None, epochs=100, erasing=0.4, exist_ok=False, fliplr=0.5, flipud=0.0, format=torchscript, fraction=1.0, freeze=None, half=False, hsv_h=0.015, hsv_s=0.7, hsv_v=0.4, imgsz=640, int8=False, iou=0.7, keras=False, kobj=1.0, line_width=None, lr0=0.01, lrf=0.01, mask_ratio=4, max_det=300, mixup=0.0, mode=train, model=yolov8n.pt, momentum=0.937, mosaic=1.0, multi_scale=False, name=train6, nbs=64, nms=False, opset=None, optimize=False, optimizer=auto, overlap_mask=True, patience=100, perspective=0.0, plots=True, pose=12.0, pretrained=True, profile=False, project=None, rect=False, resume=False, retina_masks=False, save=True, save_conf=False, save_crop=False, save_dir=runs/detect/train6, save_frames=False, save_json=False, save_period=-1, save_txt=False, scale=0.5, seed=0, shear=0.0, show=False, show_boxes=True, show_conf=True, show_labels=True, simplify=True, single_cls=False, source=None, split=val, stream_buffer=False, task=detect, time=None, tracker=botsort.yaml, translate=0.1, val=True, verbose=True, vid_stride=1, visualize=False, warmup_bias_lr=0.1, warmup_epochs=3.0, warmup_momentum=0.8, weight_decay=0.0005, workers=8, workspace=None\n",
      "Overriding model.yaml nc=80 with nc=3\n",
      "\n",
      "                   from  n    params  module                                       arguments                     \n",
      "  0                  -1  1       464  ultralytics.nn.modules.conv.Conv             [3, 16, 3, 2]                 \n",
      "  1                  -1  1      4672  ultralytics.nn.modules.conv.Conv             [16, 32, 3, 2]                \n",
      "  2                  -1  1      7360  ultralytics.nn.modules.block.C2f             [32, 32, 1, True]             \n",
      "  3                  -1  1     18560  ultralytics.nn.modules.conv.Conv             [32, 64, 3, 2]                \n",
      "  4                  -1  2     49664  ultralytics.nn.modules.block.C2f             [64, 64, 2, True]             \n",
      "  5                  -1  1     73984  ultralytics.nn.modules.conv.Conv             [64, 128, 3, 2]               \n",
      "  6                  -1  2    197632  ultralytics.nn.modules.block.C2f             [128, 128, 2, True]           \n",
      "  7                  -1  1    295424  ultralytics.nn.modules.conv.Conv             [128, 256, 3, 2]              \n",
      "  8                  -1  1    460288  ultralytics.nn.modules.block.C2f             [256, 256, 1, True]           \n",
      "  9                  -1  1    164608  ultralytics.nn.modules.block.SPPF            [256, 256, 5]                 \n",
      " 10                  -1  1         0  torch.nn.modules.upsampling.Upsample         [None, 2, 'nearest']          \n",
      " 11             [-1, 6]  1         0  ultralytics.nn.modules.conv.Concat           [1]                           \n",
      " 12                  -1  1    148224  ultralytics.nn.modules.block.C2f             [384, 128, 1]                 \n",
      " 13                  -1  1         0  torch.nn.modules.upsampling.Upsample         [None, 2, 'nearest']          \n",
      " 14             [-1, 4]  1         0  ultralytics.nn.modules.conv.Concat           [1]                           \n",
      " 15                  -1  1     37248  ultralytics.nn.modules.block.C2f             [192, 64, 1]                  \n",
      " 16                  -1  1     36992  ultralytics.nn.modules.conv.Conv             [64, 64, 3, 2]                \n",
      " 17            [-1, 12]  1         0  ultralytics.nn.modules.conv.Concat           [1]                           \n",
      " 18                  -1  1    123648  ultralytics.nn.modules.block.C2f             [192, 128, 1]                 \n",
      " 19                  -1  1    147712  ultralytics.nn.modules.conv.Conv             [128, 128, 3, 2]              \n",
      " 20             [-1, 9]  1         0  ultralytics.nn.modules.conv.Concat           [1]                           \n",
      " 21                  -1  1    493056  ultralytics.nn.modules.block.C2f             [384, 256, 1]                 \n",
      " 22        [15, 18, 21]  1    751897  ultralytics.nn.modules.head.Detect           [3, [64, 128, 256]]           \n",
      "Model summary: 129 layers, 3,011,433 parameters, 3,011,417 gradients, 8.2 GFLOPs\n",
      "\n",
      "Transferred 319/355 items from pretrained weights\n",
      "Freezing layer 'model.22.dfl.conv.weight'\n",
      "\u001b[34m\u001b[1mAMP: \u001b[0mrunning Automatic Mixed Precision (AMP) checks...\n",
      "\u001b[34m\u001b[1mAMP: \u001b[0mchecks passed ✅\n",
      "\u001b[34m\u001b[1mtrain: \u001b[0mFast image access ✅ (ping: 0.0±0.0 ms, read: 3341.6±826.5 MB/s, size: 61.8 KB)\n"
     ]
    },
    {
     "name": "stderr",
     "output_type": "stream",
     "text": [
      "\u001b[34m\u001b[1mtrain: \u001b[0mScanning /home/ruizhong/entire_project/project_version5/model_training/car-detection--2/train.cache... 0 images, 81 backgrounds, 0 corrupt: 100%|██████████| 81/81 [00:00<?, ?it/s]"
     ]
    },
    {
     "name": "stdout",
     "output_type": "stream",
     "text": [
      "WARNING ⚠️ Labels are missing or empty in /home/ruizhong/entire_project/project_version5/model_training/car-detection--2/train.cache, training may not work correctly. See https://docs.ultralytics.com/datasets for dataset formatting guidance.\n"
     ]
    },
    {
     "name": "stderr",
     "output_type": "stream",
     "text": [
      "\n"
     ]
    },
    {
     "name": "stdout",
     "output_type": "stream",
     "text": [
      "\u001b[34m\u001b[1mval: \u001b[0mFast image access ✅ (ping: 0.0±0.0 ms, read: 109.8±17.5 MB/s, size: 64.5 KB)\n"
     ]
    },
    {
     "name": "stderr",
     "output_type": "stream",
     "text": [
      "\u001b[34m\u001b[1mval: \u001b[0mScanning /home/ruizhong/entire_project/project_version5/model_training/car-detection--2/valid.cache... 0 images, 23 backgrounds, 0 corrupt: 100%|██████████| 23/23 [00:00<?, ?it/s]"
     ]
    },
    {
     "name": "stdout",
     "output_type": "stream",
     "text": [
      "WARNING ⚠️ Labels are missing or empty in /home/ruizhong/entire_project/project_version5/model_training/car-detection--2/valid.cache, training may not work correctly. See https://docs.ultralytics.com/datasets for dataset formatting guidance.\n"
     ]
    },
    {
     "name": "stderr",
     "output_type": "stream",
     "text": [
      "\n"
     ]
    },
    {
     "name": "stdout",
     "output_type": "stream",
     "text": [
      "Plotting labels to runs/detect/train6/labels.jpg... \n",
      "WARNING ⚠️ zero-size array to reduction operation maximum which has no identity\n",
      "\u001b[34m\u001b[1moptimizer:\u001b[0m 'optimizer=auto' found, ignoring 'lr0=0.01' and 'momentum=0.937' and determining best 'optimizer', 'lr0' and 'momentum' automatically... \n",
      "\u001b[34m\u001b[1moptimizer:\u001b[0m AdamW(lr=0.001429, momentum=0.9) with parameter groups 57 weight(decay=0.0), 64 weight(decay=0.0005), 63 bias(decay=0.0)\n",
      "Image sizes 640 train, 640 val\n",
      "Using 8 dataloader workers\n",
      "Logging results to \u001b[1mruns/detect/train6\u001b[0m\n",
      "Starting training for 100 epochs...\n",
      "\n",
      "      Epoch    GPU_mem   box_loss   cls_loss   dfl_loss  Instances       Size\n"
     ]
    },
    {
     "name": "stderr",
     "output_type": "stream",
     "text": [
      "      1/100      2.64G          0      107.1          0          0        640: 100%|██████████| 6/6 [00:02<00:00,  2.30it/s]\n",
      "                 Class     Images  Instances      Box(P          R      mAP50  mAP50-95): 100%|██████████| 1/1 [00:00<00:00,  4.35it/s]"
     ]
    },
    {
     "name": "stdout",
     "output_type": "stream",
     "text": [
      "                   all         23          0          0          0          0          0\n",
      "WARNING ⚠️ no labels found in detect set, can not compute metrics without labels\n"
     ]
    },
    {
     "name": "stderr",
     "output_type": "stream",
     "text": [
      "\n",
      "/home/ruizhong/anaconda3/envs/model_training/lib/python3.12/site-packages/ultralytics/utils/metrics.py:730: RuntimeWarning: Mean of empty slice.\n",
      "  i = smooth(f1_curve.mean(0), 0.1).argmax()  # max F1 index\n",
      "/home/ruizhong/anaconda3/envs/model_training/lib/python3.12/site-packages/numpy/_core/_methods.py:137: RuntimeWarning: invalid value encountered in divide\n",
      "  ret = um.true_divide(\n"
     ]
    },
    {
     "name": "stdout",
     "output_type": "stream",
     "text": [
      "\n",
      "      Epoch    GPU_mem   box_loss   cls_loss   dfl_loss  Instances       Size\n"
     ]
    },
    {
     "name": "stderr",
     "output_type": "stream",
     "text": [
      "      2/100      2.64G          0      106.5          0          0        640: 100%|██████████| 6/6 [00:00<00:00,  6.37it/s]\n",
      "                 Class     Images  Instances      Box(P          R      mAP50  mAP50-95): 100%|██████████| 1/1 [00:00<00:00,  5.70it/s]"
     ]
    },
    {
     "name": "stdout",
     "output_type": "stream",
     "text": [
      "                   all         23          0          0          0          0          0\n",
      "WARNING ⚠️ no labels found in detect set, can not compute metrics without labels\n"
     ]
    },
    {
     "name": "stderr",
     "output_type": "stream",
     "text": [
      "\n",
      "/home/ruizhong/anaconda3/envs/model_training/lib/python3.12/site-packages/ultralytics/utils/metrics.py:730: RuntimeWarning: Mean of empty slice.\n",
      "  i = smooth(f1_curve.mean(0), 0.1).argmax()  # max F1 index\n",
      "/home/ruizhong/anaconda3/envs/model_training/lib/python3.12/site-packages/numpy/_core/_methods.py:137: RuntimeWarning: invalid value encountered in divide\n",
      "  ret = um.true_divide(\n"
     ]
    },
    {
     "name": "stdout",
     "output_type": "stream",
     "text": [
      "\n",
      "      Epoch    GPU_mem   box_loss   cls_loss   dfl_loss  Instances       Size\n"
     ]
    },
    {
     "name": "stderr",
     "output_type": "stream",
     "text": [
      "      3/100      2.64G          0      102.1          0          0        640: 100%|██████████| 6/6 [00:00<00:00,  6.38it/s]\n",
      "                 Class     Images  Instances      Box(P          R      mAP50  mAP50-95): 100%|██████████| 1/1 [00:00<00:00,  6.03it/s]"
     ]
    },
    {
     "name": "stdout",
     "output_type": "stream",
     "text": [
      "                   all         23          0          0          0          0          0\n",
      "WARNING ⚠️ no labels found in detect set, can not compute metrics without labels\n"
     ]
    },
    {
     "name": "stderr",
     "output_type": "stream",
     "text": [
      "\n",
      "/home/ruizhong/anaconda3/envs/model_training/lib/python3.12/site-packages/ultralytics/utils/metrics.py:730: RuntimeWarning: Mean of empty slice.\n",
      "  i = smooth(f1_curve.mean(0), 0.1).argmax()  # max F1 index\n",
      "/home/ruizhong/anaconda3/envs/model_training/lib/python3.12/site-packages/numpy/_core/_methods.py:137: RuntimeWarning: invalid value encountered in divide\n",
      "  ret = um.true_divide(\n"
     ]
    },
    {
     "name": "stdout",
     "output_type": "stream",
     "text": [
      "\n",
      "      Epoch    GPU_mem   box_loss   cls_loss   dfl_loss  Instances       Size\n"
     ]
    },
    {
     "name": "stderr",
     "output_type": "stream",
     "text": [
      "      4/100      2.64G          0       95.8          0          0        640: 100%|██████████| 6/6 [00:00<00:00,  7.09it/s]\n",
      "                 Class     Images  Instances      Box(P          R      mAP50  mAP50-95): 100%|██████████| 1/1 [00:00<00:00,  3.54it/s]"
     ]
    },
    {
     "name": "stdout",
     "output_type": "stream",
     "text": [
      "                   all         23          0          0          0          0          0\n",
      "WARNING ⚠️ no labels found in detect set, can not compute metrics without labels\n"
     ]
    },
    {
     "name": "stderr",
     "output_type": "stream",
     "text": [
      "\n",
      "/home/ruizhong/anaconda3/envs/model_training/lib/python3.12/site-packages/ultralytics/utils/metrics.py:730: RuntimeWarning: Mean of empty slice.\n",
      "  i = smooth(f1_curve.mean(0), 0.1).argmax()  # max F1 index\n",
      "/home/ruizhong/anaconda3/envs/model_training/lib/python3.12/site-packages/numpy/_core/_methods.py:137: RuntimeWarning: invalid value encountered in divide\n",
      "  ret = um.true_divide(\n"
     ]
    },
    {
     "name": "stdout",
     "output_type": "stream",
     "text": [
      "\n",
      "      Epoch    GPU_mem   box_loss   cls_loss   dfl_loss  Instances       Size\n"
     ]
    },
    {
     "name": "stderr",
     "output_type": "stream",
     "text": [
      "      5/100      2.64G          0      90.02          0          0        640: 100%|██████████| 6/6 [00:01<00:00,  5.85it/s]\n",
      "                 Class     Images  Instances      Box(P          R      mAP50  mAP50-95): 100%|██████████| 1/1 [00:00<00:00,  9.11it/s]"
     ]
    },
    {
     "name": "stdout",
     "output_type": "stream",
     "text": [
      "                   all         23          0          0          0          0          0\n",
      "WARNING ⚠️ no labels found in detect set, can not compute metrics without labels\n"
     ]
    },
    {
     "name": "stderr",
     "output_type": "stream",
     "text": [
      "\n",
      "/home/ruizhong/anaconda3/envs/model_training/lib/python3.12/site-packages/ultralytics/utils/metrics.py:730: RuntimeWarning: Mean of empty slice.\n",
      "  i = smooth(f1_curve.mean(0), 0.1).argmax()  # max F1 index\n",
      "/home/ruizhong/anaconda3/envs/model_training/lib/python3.12/site-packages/numpy/_core/_methods.py:137: RuntimeWarning: invalid value encountered in divide\n",
      "  ret = um.true_divide(\n"
     ]
    },
    {
     "name": "stdout",
     "output_type": "stream",
     "text": [
      "\n",
      "      Epoch    GPU_mem   box_loss   cls_loss   dfl_loss  Instances       Size\n"
     ]
    },
    {
     "name": "stderr",
     "output_type": "stream",
     "text": [
      "      6/100      2.64G          0      84.54          0          0        640: 100%|██████████| 6/6 [00:00<00:00,  6.62it/s]\n",
      "                 Class     Images  Instances      Box(P          R      mAP50  mAP50-95): 100%|██████████| 1/1 [00:00<00:00,  8.85it/s]"
     ]
    },
    {
     "name": "stdout",
     "output_type": "stream",
     "text": [
      "                   all         23          0          0          0          0          0\n",
      "WARNING ⚠️ no labels found in detect set, can not compute metrics without labels\n"
     ]
    },
    {
     "name": "stderr",
     "output_type": "stream",
     "text": [
      "\n",
      "/home/ruizhong/anaconda3/envs/model_training/lib/python3.12/site-packages/ultralytics/utils/metrics.py:730: RuntimeWarning: Mean of empty slice.\n",
      "  i = smooth(f1_curve.mean(0), 0.1).argmax()  # max F1 index\n",
      "/home/ruizhong/anaconda3/envs/model_training/lib/python3.12/site-packages/numpy/_core/_methods.py:137: RuntimeWarning: invalid value encountered in divide\n",
      "  ret = um.true_divide(\n"
     ]
    },
    {
     "name": "stdout",
     "output_type": "stream",
     "text": [
      "\n",
      "      Epoch    GPU_mem   box_loss   cls_loss   dfl_loss  Instances       Size\n"
     ]
    },
    {
     "name": "stderr",
     "output_type": "stream",
     "text": [
      "      7/100      2.64G          0      81.68          0          0        640: 100%|██████████| 6/6 [00:00<00:00,  6.79it/s]\n",
      "                 Class     Images  Instances      Box(P          R      mAP50  mAP50-95): 100%|██████████| 1/1 [00:00<00:00,  8.50it/s]"
     ]
    },
    {
     "name": "stdout",
     "output_type": "stream",
     "text": [
      "                   all         23          0          0          0          0          0\n",
      "WARNING ⚠️ no labels found in detect set, can not compute metrics without labels\n"
     ]
    },
    {
     "name": "stderr",
     "output_type": "stream",
     "text": [
      "\n",
      "/home/ruizhong/anaconda3/envs/model_training/lib/python3.12/site-packages/ultralytics/utils/metrics.py:730: RuntimeWarning: Mean of empty slice.\n",
      "  i = smooth(f1_curve.mean(0), 0.1).argmax()  # max F1 index\n",
      "/home/ruizhong/anaconda3/envs/model_training/lib/python3.12/site-packages/numpy/_core/_methods.py:137: RuntimeWarning: invalid value encountered in divide\n",
      "  ret = um.true_divide(\n"
     ]
    },
    {
     "name": "stdout",
     "output_type": "stream",
     "text": [
      "\n",
      "      Epoch    GPU_mem   box_loss   cls_loss   dfl_loss  Instances       Size\n"
     ]
    },
    {
     "name": "stderr",
     "output_type": "stream",
     "text": [
      "      8/100      2.64G          0      79.69          0          0        640: 100%|██████████| 6/6 [00:00<00:00,  7.97it/s]\n",
      "                 Class     Images  Instances      Box(P          R      mAP50  mAP50-95): 100%|██████████| 1/1 [00:00<00:00,  5.55it/s]"
     ]
    },
    {
     "name": "stdout",
     "output_type": "stream",
     "text": [
      "                   all         23          0          0          0          0          0\n",
      "WARNING ⚠️ no labels found in detect set, can not compute metrics without labels\n"
     ]
    },
    {
     "name": "stderr",
     "output_type": "stream",
     "text": [
      "\n",
      "/home/ruizhong/anaconda3/envs/model_training/lib/python3.12/site-packages/ultralytics/utils/metrics.py:730: RuntimeWarning: Mean of empty slice.\n",
      "  i = smooth(f1_curve.mean(0), 0.1).argmax()  # max F1 index\n",
      "/home/ruizhong/anaconda3/envs/model_training/lib/python3.12/site-packages/numpy/_core/_methods.py:137: RuntimeWarning: invalid value encountered in divide\n",
      "  ret = um.true_divide(\n"
     ]
    },
    {
     "name": "stdout",
     "output_type": "stream",
     "text": [
      "\n",
      "      Epoch    GPU_mem   box_loss   cls_loss   dfl_loss  Instances       Size\n"
     ]
    },
    {
     "name": "stderr",
     "output_type": "stream",
     "text": [
      "      9/100      2.64G          0      77.93          0          0        640: 100%|██████████| 6/6 [00:00<00:00, 22.83it/s]\n",
      "                 Class     Images  Instances      Box(P          R      mAP50  mAP50-95): 100%|██████████| 1/1 [00:00<00:00, 10.03it/s]"
     ]
    },
    {
     "name": "stdout",
     "output_type": "stream",
     "text": [
      "                   all         23          0          0          0          0          0\n",
      "WARNING ⚠️ no labels found in detect set, can not compute metrics without labels\n"
     ]
    },
    {
     "name": "stderr",
     "output_type": "stream",
     "text": [
      "\n",
      "/home/ruizhong/anaconda3/envs/model_training/lib/python3.12/site-packages/ultralytics/utils/metrics.py:730: RuntimeWarning: Mean of empty slice.\n",
      "  i = smooth(f1_curve.mean(0), 0.1).argmax()  # max F1 index\n",
      "/home/ruizhong/anaconda3/envs/model_training/lib/python3.12/site-packages/numpy/_core/_methods.py:137: RuntimeWarning: invalid value encountered in divide\n",
      "  ret = um.true_divide(\n"
     ]
    },
    {
     "name": "stdout",
     "output_type": "stream",
     "text": [
      "\n",
      "      Epoch    GPU_mem   box_loss   cls_loss   dfl_loss  Instances       Size\n"
     ]
    },
    {
     "name": "stderr",
     "output_type": "stream",
     "text": [
      "     10/100      2.64G          0      74.38          0          0        640: 100%|██████████| 6/6 [00:00<00:00,  7.14it/s]\n",
      "                 Class     Images  Instances      Box(P          R      mAP50  mAP50-95): 100%|██████████| 1/1 [00:00<00:00,  8.29it/s]"
     ]
    },
    {
     "name": "stdout",
     "output_type": "stream",
     "text": [
      "                   all         23          0          0          0          0          0\n",
      "WARNING ⚠️ no labels found in detect set, can not compute metrics without labels\n"
     ]
    },
    {
     "name": "stderr",
     "output_type": "stream",
     "text": [
      "\n",
      "/home/ruizhong/anaconda3/envs/model_training/lib/python3.12/site-packages/ultralytics/utils/metrics.py:730: RuntimeWarning: Mean of empty slice.\n",
      "  i = smooth(f1_curve.mean(0), 0.1).argmax()  # max F1 index\n",
      "/home/ruizhong/anaconda3/envs/model_training/lib/python3.12/site-packages/numpy/_core/_methods.py:137: RuntimeWarning: invalid value encountered in divide\n",
      "  ret = um.true_divide(\n"
     ]
    },
    {
     "name": "stdout",
     "output_type": "stream",
     "text": [
      "\n",
      "      Epoch    GPU_mem   box_loss   cls_loss   dfl_loss  Instances       Size\n"
     ]
    },
    {
     "name": "stderr",
     "output_type": "stream",
     "text": [
      "     11/100      2.64G          0      72.58          0          0        640: 100%|██████████| 6/6 [00:00<00:00,  7.31it/s]\n",
      "                 Class     Images  Instances      Box(P          R      mAP50  mAP50-95): 100%|██████████| 1/1 [00:00<00:00,  9.15it/s]"
     ]
    },
    {
     "name": "stdout",
     "output_type": "stream",
     "text": [
      "                   all         23          0          0          0          0          0\n",
      "WARNING ⚠️ no labels found in detect set, can not compute metrics without labels\n"
     ]
    },
    {
     "name": "stderr",
     "output_type": "stream",
     "text": [
      "\n",
      "/home/ruizhong/anaconda3/envs/model_training/lib/python3.12/site-packages/ultralytics/utils/metrics.py:730: RuntimeWarning: Mean of empty slice.\n",
      "  i = smooth(f1_curve.mean(0), 0.1).argmax()  # max F1 index\n",
      "/home/ruizhong/anaconda3/envs/model_training/lib/python3.12/site-packages/numpy/_core/_methods.py:137: RuntimeWarning: invalid value encountered in divide\n",
      "  ret = um.true_divide(\n"
     ]
    },
    {
     "name": "stdout",
     "output_type": "stream",
     "text": [
      "\n",
      "      Epoch    GPU_mem   box_loss   cls_loss   dfl_loss  Instances       Size\n"
     ]
    },
    {
     "name": "stderr",
     "output_type": "stream",
     "text": [
      "     12/100      2.64G          0      71.51          0          0        640: 100%|██████████| 6/6 [00:00<00:00,  7.50it/s]\n",
      "                 Class     Images  Instances      Box(P          R      mAP50  mAP50-95): 100%|██████████| 1/1 [00:00<00:00,  9.44it/s]"
     ]
    },
    {
     "name": "stdout",
     "output_type": "stream",
     "text": [
      "                   all         23          0          0          0          0          0\n",
      "WARNING ⚠️ no labels found in detect set, can not compute metrics without labels\n"
     ]
    },
    {
     "name": "stderr",
     "output_type": "stream",
     "text": [
      "\n",
      "/home/ruizhong/anaconda3/envs/model_training/lib/python3.12/site-packages/ultralytics/utils/metrics.py:730: RuntimeWarning: Mean of empty slice.\n",
      "  i = smooth(f1_curve.mean(0), 0.1).argmax()  # max F1 index\n",
      "/home/ruizhong/anaconda3/envs/model_training/lib/python3.12/site-packages/numpy/_core/_methods.py:137: RuntimeWarning: invalid value encountered in divide\n",
      "  ret = um.true_divide(\n"
     ]
    },
    {
     "name": "stdout",
     "output_type": "stream",
     "text": [
      "\n",
      "      Epoch    GPU_mem   box_loss   cls_loss   dfl_loss  Instances       Size\n"
     ]
    },
    {
     "name": "stderr",
     "output_type": "stream",
     "text": [
      "     13/100      2.64G          0      69.55          0          0        640: 100%|██████████| 6/6 [00:00<00:00,  6.78it/s]\n",
      "                 Class     Images  Instances      Box(P          R      mAP50  mAP50-95): 100%|██████████| 1/1 [00:00<00:00,  6.76it/s]"
     ]
    },
    {
     "name": "stdout",
     "output_type": "stream",
     "text": [
      "                   all         23          0          0          0          0          0\n",
      "WARNING ⚠️ no labels found in detect set, can not compute metrics without labels\n"
     ]
    },
    {
     "name": "stderr",
     "output_type": "stream",
     "text": [
      "\n",
      "/home/ruizhong/anaconda3/envs/model_training/lib/python3.12/site-packages/ultralytics/utils/metrics.py:730: RuntimeWarning: Mean of empty slice.\n",
      "  i = smooth(f1_curve.mean(0), 0.1).argmax()  # max F1 index\n",
      "/home/ruizhong/anaconda3/envs/model_training/lib/python3.12/site-packages/numpy/_core/_methods.py:137: RuntimeWarning: invalid value encountered in divide\n",
      "  ret = um.true_divide(\n"
     ]
    },
    {
     "name": "stdout",
     "output_type": "stream",
     "text": [
      "\n",
      "      Epoch    GPU_mem   box_loss   cls_loss   dfl_loss  Instances       Size\n"
     ]
    },
    {
     "name": "stderr",
     "output_type": "stream",
     "text": [
      "     14/100      2.64G          0      67.86          0          0        640: 100%|██████████| 6/6 [00:01<00:00,  4.96it/s]\n",
      "                 Class     Images  Instances      Box(P          R      mAP50  mAP50-95): 100%|██████████| 1/1 [00:00<00:00,  9.64it/s]"
     ]
    },
    {
     "name": "stdout",
     "output_type": "stream",
     "text": [
      "                   all         23          0          0          0          0          0\n",
      "WARNING ⚠️ no labels found in detect set, can not compute metrics without labels\n"
     ]
    },
    {
     "name": "stderr",
     "output_type": "stream",
     "text": [
      "\n",
      "/home/ruizhong/anaconda3/envs/model_training/lib/python3.12/site-packages/ultralytics/utils/metrics.py:730: RuntimeWarning: Mean of empty slice.\n",
      "  i = smooth(f1_curve.mean(0), 0.1).argmax()  # max F1 index\n",
      "/home/ruizhong/anaconda3/envs/model_training/lib/python3.12/site-packages/numpy/_core/_methods.py:137: RuntimeWarning: invalid value encountered in divide\n",
      "  ret = um.true_divide(\n"
     ]
    },
    {
     "name": "stdout",
     "output_type": "stream",
     "text": [
      "\n",
      "      Epoch    GPU_mem   box_loss   cls_loss   dfl_loss  Instances       Size\n"
     ]
    },
    {
     "name": "stderr",
     "output_type": "stream",
     "text": [
      "     15/100      2.64G          0      65.93          0          0        640: 100%|██████████| 6/6 [00:00<00:00,  8.31it/s]\n",
      "                 Class     Images  Instances      Box(P          R      mAP50  mAP50-95): 100%|██████████| 1/1 [00:00<00:00,  9.30it/s]"
     ]
    },
    {
     "name": "stdout",
     "output_type": "stream",
     "text": [
      "                   all         23          0          0          0          0          0\n",
      "WARNING ⚠️ no labels found in detect set, can not compute metrics without labels\n"
     ]
    },
    {
     "name": "stderr",
     "output_type": "stream",
     "text": [
      "\n",
      "/home/ruizhong/anaconda3/envs/model_training/lib/python3.12/site-packages/ultralytics/utils/metrics.py:730: RuntimeWarning: Mean of empty slice.\n",
      "  i = smooth(f1_curve.mean(0), 0.1).argmax()  # max F1 index\n",
      "/home/ruizhong/anaconda3/envs/model_training/lib/python3.12/site-packages/numpy/_core/_methods.py:137: RuntimeWarning: invalid value encountered in divide\n",
      "  ret = um.true_divide(\n"
     ]
    },
    {
     "name": "stdout",
     "output_type": "stream",
     "text": [
      "\n",
      "      Epoch    GPU_mem   box_loss   cls_loss   dfl_loss  Instances       Size\n"
     ]
    },
    {
     "name": "stderr",
     "output_type": "stream",
     "text": [
      "     16/100      2.64G          0      64.77          0          0        640: 100%|██████████| 6/6 [00:00<00:00,  6.70it/s]\n",
      "                 Class     Images  Instances      Box(P          R      mAP50  mAP50-95): 100%|██████████| 1/1 [00:00<00:00,  9.75it/s]"
     ]
    },
    {
     "name": "stdout",
     "output_type": "stream",
     "text": [
      "                   all         23          0          0          0          0          0\n",
      "WARNING ⚠️ no labels found in detect set, can not compute metrics without labels\n"
     ]
    },
    {
     "name": "stderr",
     "output_type": "stream",
     "text": [
      "\n",
      "/home/ruizhong/anaconda3/envs/model_training/lib/python3.12/site-packages/ultralytics/utils/metrics.py:730: RuntimeWarning: Mean of empty slice.\n",
      "  i = smooth(f1_curve.mean(0), 0.1).argmax()  # max F1 index\n",
      "/home/ruizhong/anaconda3/envs/model_training/lib/python3.12/site-packages/numpy/_core/_methods.py:137: RuntimeWarning: invalid value encountered in divide\n",
      "  ret = um.true_divide(\n"
     ]
    },
    {
     "name": "stdout",
     "output_type": "stream",
     "text": [
      "\n",
      "      Epoch    GPU_mem   box_loss   cls_loss   dfl_loss  Instances       Size\n"
     ]
    },
    {
     "name": "stderr",
     "output_type": "stream",
     "text": [
      "     17/100      2.64G          0      63.39          0          0        640: 100%|██████████| 6/6 [00:00<00:00,  7.56it/s]\n",
      "                 Class     Images  Instances      Box(P          R      mAP50  mAP50-95): 100%|██████████| 1/1 [00:00<00:00, 10.04it/s]"
     ]
    },
    {
     "name": "stdout",
     "output_type": "stream",
     "text": [
      "                   all         23          0          0          0          0          0\n",
      "WARNING ⚠️ no labels found in detect set, can not compute metrics without labels\n"
     ]
    },
    {
     "name": "stderr",
     "output_type": "stream",
     "text": [
      "\n",
      "/home/ruizhong/anaconda3/envs/model_training/lib/python3.12/site-packages/ultralytics/utils/metrics.py:730: RuntimeWarning: Mean of empty slice.\n",
      "  i = smooth(f1_curve.mean(0), 0.1).argmax()  # max F1 index\n",
      "/home/ruizhong/anaconda3/envs/model_training/lib/python3.12/site-packages/numpy/_core/_methods.py:137: RuntimeWarning: invalid value encountered in divide\n",
      "  ret = um.true_divide(\n"
     ]
    },
    {
     "name": "stdout",
     "output_type": "stream",
     "text": [
      "\n",
      "      Epoch    GPU_mem   box_loss   cls_loss   dfl_loss  Instances       Size\n"
     ]
    },
    {
     "name": "stderr",
     "output_type": "stream",
     "text": [
      "     18/100      2.64G          0      62.24          0          0        640: 100%|██████████| 6/6 [00:00<00:00,  7.71it/s]\n",
      "                 Class     Images  Instances      Box(P          R      mAP50  mAP50-95): 100%|██████████| 1/1 [00:00<00:00,  7.05it/s]"
     ]
    },
    {
     "name": "stdout",
     "output_type": "stream",
     "text": [
      "                   all         23          0          0          0          0          0\n",
      "WARNING ⚠️ no labels found in detect set, can not compute metrics without labels\n"
     ]
    },
    {
     "name": "stderr",
     "output_type": "stream",
     "text": [
      "\n",
      "/home/ruizhong/anaconda3/envs/model_training/lib/python3.12/site-packages/ultralytics/utils/metrics.py:730: RuntimeWarning: Mean of empty slice.\n",
      "  i = smooth(f1_curve.mean(0), 0.1).argmax()  # max F1 index\n",
      "/home/ruizhong/anaconda3/envs/model_training/lib/python3.12/site-packages/numpy/_core/_methods.py:137: RuntimeWarning: invalid value encountered in divide\n",
      "  ret = um.true_divide(\n"
     ]
    },
    {
     "name": "stdout",
     "output_type": "stream",
     "text": [
      "\n",
      "      Epoch    GPU_mem   box_loss   cls_loss   dfl_loss  Instances       Size\n"
     ]
    },
    {
     "name": "stderr",
     "output_type": "stream",
     "text": [
      "     19/100      2.64G          0      60.59          0          0        640: 100%|██████████| 6/6 [00:00<00:00,  7.20it/s]\n",
      "                 Class     Images  Instances      Box(P          R      mAP50  mAP50-95): 100%|██████████| 1/1 [00:00<00:00,  7.87it/s]"
     ]
    },
    {
     "name": "stdout",
     "output_type": "stream",
     "text": [
      "                   all         23          0          0          0          0          0\n",
      "WARNING ⚠️ no labels found in detect set, can not compute metrics without labels\n"
     ]
    },
    {
     "name": "stderr",
     "output_type": "stream",
     "text": [
      "\n",
      "/home/ruizhong/anaconda3/envs/model_training/lib/python3.12/site-packages/ultralytics/utils/metrics.py:730: RuntimeWarning: Mean of empty slice.\n",
      "  i = smooth(f1_curve.mean(0), 0.1).argmax()  # max F1 index\n",
      "/home/ruizhong/anaconda3/envs/model_training/lib/python3.12/site-packages/numpy/_core/_methods.py:137: RuntimeWarning: invalid value encountered in divide\n",
      "  ret = um.true_divide(\n"
     ]
    },
    {
     "name": "stdout",
     "output_type": "stream",
     "text": [
      "\n",
      "      Epoch    GPU_mem   box_loss   cls_loss   dfl_loss  Instances       Size\n"
     ]
    },
    {
     "name": "stderr",
     "output_type": "stream",
     "text": [
      "     20/100      2.64G          0      59.21          0          0        640: 100%|██████████| 6/6 [00:00<00:00,  7.43it/s]\n",
      "                 Class     Images  Instances      Box(P          R      mAP50  mAP50-95): 100%|██████████| 1/1 [00:00<00:00,  6.03it/s]"
     ]
    },
    {
     "name": "stdout",
     "output_type": "stream",
     "text": [
      "                   all         23          0          0          0          0          0\n",
      "WARNING ⚠️ no labels found in detect set, can not compute metrics without labels\n"
     ]
    },
    {
     "name": "stderr",
     "output_type": "stream",
     "text": [
      "\n",
      "/home/ruizhong/anaconda3/envs/model_training/lib/python3.12/site-packages/ultralytics/utils/metrics.py:730: RuntimeWarning: Mean of empty slice.\n",
      "  i = smooth(f1_curve.mean(0), 0.1).argmax()  # max F1 index\n",
      "/home/ruizhong/anaconda3/envs/model_training/lib/python3.12/site-packages/numpy/_core/_methods.py:137: RuntimeWarning: invalid value encountered in divide\n",
      "  ret = um.true_divide(\n"
     ]
    },
    {
     "name": "stdout",
     "output_type": "stream",
     "text": [
      "\n",
      "      Epoch    GPU_mem   box_loss   cls_loss   dfl_loss  Instances       Size\n"
     ]
    },
    {
     "name": "stderr",
     "output_type": "stream",
     "text": [
      "     21/100      2.64G          0       57.6          0          0        640: 100%|██████████| 6/6 [00:01<00:00,  4.97it/s]\n",
      "                 Class     Images  Instances      Box(P          R      mAP50  mAP50-95): 100%|██████████| 1/1 [00:00<00:00,  8.96it/s]"
     ]
    },
    {
     "name": "stdout",
     "output_type": "stream",
     "text": [
      "                   all         23          0          0          0          0          0\n",
      "WARNING ⚠️ no labels found in detect set, can not compute metrics without labels\n"
     ]
    },
    {
     "name": "stderr",
     "output_type": "stream",
     "text": [
      "\n",
      "/home/ruizhong/anaconda3/envs/model_training/lib/python3.12/site-packages/ultralytics/utils/metrics.py:730: RuntimeWarning: Mean of empty slice.\n",
      "  i = smooth(f1_curve.mean(0), 0.1).argmax()  # max F1 index\n",
      "/home/ruizhong/anaconda3/envs/model_training/lib/python3.12/site-packages/numpy/_core/_methods.py:137: RuntimeWarning: invalid value encountered in divide\n",
      "  ret = um.true_divide(\n"
     ]
    },
    {
     "name": "stdout",
     "output_type": "stream",
     "text": [
      "\n",
      "      Epoch    GPU_mem   box_loss   cls_loss   dfl_loss  Instances       Size\n"
     ]
    },
    {
     "name": "stderr",
     "output_type": "stream",
     "text": [
      "     22/100      2.64G          0      56.48          0          0        640: 100%|██████████| 6/6 [00:00<00:00,  8.10it/s]\n",
      "                 Class     Images  Instances      Box(P          R      mAP50  mAP50-95): 100%|██████████| 1/1 [00:00<00:00, 10.00it/s]"
     ]
    },
    {
     "name": "stdout",
     "output_type": "stream",
     "text": [
      "                   all         23          0          0          0          0          0\n",
      "WARNING ⚠️ no labels found in detect set, can not compute metrics without labels\n"
     ]
    },
    {
     "name": "stderr",
     "output_type": "stream",
     "text": [
      "\n",
      "/home/ruizhong/anaconda3/envs/model_training/lib/python3.12/site-packages/ultralytics/utils/metrics.py:730: RuntimeWarning: Mean of empty slice.\n",
      "  i = smooth(f1_curve.mean(0), 0.1).argmax()  # max F1 index\n",
      "/home/ruizhong/anaconda3/envs/model_training/lib/python3.12/site-packages/numpy/_core/_methods.py:137: RuntimeWarning: invalid value encountered in divide\n",
      "  ret = um.true_divide(\n"
     ]
    },
    {
     "name": "stdout",
     "output_type": "stream",
     "text": [
      "\n",
      "      Epoch    GPU_mem   box_loss   cls_loss   dfl_loss  Instances       Size\n"
     ]
    },
    {
     "name": "stderr",
     "output_type": "stream",
     "text": [
      "     23/100      2.64G          0      55.12          0          0        640: 100%|██████████| 6/6 [00:00<00:00,  8.42it/s]\n",
      "                 Class     Images  Instances      Box(P          R      mAP50  mAP50-95): 100%|██████████| 1/1 [00:00<00:00,  8.57it/s]"
     ]
    },
    {
     "name": "stdout",
     "output_type": "stream",
     "text": [
      "                   all         23          0          0          0          0          0\n",
      "WARNING ⚠️ no labels found in detect set, can not compute metrics without labels\n"
     ]
    },
    {
     "name": "stderr",
     "output_type": "stream",
     "text": [
      "\n",
      "/home/ruizhong/anaconda3/envs/model_training/lib/python3.12/site-packages/ultralytics/utils/metrics.py:730: RuntimeWarning: Mean of empty slice.\n",
      "  i = smooth(f1_curve.mean(0), 0.1).argmax()  # max F1 index\n",
      "/home/ruizhong/anaconda3/envs/model_training/lib/python3.12/site-packages/numpy/_core/_methods.py:137: RuntimeWarning: invalid value encountered in divide\n",
      "  ret = um.true_divide(\n"
     ]
    },
    {
     "name": "stdout",
     "output_type": "stream",
     "text": [
      "\n",
      "      Epoch    GPU_mem   box_loss   cls_loss   dfl_loss  Instances       Size\n"
     ]
    },
    {
     "name": "stderr",
     "output_type": "stream",
     "text": [
      "     24/100      2.64G          0      53.75          0          0        640: 100%|██████████| 6/6 [00:00<00:00,  6.38it/s]\n",
      "                 Class     Images  Instances      Box(P          R      mAP50  mAP50-95): 100%|██████████| 1/1 [00:00<00:00,  8.82it/s]"
     ]
    },
    {
     "name": "stdout",
     "output_type": "stream",
     "text": [
      "                   all         23          0          0          0          0          0\n",
      "WARNING ⚠️ no labels found in detect set, can not compute metrics without labels\n"
     ]
    },
    {
     "name": "stderr",
     "output_type": "stream",
     "text": [
      "\n",
      "/home/ruizhong/anaconda3/envs/model_training/lib/python3.12/site-packages/ultralytics/utils/metrics.py:730: RuntimeWarning: Mean of empty slice.\n",
      "  i = smooth(f1_curve.mean(0), 0.1).argmax()  # max F1 index\n",
      "/home/ruizhong/anaconda3/envs/model_training/lib/python3.12/site-packages/numpy/_core/_methods.py:137: RuntimeWarning: invalid value encountered in divide\n",
      "  ret = um.true_divide(\n"
     ]
    },
    {
     "name": "stdout",
     "output_type": "stream",
     "text": [
      "\n",
      "      Epoch    GPU_mem   box_loss   cls_loss   dfl_loss  Instances       Size\n"
     ]
    },
    {
     "name": "stderr",
     "output_type": "stream",
     "text": [
      "     25/100      2.64G          0      52.21          0          0        640: 100%|██████████| 6/6 [00:00<00:00,  9.38it/s]\n",
      "                 Class     Images  Instances      Box(P          R      mAP50  mAP50-95): 100%|██████████| 1/1 [00:00<00:00,  8.35it/s]"
     ]
    },
    {
     "name": "stdout",
     "output_type": "stream",
     "text": [
      "                   all         23          0          0          0          0          0\n",
      "WARNING ⚠️ no labels found in detect set, can not compute metrics without labels\n"
     ]
    },
    {
     "name": "stderr",
     "output_type": "stream",
     "text": [
      "\n",
      "/home/ruizhong/anaconda3/envs/model_training/lib/python3.12/site-packages/ultralytics/utils/metrics.py:730: RuntimeWarning: Mean of empty slice.\n",
      "  i = smooth(f1_curve.mean(0), 0.1).argmax()  # max F1 index\n",
      "/home/ruizhong/anaconda3/envs/model_training/lib/python3.12/site-packages/numpy/_core/_methods.py:137: RuntimeWarning: invalid value encountered in divide\n",
      "  ret = um.true_divide(\n"
     ]
    },
    {
     "name": "stdout",
     "output_type": "stream",
     "text": [
      "\n",
      "      Epoch    GPU_mem   box_loss   cls_loss   dfl_loss  Instances       Size\n"
     ]
    },
    {
     "name": "stderr",
     "output_type": "stream",
     "text": [
      "     26/100      2.64G          0      51.34          0          0        640: 100%|██████████| 6/6 [00:00<00:00,  7.40it/s]\n",
      "                 Class     Images  Instances      Box(P          R      mAP50  mAP50-95): 100%|██████████| 1/1 [00:00<00:00, 10.06it/s]"
     ]
    },
    {
     "name": "stdout",
     "output_type": "stream",
     "text": [
      "                   all         23          0          0          0          0          0\n",
      "WARNING ⚠️ no labels found in detect set, can not compute metrics without labels\n"
     ]
    },
    {
     "name": "stderr",
     "output_type": "stream",
     "text": [
      "\n",
      "/home/ruizhong/anaconda3/envs/model_training/lib/python3.12/site-packages/ultralytics/utils/metrics.py:730: RuntimeWarning: Mean of empty slice.\n",
      "  i = smooth(f1_curve.mean(0), 0.1).argmax()  # max F1 index\n",
      "/home/ruizhong/anaconda3/envs/model_training/lib/python3.12/site-packages/numpy/_core/_methods.py:137: RuntimeWarning: invalid value encountered in divide\n",
      "  ret = um.true_divide(\n"
     ]
    },
    {
     "name": "stdout",
     "output_type": "stream",
     "text": [
      "\n",
      "      Epoch    GPU_mem   box_loss   cls_loss   dfl_loss  Instances       Size\n"
     ]
    },
    {
     "name": "stderr",
     "output_type": "stream",
     "text": [
      "     27/100      2.64G          0      49.74          0          0        640: 100%|██████████| 6/6 [00:00<00:00,  7.36it/s]\n",
      "                 Class     Images  Instances      Box(P          R      mAP50  mAP50-95): 100%|██████████| 1/1 [00:00<00:00,  8.31it/s]"
     ]
    },
    {
     "name": "stdout",
     "output_type": "stream",
     "text": [
      "                   all         23          0          0          0          0          0\n",
      "WARNING ⚠️ no labels found in detect set, can not compute metrics without labels\n"
     ]
    },
    {
     "name": "stderr",
     "output_type": "stream",
     "text": [
      "\n",
      "/home/ruizhong/anaconda3/envs/model_training/lib/python3.12/site-packages/ultralytics/utils/metrics.py:730: RuntimeWarning: Mean of empty slice.\n",
      "  i = smooth(f1_curve.mean(0), 0.1).argmax()  # max F1 index\n",
      "/home/ruizhong/anaconda3/envs/model_training/lib/python3.12/site-packages/numpy/_core/_methods.py:137: RuntimeWarning: invalid value encountered in divide\n",
      "  ret = um.true_divide(\n"
     ]
    },
    {
     "name": "stdout",
     "output_type": "stream",
     "text": [
      "\n",
      "      Epoch    GPU_mem   box_loss   cls_loss   dfl_loss  Instances       Size\n"
     ]
    },
    {
     "name": "stderr",
     "output_type": "stream",
     "text": [
      "     28/100      2.64G          0      48.64          0          0        640: 100%|██████████| 6/6 [00:00<00:00,  6.92it/s]\n",
      "                 Class     Images  Instances      Box(P          R      mAP50  mAP50-95): 100%|██████████| 1/1 [00:00<00:00, 11.33it/s]"
     ]
    },
    {
     "name": "stdout",
     "output_type": "stream",
     "text": [
      "                   all         23          0          0          0          0          0\n",
      "WARNING ⚠️ no labels found in detect set, can not compute metrics without labels\n"
     ]
    },
    {
     "name": "stderr",
     "output_type": "stream",
     "text": [
      "\n",
      "/home/ruizhong/anaconda3/envs/model_training/lib/python3.12/site-packages/ultralytics/utils/metrics.py:730: RuntimeWarning: Mean of empty slice.\n",
      "  i = smooth(f1_curve.mean(0), 0.1).argmax()  # max F1 index\n",
      "/home/ruizhong/anaconda3/envs/model_training/lib/python3.12/site-packages/numpy/_core/_methods.py:137: RuntimeWarning: invalid value encountered in divide\n",
      "  ret = um.true_divide(\n"
     ]
    },
    {
     "name": "stdout",
     "output_type": "stream",
     "text": [
      "\n",
      "      Epoch    GPU_mem   box_loss   cls_loss   dfl_loss  Instances       Size\n"
     ]
    },
    {
     "name": "stderr",
     "output_type": "stream",
     "text": [
      "     29/100      2.64G          0      47.21          0          0        640: 100%|██████████| 6/6 [00:00<00:00,  8.83it/s]\n",
      "                 Class     Images  Instances      Box(P          R      mAP50  mAP50-95): 100%|██████████| 1/1 [00:00<00:00,  7.98it/s]"
     ]
    },
    {
     "name": "stdout",
     "output_type": "stream",
     "text": [
      "                   all         23          0          0          0          0          0\n",
      "WARNING ⚠️ no labels found in detect set, can not compute metrics without labels\n"
     ]
    },
    {
     "name": "stderr",
     "output_type": "stream",
     "text": [
      "\n",
      "/home/ruizhong/anaconda3/envs/model_training/lib/python3.12/site-packages/ultralytics/utils/metrics.py:730: RuntimeWarning: Mean of empty slice.\n",
      "  i = smooth(f1_curve.mean(0), 0.1).argmax()  # max F1 index\n",
      "/home/ruizhong/anaconda3/envs/model_training/lib/python3.12/site-packages/numpy/_core/_methods.py:137: RuntimeWarning: invalid value encountered in divide\n",
      "  ret = um.true_divide(\n"
     ]
    },
    {
     "name": "stdout",
     "output_type": "stream",
     "text": [
      "\n",
      "      Epoch    GPU_mem   box_loss   cls_loss   dfl_loss  Instances       Size\n"
     ]
    },
    {
     "name": "stderr",
     "output_type": "stream",
     "text": [
      "     30/100      2.64G          0      46.17          0          0        640: 100%|██████████| 6/6 [00:00<00:00,  7.35it/s]\n",
      "                 Class     Images  Instances      Box(P          R      mAP50  mAP50-95): 100%|██████████| 1/1 [00:00<00:00,  9.11it/s]"
     ]
    },
    {
     "name": "stdout",
     "output_type": "stream",
     "text": [
      "                   all         23          0          0          0          0          0\n",
      "WARNING ⚠️ no labels found in detect set, can not compute metrics without labels\n"
     ]
    },
    {
     "name": "stderr",
     "output_type": "stream",
     "text": [
      "\n",
      "/home/ruizhong/anaconda3/envs/model_training/lib/python3.12/site-packages/ultralytics/utils/metrics.py:730: RuntimeWarning: Mean of empty slice.\n",
      "  i = smooth(f1_curve.mean(0), 0.1).argmax()  # max F1 index\n",
      "/home/ruizhong/anaconda3/envs/model_training/lib/python3.12/site-packages/numpy/_core/_methods.py:137: RuntimeWarning: invalid value encountered in divide\n",
      "  ret = um.true_divide(\n"
     ]
    },
    {
     "name": "stdout",
     "output_type": "stream",
     "text": [
      "\n",
      "      Epoch    GPU_mem   box_loss   cls_loss   dfl_loss  Instances       Size\n"
     ]
    },
    {
     "name": "stderr",
     "output_type": "stream",
     "text": [
      "     31/100      2.64G          0      44.72          0          0        640: 100%|██████████| 6/6 [00:00<00:00,  6.73it/s]\n",
      "                 Class     Images  Instances      Box(P          R      mAP50  mAP50-95): 100%|██████████| 1/1 [00:00<00:00,  7.70it/s]"
     ]
    },
    {
     "name": "stdout",
     "output_type": "stream",
     "text": [
      "                   all         23          0          0          0          0          0\n",
      "WARNING ⚠️ no labels found in detect set, can not compute metrics without labels\n"
     ]
    },
    {
     "name": "stderr",
     "output_type": "stream",
     "text": [
      "\n",
      "/home/ruizhong/anaconda3/envs/model_training/lib/python3.12/site-packages/ultralytics/utils/metrics.py:730: RuntimeWarning: Mean of empty slice.\n",
      "  i = smooth(f1_curve.mean(0), 0.1).argmax()  # max F1 index\n",
      "/home/ruizhong/anaconda3/envs/model_training/lib/python3.12/site-packages/numpy/_core/_methods.py:137: RuntimeWarning: invalid value encountered in divide\n",
      "  ret = um.true_divide(\n"
     ]
    },
    {
     "name": "stdout",
     "output_type": "stream",
     "text": [
      "\n",
      "      Epoch    GPU_mem   box_loss   cls_loss   dfl_loss  Instances       Size\n"
     ]
    },
    {
     "name": "stderr",
     "output_type": "stream",
     "text": [
      "     32/100      2.64G          0       43.7          0          0        640: 100%|██████████| 6/6 [00:00<00:00,  6.40it/s]\n",
      "                 Class     Images  Instances      Box(P          R      mAP50  mAP50-95): 100%|██████████| 1/1 [00:00<00:00,  9.01it/s]"
     ]
    },
    {
     "name": "stdout",
     "output_type": "stream",
     "text": [
      "                   all         23          0          0          0          0          0\n",
      "WARNING ⚠️ no labels found in detect set, can not compute metrics without labels\n"
     ]
    },
    {
     "name": "stderr",
     "output_type": "stream",
     "text": [
      "\n",
      "/home/ruizhong/anaconda3/envs/model_training/lib/python3.12/site-packages/ultralytics/utils/metrics.py:730: RuntimeWarning: Mean of empty slice.\n",
      "  i = smooth(f1_curve.mean(0), 0.1).argmax()  # max F1 index\n",
      "/home/ruizhong/anaconda3/envs/model_training/lib/python3.12/site-packages/numpy/_core/_methods.py:137: RuntimeWarning: invalid value encountered in divide\n",
      "  ret = um.true_divide(\n"
     ]
    },
    {
     "name": "stdout",
     "output_type": "stream",
     "text": [
      "\n",
      "      Epoch    GPU_mem   box_loss   cls_loss   dfl_loss  Instances       Size\n"
     ]
    },
    {
     "name": "stderr",
     "output_type": "stream",
     "text": [
      "     33/100      2.64G          0      42.44          0          0        640: 100%|██████████| 6/6 [00:00<00:00,  7.27it/s]\n",
      "                 Class     Images  Instances      Box(P          R      mAP50  mAP50-95): 100%|██████████| 1/1 [00:00<00:00,  7.13it/s]"
     ]
    },
    {
     "name": "stdout",
     "output_type": "stream",
     "text": [
      "                   all         23          0          0          0          0          0\n",
      "WARNING ⚠️ no labels found in detect set, can not compute metrics without labels\n"
     ]
    },
    {
     "name": "stderr",
     "output_type": "stream",
     "text": [
      "\n",
      "/home/ruizhong/anaconda3/envs/model_training/lib/python3.12/site-packages/ultralytics/utils/metrics.py:730: RuntimeWarning: Mean of empty slice.\n",
      "  i = smooth(f1_curve.mean(0), 0.1).argmax()  # max F1 index\n",
      "/home/ruizhong/anaconda3/envs/model_training/lib/python3.12/site-packages/numpy/_core/_methods.py:137: RuntimeWarning: invalid value encountered in divide\n",
      "  ret = um.true_divide(\n"
     ]
    },
    {
     "name": "stdout",
     "output_type": "stream",
     "text": [
      "\n",
      "      Epoch    GPU_mem   box_loss   cls_loss   dfl_loss  Instances       Size\n"
     ]
    },
    {
     "name": "stderr",
     "output_type": "stream",
     "text": [
      "     34/100      2.64G          0      41.43          0          0        640: 100%|██████████| 6/6 [00:00<00:00,  8.58it/s]\n",
      "                 Class     Images  Instances      Box(P          R      mAP50  mAP50-95): 100%|██████████| 1/1 [00:00<00:00,  7.99it/s]"
     ]
    },
    {
     "name": "stdout",
     "output_type": "stream",
     "text": [
      "                   all         23          0          0          0          0          0\n",
      "WARNING ⚠️ no labels found in detect set, can not compute metrics without labels\n"
     ]
    },
    {
     "name": "stderr",
     "output_type": "stream",
     "text": [
      "\n",
      "/home/ruizhong/anaconda3/envs/model_training/lib/python3.12/site-packages/ultralytics/utils/metrics.py:730: RuntimeWarning: Mean of empty slice.\n",
      "  i = smooth(f1_curve.mean(0), 0.1).argmax()  # max F1 index\n",
      "/home/ruizhong/anaconda3/envs/model_training/lib/python3.12/site-packages/numpy/_core/_methods.py:137: RuntimeWarning: invalid value encountered in divide\n",
      "  ret = um.true_divide(\n"
     ]
    },
    {
     "name": "stdout",
     "output_type": "stream",
     "text": [
      "\n",
      "      Epoch    GPU_mem   box_loss   cls_loss   dfl_loss  Instances       Size\n"
     ]
    },
    {
     "name": "stderr",
     "output_type": "stream",
     "text": [
      "     35/100      2.64G          0      40.38          0          0        640: 100%|██████████| 6/6 [00:00<00:00,  8.86it/s]\n",
      "                 Class     Images  Instances      Box(P          R      mAP50  mAP50-95): 100%|██████████| 1/1 [00:00<00:00,  8.77it/s]"
     ]
    },
    {
     "name": "stdout",
     "output_type": "stream",
     "text": [
      "                   all         23          0          0          0          0          0\n",
      "WARNING ⚠️ no labels found in detect set, can not compute metrics without labels\n"
     ]
    },
    {
     "name": "stderr",
     "output_type": "stream",
     "text": [
      "\n",
      "/home/ruizhong/anaconda3/envs/model_training/lib/python3.12/site-packages/ultralytics/utils/metrics.py:730: RuntimeWarning: Mean of empty slice.\n",
      "  i = smooth(f1_curve.mean(0), 0.1).argmax()  # max F1 index\n",
      "/home/ruizhong/anaconda3/envs/model_training/lib/python3.12/site-packages/numpy/_core/_methods.py:137: RuntimeWarning: invalid value encountered in divide\n",
      "  ret = um.true_divide(\n"
     ]
    },
    {
     "name": "stdout",
     "output_type": "stream",
     "text": [
      "\n",
      "      Epoch    GPU_mem   box_loss   cls_loss   dfl_loss  Instances       Size\n"
     ]
    },
    {
     "name": "stderr",
     "output_type": "stream",
     "text": [
      "     36/100      2.64G          0      39.38          0          0        640: 100%|██████████| 6/6 [00:00<00:00,  6.27it/s]\n",
      "                 Class     Images  Instances      Box(P          R      mAP50  mAP50-95): 100%|██████████| 1/1 [00:00<00:00,  7.17it/s]"
     ]
    },
    {
     "name": "stdout",
     "output_type": "stream",
     "text": [
      "                   all         23          0          0          0          0          0\n",
      "WARNING ⚠️ no labels found in detect set, can not compute metrics without labels\n"
     ]
    },
    {
     "name": "stderr",
     "output_type": "stream",
     "text": [
      "\n",
      "/home/ruizhong/anaconda3/envs/model_training/lib/python3.12/site-packages/ultralytics/utils/metrics.py:730: RuntimeWarning: Mean of empty slice.\n",
      "  i = smooth(f1_curve.mean(0), 0.1).argmax()  # max F1 index\n",
      "/home/ruizhong/anaconda3/envs/model_training/lib/python3.12/site-packages/numpy/_core/_methods.py:137: RuntimeWarning: invalid value encountered in divide\n",
      "  ret = um.true_divide(\n"
     ]
    },
    {
     "name": "stdout",
     "output_type": "stream",
     "text": [
      "\n",
      "      Epoch    GPU_mem   box_loss   cls_loss   dfl_loss  Instances       Size\n"
     ]
    },
    {
     "name": "stderr",
     "output_type": "stream",
     "text": [
      "     37/100      2.64G          0      38.44          0          0        640: 100%|██████████| 6/6 [00:00<00:00,  9.30it/s]\n",
      "                 Class     Images  Instances      Box(P          R      mAP50  mAP50-95): 100%|██████████| 1/1 [00:00<00:00,  5.93it/s]"
     ]
    },
    {
     "name": "stdout",
     "output_type": "stream",
     "text": [
      "                   all         23          0          0          0          0          0\n",
      "WARNING ⚠️ no labels found in detect set, can not compute metrics without labels\n"
     ]
    },
    {
     "name": "stderr",
     "output_type": "stream",
     "text": [
      "\n",
      "/home/ruizhong/anaconda3/envs/model_training/lib/python3.12/site-packages/ultralytics/utils/metrics.py:730: RuntimeWarning: Mean of empty slice.\n",
      "  i = smooth(f1_curve.mean(0), 0.1).argmax()  # max F1 index\n",
      "/home/ruizhong/anaconda3/envs/model_training/lib/python3.12/site-packages/numpy/_core/_methods.py:137: RuntimeWarning: invalid value encountered in divide\n",
      "  ret = um.true_divide(\n"
     ]
    },
    {
     "name": "stdout",
     "output_type": "stream",
     "text": [
      "\n",
      "      Epoch    GPU_mem   box_loss   cls_loss   dfl_loss  Instances       Size\n"
     ]
    },
    {
     "name": "stderr",
     "output_type": "stream",
     "text": [
      "     38/100      2.64G          0      37.45          0          0        640: 100%|██████████| 6/6 [00:00<00:00,  8.65it/s]\n",
      "                 Class     Images  Instances      Box(P          R      mAP50  mAP50-95): 100%|██████████| 1/1 [00:00<00:00,  7.38it/s]"
     ]
    },
    {
     "name": "stdout",
     "output_type": "stream",
     "text": [
      "                   all         23          0          0          0          0          0\n",
      "WARNING ⚠️ no labels found in detect set, can not compute metrics without labels\n"
     ]
    },
    {
     "name": "stderr",
     "output_type": "stream",
     "text": [
      "\n",
      "/home/ruizhong/anaconda3/envs/model_training/lib/python3.12/site-packages/ultralytics/utils/metrics.py:730: RuntimeWarning: Mean of empty slice.\n",
      "  i = smooth(f1_curve.mean(0), 0.1).argmax()  # max F1 index\n",
      "/home/ruizhong/anaconda3/envs/model_training/lib/python3.12/site-packages/numpy/_core/_methods.py:137: RuntimeWarning: invalid value encountered in divide\n",
      "  ret = um.true_divide(\n"
     ]
    },
    {
     "name": "stdout",
     "output_type": "stream",
     "text": [
      "\n",
      "      Epoch    GPU_mem   box_loss   cls_loss   dfl_loss  Instances       Size\n"
     ]
    },
    {
     "name": "stderr",
     "output_type": "stream",
     "text": [
      "     39/100      2.64G          0      36.54          0          0        640: 100%|██████████| 6/6 [00:00<00:00,  7.88it/s]\n",
      "                 Class     Images  Instances      Box(P          R      mAP50  mAP50-95): 100%|██████████| 1/1 [00:00<00:00,  7.96it/s]"
     ]
    },
    {
     "name": "stdout",
     "output_type": "stream",
     "text": [
      "                   all         23          0          0          0          0          0\n",
      "WARNING ⚠️ no labels found in detect set, can not compute metrics without labels\n"
     ]
    },
    {
     "name": "stderr",
     "output_type": "stream",
     "text": [
      "\n",
      "/home/ruizhong/anaconda3/envs/model_training/lib/python3.12/site-packages/ultralytics/utils/metrics.py:730: RuntimeWarning: Mean of empty slice.\n",
      "  i = smooth(f1_curve.mean(0), 0.1).argmax()  # max F1 index\n",
      "/home/ruizhong/anaconda3/envs/model_training/lib/python3.12/site-packages/numpy/_core/_methods.py:137: RuntimeWarning: invalid value encountered in divide\n",
      "  ret = um.true_divide(\n"
     ]
    },
    {
     "name": "stdout",
     "output_type": "stream",
     "text": [
      "\n",
      "      Epoch    GPU_mem   box_loss   cls_loss   dfl_loss  Instances       Size\n"
     ]
    },
    {
     "name": "stderr",
     "output_type": "stream",
     "text": [
      "     40/100      2.64G          0      35.64          0          0        640: 100%|██████████| 6/6 [00:00<00:00,  7.85it/s]\n",
      "                 Class     Images  Instances      Box(P          R      mAP50  mAP50-95): 100%|██████████| 1/1 [00:00<00:00,  8.19it/s]"
     ]
    },
    {
     "name": "stdout",
     "output_type": "stream",
     "text": [
      "                   all         23          0          0          0          0          0\n",
      "WARNING ⚠️ no labels found in detect set, can not compute metrics without labels\n"
     ]
    },
    {
     "name": "stderr",
     "output_type": "stream",
     "text": [
      "\n",
      "/home/ruizhong/anaconda3/envs/model_training/lib/python3.12/site-packages/ultralytics/utils/metrics.py:730: RuntimeWarning: Mean of empty slice.\n",
      "  i = smooth(f1_curve.mean(0), 0.1).argmax()  # max F1 index\n",
      "/home/ruizhong/anaconda3/envs/model_training/lib/python3.12/site-packages/numpy/_core/_methods.py:137: RuntimeWarning: invalid value encountered in divide\n",
      "  ret = um.true_divide(\n"
     ]
    },
    {
     "name": "stdout",
     "output_type": "stream",
     "text": [
      "\n",
      "      Epoch    GPU_mem   box_loss   cls_loss   dfl_loss  Instances       Size\n"
     ]
    },
    {
     "name": "stderr",
     "output_type": "stream",
     "text": [
      "     41/100      2.64G          0      34.63          0          0        640: 100%|██████████| 6/6 [00:00<00:00,  7.52it/s]\n",
      "                 Class     Images  Instances      Box(P          R      mAP50  mAP50-95): 100%|██████████| 1/1 [00:00<00:00,  7.42it/s]"
     ]
    },
    {
     "name": "stdout",
     "output_type": "stream",
     "text": [
      "                   all         23          0          0          0          0          0\n",
      "WARNING ⚠️ no labels found in detect set, can not compute metrics without labels\n"
     ]
    },
    {
     "name": "stderr",
     "output_type": "stream",
     "text": [
      "\n",
      "/home/ruizhong/anaconda3/envs/model_training/lib/python3.12/site-packages/ultralytics/utils/metrics.py:730: RuntimeWarning: Mean of empty slice.\n",
      "  i = smooth(f1_curve.mean(0), 0.1).argmax()  # max F1 index\n",
      "/home/ruizhong/anaconda3/envs/model_training/lib/python3.12/site-packages/numpy/_core/_methods.py:137: RuntimeWarning: invalid value encountered in divide\n",
      "  ret = um.true_divide(\n"
     ]
    },
    {
     "name": "stdout",
     "output_type": "stream",
     "text": [
      "\n",
      "      Epoch    GPU_mem   box_loss   cls_loss   dfl_loss  Instances       Size\n"
     ]
    },
    {
     "name": "stderr",
     "output_type": "stream",
     "text": [
      "     42/100      2.64G          0      33.93          0          0        640: 100%|██████████| 6/6 [00:00<00:00,  8.91it/s]\n",
      "                 Class     Images  Instances      Box(P          R      mAP50  mAP50-95): 100%|██████████| 1/1 [00:00<00:00,  8.98it/s]"
     ]
    },
    {
     "name": "stdout",
     "output_type": "stream",
     "text": [
      "                   all         23          0          0          0          0          0\n",
      "WARNING ⚠️ no labels found in detect set, can not compute metrics without labels\n"
     ]
    },
    {
     "name": "stderr",
     "output_type": "stream",
     "text": [
      "\n",
      "/home/ruizhong/anaconda3/envs/model_training/lib/python3.12/site-packages/ultralytics/utils/metrics.py:730: RuntimeWarning: Mean of empty slice.\n",
      "  i = smooth(f1_curve.mean(0), 0.1).argmax()  # max F1 index\n",
      "/home/ruizhong/anaconda3/envs/model_training/lib/python3.12/site-packages/numpy/_core/_methods.py:137: RuntimeWarning: invalid value encountered in divide\n",
      "  ret = um.true_divide(\n"
     ]
    },
    {
     "name": "stdout",
     "output_type": "stream",
     "text": [
      "\n",
      "      Epoch    GPU_mem   box_loss   cls_loss   dfl_loss  Instances       Size\n"
     ]
    },
    {
     "name": "stderr",
     "output_type": "stream",
     "text": [
      "     43/100      2.64G          0      33.02          0          0        640: 100%|██████████| 6/6 [00:00<00:00,  7.63it/s]\n",
      "                 Class     Images  Instances      Box(P          R      mAP50  mAP50-95): 100%|██████████| 1/1 [00:00<00:00,  7.78it/s]"
     ]
    },
    {
     "name": "stdout",
     "output_type": "stream",
     "text": [
      "                   all         23          0          0          0          0          0\n",
      "WARNING ⚠️ no labels found in detect set, can not compute metrics without labels\n"
     ]
    },
    {
     "name": "stderr",
     "output_type": "stream",
     "text": [
      "\n",
      "/home/ruizhong/anaconda3/envs/model_training/lib/python3.12/site-packages/ultralytics/utils/metrics.py:730: RuntimeWarning: Mean of empty slice.\n",
      "  i = smooth(f1_curve.mean(0), 0.1).argmax()  # max F1 index\n",
      "/home/ruizhong/anaconda3/envs/model_training/lib/python3.12/site-packages/numpy/_core/_methods.py:137: RuntimeWarning: invalid value encountered in divide\n",
      "  ret = um.true_divide(\n"
     ]
    },
    {
     "name": "stdout",
     "output_type": "stream",
     "text": [
      "\n",
      "      Epoch    GPU_mem   box_loss   cls_loss   dfl_loss  Instances       Size\n"
     ]
    },
    {
     "name": "stderr",
     "output_type": "stream",
     "text": [
      "     44/100      2.64G          0      32.21          0          0        640: 100%|██████████| 6/6 [00:00<00:00,  7.59it/s]\n",
      "                 Class     Images  Instances      Box(P          R      mAP50  mAP50-95): 100%|██████████| 1/1 [00:00<00:00,  8.38it/s]"
     ]
    },
    {
     "name": "stdout",
     "output_type": "stream",
     "text": [
      "                   all         23          0          0          0          0          0\n",
      "WARNING ⚠️ no labels found in detect set, can not compute metrics without labels\n"
     ]
    },
    {
     "name": "stderr",
     "output_type": "stream",
     "text": [
      "\n",
      "/home/ruizhong/anaconda3/envs/model_training/lib/python3.12/site-packages/ultralytics/utils/metrics.py:730: RuntimeWarning: Mean of empty slice.\n",
      "  i = smooth(f1_curve.mean(0), 0.1).argmax()  # max F1 index\n",
      "/home/ruizhong/anaconda3/envs/model_training/lib/python3.12/site-packages/numpy/_core/_methods.py:137: RuntimeWarning: invalid value encountered in divide\n",
      "  ret = um.true_divide(\n"
     ]
    },
    {
     "name": "stdout",
     "output_type": "stream",
     "text": [
      "\n",
      "      Epoch    GPU_mem   box_loss   cls_loss   dfl_loss  Instances       Size\n"
     ]
    },
    {
     "name": "stderr",
     "output_type": "stream",
     "text": [
      "     45/100      2.64G          0      31.49          0          0        640: 100%|██████████| 6/6 [00:00<00:00,  7.89it/s]\n",
      "                 Class     Images  Instances      Box(P          R      mAP50  mAP50-95): 100%|██████████| 1/1 [00:00<00:00,  9.36it/s]"
     ]
    },
    {
     "name": "stdout",
     "output_type": "stream",
     "text": [
      "                   all         23          0          0          0          0          0\n",
      "WARNING ⚠️ no labels found in detect set, can not compute metrics without labels\n"
     ]
    },
    {
     "name": "stderr",
     "output_type": "stream",
     "text": [
      "\n",
      "/home/ruizhong/anaconda3/envs/model_training/lib/python3.12/site-packages/ultralytics/utils/metrics.py:730: RuntimeWarning: Mean of empty slice.\n",
      "  i = smooth(f1_curve.mean(0), 0.1).argmax()  # max F1 index\n",
      "/home/ruizhong/anaconda3/envs/model_training/lib/python3.12/site-packages/numpy/_core/_methods.py:137: RuntimeWarning: invalid value encountered in divide\n",
      "  ret = um.true_divide(\n"
     ]
    },
    {
     "name": "stdout",
     "output_type": "stream",
     "text": [
      "\n",
      "      Epoch    GPU_mem   box_loss   cls_loss   dfl_loss  Instances       Size\n"
     ]
    },
    {
     "name": "stderr",
     "output_type": "stream",
     "text": [
      "     46/100      2.64G          0      30.67          0          0        640: 100%|██████████| 6/6 [00:00<00:00,  6.97it/s]\n",
      "                 Class     Images  Instances      Box(P          R      mAP50  mAP50-95): 100%|██████████| 1/1 [00:00<00:00,  8.21it/s]"
     ]
    },
    {
     "name": "stdout",
     "output_type": "stream",
     "text": [
      "                   all         23          0          0          0          0          0\n",
      "WARNING ⚠️ no labels found in detect set, can not compute metrics without labels\n"
     ]
    },
    {
     "name": "stderr",
     "output_type": "stream",
     "text": [
      "\n",
      "/home/ruizhong/anaconda3/envs/model_training/lib/python3.12/site-packages/ultralytics/utils/metrics.py:730: RuntimeWarning: Mean of empty slice.\n",
      "  i = smooth(f1_curve.mean(0), 0.1).argmax()  # max F1 index\n",
      "/home/ruizhong/anaconda3/envs/model_training/lib/python3.12/site-packages/numpy/_core/_methods.py:137: RuntimeWarning: invalid value encountered in divide\n",
      "  ret = um.true_divide(\n"
     ]
    },
    {
     "name": "stdout",
     "output_type": "stream",
     "text": [
      "\n",
      "      Epoch    GPU_mem   box_loss   cls_loss   dfl_loss  Instances       Size\n"
     ]
    },
    {
     "name": "stderr",
     "output_type": "stream",
     "text": [
      "     47/100      2.64G          0      29.92          0          0        640: 100%|██████████| 6/6 [00:00<00:00,  8.23it/s]\n",
      "                 Class     Images  Instances      Box(P          R      mAP50  mAP50-95): 100%|██████████| 1/1 [00:00<00:00,  7.61it/s]"
     ]
    },
    {
     "name": "stdout",
     "output_type": "stream",
     "text": [
      "                   all         23          0          0          0          0          0\n",
      "WARNING ⚠️ no labels found in detect set, can not compute metrics without labels\n"
     ]
    },
    {
     "name": "stderr",
     "output_type": "stream",
     "text": [
      "\n",
      "/home/ruizhong/anaconda3/envs/model_training/lib/python3.12/site-packages/ultralytics/utils/metrics.py:730: RuntimeWarning: Mean of empty slice.\n",
      "  i = smooth(f1_curve.mean(0), 0.1).argmax()  # max F1 index\n",
      "/home/ruizhong/anaconda3/envs/model_training/lib/python3.12/site-packages/numpy/_core/_methods.py:137: RuntimeWarning: invalid value encountered in divide\n",
      "  ret = um.true_divide(\n"
     ]
    },
    {
     "name": "stdout",
     "output_type": "stream",
     "text": [
      "\n",
      "      Epoch    GPU_mem   box_loss   cls_loss   dfl_loss  Instances       Size\n"
     ]
    },
    {
     "name": "stderr",
     "output_type": "stream",
     "text": [
      "     48/100      2.64G          0      29.25          0          0        640: 100%|██████████| 6/6 [00:00<00:00,  6.38it/s]\n",
      "                 Class     Images  Instances      Box(P          R      mAP50  mAP50-95): 100%|██████████| 1/1 [00:00<00:00,  9.18it/s]"
     ]
    },
    {
     "name": "stdout",
     "output_type": "stream",
     "text": [
      "                   all         23          0          0          0          0          0\n",
      "WARNING ⚠️ no labels found in detect set, can not compute metrics without labels\n"
     ]
    },
    {
     "name": "stderr",
     "output_type": "stream",
     "text": [
      "\n",
      "/home/ruizhong/anaconda3/envs/model_training/lib/python3.12/site-packages/ultralytics/utils/metrics.py:730: RuntimeWarning: Mean of empty slice.\n",
      "  i = smooth(f1_curve.mean(0), 0.1).argmax()  # max F1 index\n",
      "/home/ruizhong/anaconda3/envs/model_training/lib/python3.12/site-packages/numpy/_core/_methods.py:137: RuntimeWarning: invalid value encountered in divide\n",
      "  ret = um.true_divide(\n"
     ]
    },
    {
     "name": "stdout",
     "output_type": "stream",
     "text": [
      "\n",
      "      Epoch    GPU_mem   box_loss   cls_loss   dfl_loss  Instances       Size\n"
     ]
    },
    {
     "name": "stderr",
     "output_type": "stream",
     "text": [
      "     49/100      2.64G          0      28.49          0          0        640: 100%|██████████| 6/6 [00:00<00:00,  7.49it/s]\n",
      "                 Class     Images  Instances      Box(P          R      mAP50  mAP50-95): 100%|██████████| 1/1 [00:00<00:00,  9.74it/s]"
     ]
    },
    {
     "name": "stdout",
     "output_type": "stream",
     "text": [
      "                   all         23          0          0          0          0          0\n",
      "WARNING ⚠️ no labels found in detect set, can not compute metrics without labels\n"
     ]
    },
    {
     "name": "stderr",
     "output_type": "stream",
     "text": [
      "\n",
      "/home/ruizhong/anaconda3/envs/model_training/lib/python3.12/site-packages/ultralytics/utils/metrics.py:730: RuntimeWarning: Mean of empty slice.\n",
      "  i = smooth(f1_curve.mean(0), 0.1).argmax()  # max F1 index\n",
      "/home/ruizhong/anaconda3/envs/model_training/lib/python3.12/site-packages/numpy/_core/_methods.py:137: RuntimeWarning: invalid value encountered in divide\n",
      "  ret = um.true_divide(\n"
     ]
    },
    {
     "name": "stdout",
     "output_type": "stream",
     "text": [
      "\n",
      "      Epoch    GPU_mem   box_loss   cls_loss   dfl_loss  Instances       Size\n"
     ]
    },
    {
     "name": "stderr",
     "output_type": "stream",
     "text": [
      "     50/100      2.64G          0      27.87          0          0        640: 100%|██████████| 6/6 [00:00<00:00,  6.84it/s]\n",
      "                 Class     Images  Instances      Box(P          R      mAP50  mAP50-95): 100%|██████████| 1/1 [00:00<00:00,  8.65it/s]"
     ]
    },
    {
     "name": "stdout",
     "output_type": "stream",
     "text": [
      "                   all         23          0          0          0          0          0\n",
      "WARNING ⚠️ no labels found in detect set, can not compute metrics without labels\n"
     ]
    },
    {
     "name": "stderr",
     "output_type": "stream",
     "text": [
      "\n",
      "/home/ruizhong/anaconda3/envs/model_training/lib/python3.12/site-packages/ultralytics/utils/metrics.py:730: RuntimeWarning: Mean of empty slice.\n",
      "  i = smooth(f1_curve.mean(0), 0.1).argmax()  # max F1 index\n",
      "/home/ruizhong/anaconda3/envs/model_training/lib/python3.12/site-packages/numpy/_core/_methods.py:137: RuntimeWarning: invalid value encountered in divide\n",
      "  ret = um.true_divide(\n"
     ]
    },
    {
     "name": "stdout",
     "output_type": "stream",
     "text": [
      "\n",
      "      Epoch    GPU_mem   box_loss   cls_loss   dfl_loss  Instances       Size\n"
     ]
    },
    {
     "name": "stderr",
     "output_type": "stream",
     "text": [
      "     51/100      2.64G          0      27.41          0          0        640: 100%|██████████| 6/6 [00:00<00:00,  6.06it/s]\n",
      "                 Class     Images  Instances      Box(P          R      mAP50  mAP50-95): 100%|██████████| 1/1 [00:00<00:00,  8.92it/s]"
     ]
    },
    {
     "name": "stdout",
     "output_type": "stream",
     "text": [
      "                   all         23          0          0          0          0          0\n",
      "WARNING ⚠️ no labels found in detect set, can not compute metrics without labels\n"
     ]
    },
    {
     "name": "stderr",
     "output_type": "stream",
     "text": [
      "\n",
      "/home/ruizhong/anaconda3/envs/model_training/lib/python3.12/site-packages/ultralytics/utils/metrics.py:730: RuntimeWarning: Mean of empty slice.\n",
      "  i = smooth(f1_curve.mean(0), 0.1).argmax()  # max F1 index\n",
      "/home/ruizhong/anaconda3/envs/model_training/lib/python3.12/site-packages/numpy/_core/_methods.py:137: RuntimeWarning: invalid value encountered in divide\n",
      "  ret = um.true_divide(\n"
     ]
    },
    {
     "name": "stdout",
     "output_type": "stream",
     "text": [
      "\n",
      "      Epoch    GPU_mem   box_loss   cls_loss   dfl_loss  Instances       Size\n"
     ]
    },
    {
     "name": "stderr",
     "output_type": "stream",
     "text": [
      "     52/100      2.64G          0      27.29          0          0        640: 100%|██████████| 6/6 [00:00<00:00,  7.65it/s]\n",
      "                 Class     Images  Instances      Box(P          R      mAP50  mAP50-95): 100%|██████████| 1/1 [00:00<00:00,  7.15it/s]"
     ]
    },
    {
     "name": "stdout",
     "output_type": "stream",
     "text": [
      "                   all         23          0          0          0          0          0\n",
      "WARNING ⚠️ no labels found in detect set, can not compute metrics without labels\n"
     ]
    },
    {
     "name": "stderr",
     "output_type": "stream",
     "text": [
      "\n",
      "/home/ruizhong/anaconda3/envs/model_training/lib/python3.12/site-packages/ultralytics/utils/metrics.py:730: RuntimeWarning: Mean of empty slice.\n",
      "  i = smooth(f1_curve.mean(0), 0.1).argmax()  # max F1 index\n",
      "/home/ruizhong/anaconda3/envs/model_training/lib/python3.12/site-packages/numpy/_core/_methods.py:137: RuntimeWarning: invalid value encountered in divide\n",
      "  ret = um.true_divide(\n"
     ]
    },
    {
     "name": "stdout",
     "output_type": "stream",
     "text": [
      "\n",
      "      Epoch    GPU_mem   box_loss   cls_loss   dfl_loss  Instances       Size\n"
     ]
    },
    {
     "name": "stderr",
     "output_type": "stream",
     "text": [
      "     53/100      2.64G          0      26.36          0          0        640: 100%|██████████| 6/6 [00:00<00:00,  7.15it/s]\n",
      "                 Class     Images  Instances      Box(P          R      mAP50  mAP50-95): 100%|██████████| 1/1 [00:00<00:00, 10.10it/s]"
     ]
    },
    {
     "name": "stdout",
     "output_type": "stream",
     "text": [
      "                   all         23          0          0          0          0          0\n",
      "WARNING ⚠️ no labels found in detect set, can not compute metrics without labels\n"
     ]
    },
    {
     "name": "stderr",
     "output_type": "stream",
     "text": [
      "\n",
      "/home/ruizhong/anaconda3/envs/model_training/lib/python3.12/site-packages/ultralytics/utils/metrics.py:730: RuntimeWarning: Mean of empty slice.\n",
      "  i = smooth(f1_curve.mean(0), 0.1).argmax()  # max F1 index\n",
      "/home/ruizhong/anaconda3/envs/model_training/lib/python3.12/site-packages/numpy/_core/_methods.py:137: RuntimeWarning: invalid value encountered in divide\n",
      "  ret = um.true_divide(\n"
     ]
    },
    {
     "name": "stdout",
     "output_type": "stream",
     "text": [
      "\n",
      "      Epoch    GPU_mem   box_loss   cls_loss   dfl_loss  Instances       Size\n"
     ]
    },
    {
     "name": "stderr",
     "output_type": "stream",
     "text": [
      "     54/100      2.64G          0      25.91          0          0        640: 100%|██████████| 6/6 [00:00<00:00,  6.71it/s]\n",
      "                 Class     Images  Instances      Box(P          R      mAP50  mAP50-95): 100%|██████████| 1/1 [00:00<00:00,  7.93it/s]"
     ]
    },
    {
     "name": "stdout",
     "output_type": "stream",
     "text": [
      "                   all         23          0          0          0          0          0\n",
      "WARNING ⚠️ no labels found in detect set, can not compute metrics without labels\n"
     ]
    },
    {
     "name": "stderr",
     "output_type": "stream",
     "text": [
      "\n",
      "/home/ruizhong/anaconda3/envs/model_training/lib/python3.12/site-packages/ultralytics/utils/metrics.py:730: RuntimeWarning: Mean of empty slice.\n",
      "  i = smooth(f1_curve.mean(0), 0.1).argmax()  # max F1 index\n",
      "/home/ruizhong/anaconda3/envs/model_training/lib/python3.12/site-packages/numpy/_core/_methods.py:137: RuntimeWarning: invalid value encountered in divide\n",
      "  ret = um.true_divide(\n"
     ]
    },
    {
     "name": "stdout",
     "output_type": "stream",
     "text": [
      "\n",
      "      Epoch    GPU_mem   box_loss   cls_loss   dfl_loss  Instances       Size\n"
     ]
    },
    {
     "name": "stderr",
     "output_type": "stream",
     "text": [
      "     55/100      2.64G          0      25.34          0          0        640: 100%|██████████| 6/6 [00:00<00:00,  7.16it/s]\n",
      "                 Class     Images  Instances      Box(P          R      mAP50  mAP50-95): 100%|██████████| 1/1 [00:00<00:00,  8.47it/s]"
     ]
    },
    {
     "name": "stdout",
     "output_type": "stream",
     "text": [
      "                   all         23          0          0          0          0          0\n",
      "WARNING ⚠️ no labels found in detect set, can not compute metrics without labels\n"
     ]
    },
    {
     "name": "stderr",
     "output_type": "stream",
     "text": [
      "\n",
      "/home/ruizhong/anaconda3/envs/model_training/lib/python3.12/site-packages/ultralytics/utils/metrics.py:730: RuntimeWarning: Mean of empty slice.\n",
      "  i = smooth(f1_curve.mean(0), 0.1).argmax()  # max F1 index\n",
      "/home/ruizhong/anaconda3/envs/model_training/lib/python3.12/site-packages/numpy/_core/_methods.py:137: RuntimeWarning: invalid value encountered in divide\n",
      "  ret = um.true_divide(\n"
     ]
    },
    {
     "name": "stdout",
     "output_type": "stream",
     "text": [
      "\n",
      "      Epoch    GPU_mem   box_loss   cls_loss   dfl_loss  Instances       Size\n"
     ]
    },
    {
     "name": "stderr",
     "output_type": "stream",
     "text": [
      "     56/100      2.64G          0       24.9          0          0        640: 100%|██████████| 6/6 [00:00<00:00,  9.17it/s]\n",
      "                 Class     Images  Instances      Box(P          R      mAP50  mAP50-95): 100%|██████████| 1/1 [00:00<00:00,  8.90it/s]"
     ]
    },
    {
     "name": "stdout",
     "output_type": "stream",
     "text": [
      "                   all         23          0          0          0          0          0\n",
      "WARNING ⚠️ no labels found in detect set, can not compute metrics without labels\n"
     ]
    },
    {
     "name": "stderr",
     "output_type": "stream",
     "text": [
      "\n",
      "/home/ruizhong/anaconda3/envs/model_training/lib/python3.12/site-packages/ultralytics/utils/metrics.py:730: RuntimeWarning: Mean of empty slice.\n",
      "  i = smooth(f1_curve.mean(0), 0.1).argmax()  # max F1 index\n",
      "/home/ruizhong/anaconda3/envs/model_training/lib/python3.12/site-packages/numpy/_core/_methods.py:137: RuntimeWarning: invalid value encountered in divide\n",
      "  ret = um.true_divide(\n"
     ]
    },
    {
     "name": "stdout",
     "output_type": "stream",
     "text": [
      "\n",
      "      Epoch    GPU_mem   box_loss   cls_loss   dfl_loss  Instances       Size\n"
     ]
    },
    {
     "name": "stderr",
     "output_type": "stream",
     "text": [
      "     57/100      2.64G          0      24.32          0          0        640: 100%|██████████| 6/6 [00:00<00:00, -48.88it/s]\n",
      "                 Class     Images  Instances      Box(P          R      mAP50  mAP50-95): 100%|██████████| 1/1 [00:00<00:00,  8.79it/s]"
     ]
    },
    {
     "name": "stdout",
     "output_type": "stream",
     "text": [
      "                   all         23          0          0          0          0          0\n",
      "WARNING ⚠️ no labels found in detect set, can not compute metrics without labels\n"
     ]
    },
    {
     "name": "stderr",
     "output_type": "stream",
     "text": [
      "\n",
      "/home/ruizhong/anaconda3/envs/model_training/lib/python3.12/site-packages/ultralytics/utils/metrics.py:730: RuntimeWarning: Mean of empty slice.\n",
      "  i = smooth(f1_curve.mean(0), 0.1).argmax()  # max F1 index\n",
      "/home/ruizhong/anaconda3/envs/model_training/lib/python3.12/site-packages/numpy/_core/_methods.py:137: RuntimeWarning: invalid value encountered in divide\n",
      "  ret = um.true_divide(\n"
     ]
    },
    {
     "name": "stdout",
     "output_type": "stream",
     "text": [
      "\n",
      "      Epoch    GPU_mem   box_loss   cls_loss   dfl_loss  Instances       Size\n"
     ]
    },
    {
     "name": "stderr",
     "output_type": "stream",
     "text": [
      "     58/100      2.64G          0      23.82          0          0        640: 100%|██████████| 6/6 [00:00<00:00,  7.06it/s]\n",
      "                 Class     Images  Instances      Box(P          R      mAP50  mAP50-95): 100%|██████████| 1/1 [00:00<00:00,  9.23it/s]"
     ]
    },
    {
     "name": "stdout",
     "output_type": "stream",
     "text": [
      "                   all         23          0          0          0          0          0\n",
      "WARNING ⚠️ no labels found in detect set, can not compute metrics without labels\n"
     ]
    },
    {
     "name": "stderr",
     "output_type": "stream",
     "text": [
      "\n",
      "/home/ruizhong/anaconda3/envs/model_training/lib/python3.12/site-packages/ultralytics/utils/metrics.py:730: RuntimeWarning: Mean of empty slice.\n",
      "  i = smooth(f1_curve.mean(0), 0.1).argmax()  # max F1 index\n",
      "/home/ruizhong/anaconda3/envs/model_training/lib/python3.12/site-packages/numpy/_core/_methods.py:137: RuntimeWarning: invalid value encountered in divide\n",
      "  ret = um.true_divide(\n"
     ]
    },
    {
     "name": "stdout",
     "output_type": "stream",
     "text": [
      "\n",
      "      Epoch    GPU_mem   box_loss   cls_loss   dfl_loss  Instances       Size\n"
     ]
    },
    {
     "name": "stderr",
     "output_type": "stream",
     "text": [
      "     59/100      2.64G          0      23.33          0          0        640: 100%|██████████| 6/6 [00:00<00:00,  6.70it/s]\n",
      "                 Class     Images  Instances      Box(P          R      mAP50  mAP50-95): 100%|██████████| 1/1 [00:00<00:00,  7.88it/s]"
     ]
    },
    {
     "name": "stdout",
     "output_type": "stream",
     "text": [
      "                   all         23          0          0          0          0          0\n",
      "WARNING ⚠️ no labels found in detect set, can not compute metrics without labels\n"
     ]
    },
    {
     "name": "stderr",
     "output_type": "stream",
     "text": [
      "\n",
      "/home/ruizhong/anaconda3/envs/model_training/lib/python3.12/site-packages/ultralytics/utils/metrics.py:730: RuntimeWarning: Mean of empty slice.\n",
      "  i = smooth(f1_curve.mean(0), 0.1).argmax()  # max F1 index\n",
      "/home/ruizhong/anaconda3/envs/model_training/lib/python3.12/site-packages/numpy/_core/_methods.py:137: RuntimeWarning: invalid value encountered in divide\n",
      "  ret = um.true_divide(\n"
     ]
    },
    {
     "name": "stdout",
     "output_type": "stream",
     "text": [
      "\n",
      "      Epoch    GPU_mem   box_loss   cls_loss   dfl_loss  Instances       Size\n"
     ]
    },
    {
     "name": "stderr",
     "output_type": "stream",
     "text": [
      "     60/100      2.64G          0      22.91          0          0        640: 100%|██████████| 6/6 [00:00<00:00,  6.69it/s]\n",
      "                 Class     Images  Instances      Box(P          R      mAP50  mAP50-95): 100%|██████████| 1/1 [00:00<00:00,  9.14it/s]"
     ]
    },
    {
     "name": "stdout",
     "output_type": "stream",
     "text": [
      "                   all         23          0          0          0          0          0\n",
      "WARNING ⚠️ no labels found in detect set, can not compute metrics without labels\n"
     ]
    },
    {
     "name": "stderr",
     "output_type": "stream",
     "text": [
      "\n",
      "/home/ruizhong/anaconda3/envs/model_training/lib/python3.12/site-packages/ultralytics/utils/metrics.py:730: RuntimeWarning: Mean of empty slice.\n",
      "  i = smooth(f1_curve.mean(0), 0.1).argmax()  # max F1 index\n",
      "/home/ruizhong/anaconda3/envs/model_training/lib/python3.12/site-packages/numpy/_core/_methods.py:137: RuntimeWarning: invalid value encountered in divide\n",
      "  ret = um.true_divide(\n"
     ]
    },
    {
     "name": "stdout",
     "output_type": "stream",
     "text": [
      "\n",
      "      Epoch    GPU_mem   box_loss   cls_loss   dfl_loss  Instances       Size\n"
     ]
    },
    {
     "name": "stderr",
     "output_type": "stream",
     "text": [
      "     61/100      2.64G          0      22.45          0          0        640: 100%|██████████| 6/6 [00:00<00:00,  7.02it/s]\n",
      "                 Class     Images  Instances      Box(P          R      mAP50  mAP50-95): 100%|██████████| 1/1 [00:00<00:00,  8.21it/s]"
     ]
    },
    {
     "name": "stdout",
     "output_type": "stream",
     "text": [
      "                   all         23          0          0          0          0          0\n",
      "WARNING ⚠️ no labels found in detect set, can not compute metrics without labels\n"
     ]
    },
    {
     "name": "stderr",
     "output_type": "stream",
     "text": [
      "\n",
      "/home/ruizhong/anaconda3/envs/model_training/lib/python3.12/site-packages/ultralytics/utils/metrics.py:730: RuntimeWarning: Mean of empty slice.\n",
      "  i = smooth(f1_curve.mean(0), 0.1).argmax()  # max F1 index\n",
      "/home/ruizhong/anaconda3/envs/model_training/lib/python3.12/site-packages/numpy/_core/_methods.py:137: RuntimeWarning: invalid value encountered in divide\n",
      "  ret = um.true_divide(\n"
     ]
    },
    {
     "name": "stdout",
     "output_type": "stream",
     "text": [
      "\n",
      "      Epoch    GPU_mem   box_loss   cls_loss   dfl_loss  Instances       Size\n"
     ]
    },
    {
     "name": "stderr",
     "output_type": "stream",
     "text": [
      "     62/100      2.64G          0       22.1          0          0        640: 100%|██████████| 6/6 [00:00<00:00,  7.22it/s]\n",
      "                 Class     Images  Instances      Box(P          R      mAP50  mAP50-95): 100%|██████████| 1/1 [00:00<00:00, 10.89it/s]"
     ]
    },
    {
     "name": "stdout",
     "output_type": "stream",
     "text": [
      "                   all         23          0          0          0          0          0\n",
      "WARNING ⚠️ no labels found in detect set, can not compute metrics without labels\n"
     ]
    },
    {
     "name": "stderr",
     "output_type": "stream",
     "text": [
      "\n",
      "/home/ruizhong/anaconda3/envs/model_training/lib/python3.12/site-packages/ultralytics/utils/metrics.py:730: RuntimeWarning: Mean of empty slice.\n",
      "  i = smooth(f1_curve.mean(0), 0.1).argmax()  # max F1 index\n",
      "/home/ruizhong/anaconda3/envs/model_training/lib/python3.12/site-packages/numpy/_core/_methods.py:137: RuntimeWarning: invalid value encountered in divide\n",
      "  ret = um.true_divide(\n"
     ]
    },
    {
     "name": "stdout",
     "output_type": "stream",
     "text": [
      "\n",
      "      Epoch    GPU_mem   box_loss   cls_loss   dfl_loss  Instances       Size\n"
     ]
    },
    {
     "name": "stderr",
     "output_type": "stream",
     "text": [
      "     63/100      2.64G          0      21.66          0          0        640: 100%|██████████| 6/6 [00:00<00:00,  7.26it/s]\n",
      "                 Class     Images  Instances      Box(P          R      mAP50  mAP50-95): 100%|██████████| 1/1 [00:00<00:00,  7.03it/s]"
     ]
    },
    {
     "name": "stdout",
     "output_type": "stream",
     "text": [
      "                   all         23          0          0          0          0          0\n",
      "WARNING ⚠️ no labels found in detect set, can not compute metrics without labels\n"
     ]
    },
    {
     "name": "stderr",
     "output_type": "stream",
     "text": [
      "\n",
      "/home/ruizhong/anaconda3/envs/model_training/lib/python3.12/site-packages/ultralytics/utils/metrics.py:730: RuntimeWarning: Mean of empty slice.\n",
      "  i = smooth(f1_curve.mean(0), 0.1).argmax()  # max F1 index\n",
      "/home/ruizhong/anaconda3/envs/model_training/lib/python3.12/site-packages/numpy/_core/_methods.py:137: RuntimeWarning: invalid value encountered in divide\n",
      "  ret = um.true_divide(\n"
     ]
    },
    {
     "name": "stdout",
     "output_type": "stream",
     "text": [
      "\n",
      "      Epoch    GPU_mem   box_loss   cls_loss   dfl_loss  Instances       Size\n"
     ]
    },
    {
     "name": "stderr",
     "output_type": "stream",
     "text": [
      "     64/100      2.64G          0      21.33          0          0        640: 100%|██████████| 6/6 [00:00<00:00,  6.54it/s]\n",
      "                 Class     Images  Instances      Box(P          R      mAP50  mAP50-95): 100%|██████████| 1/1 [00:00<00:00,  9.12it/s]"
     ]
    },
    {
     "name": "stdout",
     "output_type": "stream",
     "text": [
      "                   all         23          0          0          0          0          0\n",
      "WARNING ⚠️ no labels found in detect set, can not compute metrics without labels\n"
     ]
    },
    {
     "name": "stderr",
     "output_type": "stream",
     "text": [
      "\n",
      "/home/ruizhong/anaconda3/envs/model_training/lib/python3.12/site-packages/ultralytics/utils/metrics.py:730: RuntimeWarning: Mean of empty slice.\n",
      "  i = smooth(f1_curve.mean(0), 0.1).argmax()  # max F1 index\n",
      "/home/ruizhong/anaconda3/envs/model_training/lib/python3.12/site-packages/numpy/_core/_methods.py:137: RuntimeWarning: invalid value encountered in divide\n",
      "  ret = um.true_divide(\n"
     ]
    },
    {
     "name": "stdout",
     "output_type": "stream",
     "text": [
      "\n",
      "      Epoch    GPU_mem   box_loss   cls_loss   dfl_loss  Instances       Size\n"
     ]
    },
    {
     "name": "stderr",
     "output_type": "stream",
     "text": [
      "     65/100      2.64G          0      20.95          0          0        640: 100%|██████████| 6/6 [00:00<00:00,  7.40it/s]\n",
      "                 Class     Images  Instances      Box(P          R      mAP50  mAP50-95): 100%|██████████| 1/1 [00:00<00:00,  7.38it/s]"
     ]
    },
    {
     "name": "stdout",
     "output_type": "stream",
     "text": [
      "                   all         23          0          0          0          0          0\n",
      "WARNING ⚠️ no labels found in detect set, can not compute metrics without labels\n"
     ]
    },
    {
     "name": "stderr",
     "output_type": "stream",
     "text": [
      "\n",
      "/home/ruizhong/anaconda3/envs/model_training/lib/python3.12/site-packages/ultralytics/utils/metrics.py:730: RuntimeWarning: Mean of empty slice.\n",
      "  i = smooth(f1_curve.mean(0), 0.1).argmax()  # max F1 index\n",
      "/home/ruizhong/anaconda3/envs/model_training/lib/python3.12/site-packages/numpy/_core/_methods.py:137: RuntimeWarning: invalid value encountered in divide\n",
      "  ret = um.true_divide(\n"
     ]
    },
    {
     "name": "stdout",
     "output_type": "stream",
     "text": [
      "\n",
      "      Epoch    GPU_mem   box_loss   cls_loss   dfl_loss  Instances       Size\n"
     ]
    },
    {
     "name": "stderr",
     "output_type": "stream",
     "text": [
      "     66/100      2.64G          0      20.59          0          0        640: 100%|██████████| 6/6 [00:00<00:00,  7.71it/s]\n",
      "                 Class     Images  Instances      Box(P          R      mAP50  mAP50-95): 100%|██████████| 1/1 [00:00<00:00,  8.53it/s]"
     ]
    },
    {
     "name": "stdout",
     "output_type": "stream",
     "text": [
      "                   all         23          0          0          0          0          0\n",
      "WARNING ⚠️ no labels found in detect set, can not compute metrics without labels\n"
     ]
    },
    {
     "name": "stderr",
     "output_type": "stream",
     "text": [
      "\n",
      "/home/ruizhong/anaconda3/envs/model_training/lib/python3.12/site-packages/ultralytics/utils/metrics.py:730: RuntimeWarning: Mean of empty slice.\n",
      "  i = smooth(f1_curve.mean(0), 0.1).argmax()  # max F1 index\n",
      "/home/ruizhong/anaconda3/envs/model_training/lib/python3.12/site-packages/numpy/_core/_methods.py:137: RuntimeWarning: invalid value encountered in divide\n",
      "  ret = um.true_divide(\n"
     ]
    },
    {
     "name": "stdout",
     "output_type": "stream",
     "text": [
      "\n",
      "      Epoch    GPU_mem   box_loss   cls_loss   dfl_loss  Instances       Size\n"
     ]
    },
    {
     "name": "stderr",
     "output_type": "stream",
     "text": [
      "     67/100      2.64G          0      20.23          0          0        640: 100%|██████████| 6/6 [00:00<00:00,  7.36it/s]\n",
      "                 Class     Images  Instances      Box(P          R      mAP50  mAP50-95): 100%|██████████| 1/1 [00:00<00:00,  8.69it/s]"
     ]
    },
    {
     "name": "stdout",
     "output_type": "stream",
     "text": [
      "                   all         23          0          0          0          0          0\n",
      "WARNING ⚠️ no labels found in detect set, can not compute metrics without labels\n"
     ]
    },
    {
     "name": "stderr",
     "output_type": "stream",
     "text": [
      "\n",
      "/home/ruizhong/anaconda3/envs/model_training/lib/python3.12/site-packages/ultralytics/utils/metrics.py:730: RuntimeWarning: Mean of empty slice.\n",
      "  i = smooth(f1_curve.mean(0), 0.1).argmax()  # max F1 index\n",
      "/home/ruizhong/anaconda3/envs/model_training/lib/python3.12/site-packages/numpy/_core/_methods.py:137: RuntimeWarning: invalid value encountered in divide\n",
      "  ret = um.true_divide(\n"
     ]
    },
    {
     "name": "stdout",
     "output_type": "stream",
     "text": [
      "\n",
      "      Epoch    GPU_mem   box_loss   cls_loss   dfl_loss  Instances       Size\n"
     ]
    },
    {
     "name": "stderr",
     "output_type": "stream",
     "text": [
      "     68/100      2.64G          0      19.91          0          0        640: 100%|██████████| 6/6 [00:00<00:00,  8.65it/s]\n",
      "                 Class     Images  Instances      Box(P          R      mAP50  mAP50-95): 100%|██████████| 1/1 [00:00<00:00,  8.82it/s]"
     ]
    },
    {
     "name": "stdout",
     "output_type": "stream",
     "text": [
      "                   all         23          0          0          0          0          0\n",
      "WARNING ⚠️ no labels found in detect set, can not compute metrics without labels\n"
     ]
    },
    {
     "name": "stderr",
     "output_type": "stream",
     "text": [
      "\n",
      "/home/ruizhong/anaconda3/envs/model_training/lib/python3.12/site-packages/ultralytics/utils/metrics.py:730: RuntimeWarning: Mean of empty slice.\n",
      "  i = smooth(f1_curve.mean(0), 0.1).argmax()  # max F1 index\n",
      "/home/ruizhong/anaconda3/envs/model_training/lib/python3.12/site-packages/numpy/_core/_methods.py:137: RuntimeWarning: invalid value encountered in divide\n",
      "  ret = um.true_divide(\n"
     ]
    },
    {
     "name": "stdout",
     "output_type": "stream",
     "text": [
      "\n",
      "      Epoch    GPU_mem   box_loss   cls_loss   dfl_loss  Instances       Size\n"
     ]
    },
    {
     "name": "stderr",
     "output_type": "stream",
     "text": [
      "     69/100      2.64G          0      19.53          0          0        640: 100%|██████████| 6/6 [00:00<00:00,  7.62it/s]\n",
      "                 Class     Images  Instances      Box(P          R      mAP50  mAP50-95): 100%|██████████| 1/1 [00:00<00:00, 10.07it/s]"
     ]
    },
    {
     "name": "stdout",
     "output_type": "stream",
     "text": [
      "                   all         23          0          0          0          0          0\n",
      "WARNING ⚠️ no labels found in detect set, can not compute metrics without labels\n"
     ]
    },
    {
     "name": "stderr",
     "output_type": "stream",
     "text": [
      "\n",
      "/home/ruizhong/anaconda3/envs/model_training/lib/python3.12/site-packages/ultralytics/utils/metrics.py:730: RuntimeWarning: Mean of empty slice.\n",
      "  i = smooth(f1_curve.mean(0), 0.1).argmax()  # max F1 index\n",
      "/home/ruizhong/anaconda3/envs/model_training/lib/python3.12/site-packages/numpy/_core/_methods.py:137: RuntimeWarning: invalid value encountered in divide\n",
      "  ret = um.true_divide(\n"
     ]
    },
    {
     "name": "stdout",
     "output_type": "stream",
     "text": [
      "\n",
      "      Epoch    GPU_mem   box_loss   cls_loss   dfl_loss  Instances       Size\n"
     ]
    },
    {
     "name": "stderr",
     "output_type": "stream",
     "text": [
      "     70/100      2.64G          0      19.35          0          0        640: 100%|██████████| 6/6 [00:00<00:00,  7.99it/s]\n",
      "                 Class     Images  Instances      Box(P          R      mAP50  mAP50-95): 100%|██████████| 1/1 [00:00<00:00,  8.71it/s]"
     ]
    },
    {
     "name": "stdout",
     "output_type": "stream",
     "text": [
      "                   all         23          0          0          0          0          0\n",
      "WARNING ⚠️ no labels found in detect set, can not compute metrics without labels\n"
     ]
    },
    {
     "name": "stderr",
     "output_type": "stream",
     "text": [
      "\n",
      "/home/ruizhong/anaconda3/envs/model_training/lib/python3.12/site-packages/ultralytics/utils/metrics.py:730: RuntimeWarning: Mean of empty slice.\n",
      "  i = smooth(f1_curve.mean(0), 0.1).argmax()  # max F1 index\n",
      "/home/ruizhong/anaconda3/envs/model_training/lib/python3.12/site-packages/numpy/_core/_methods.py:137: RuntimeWarning: invalid value encountered in divide\n",
      "  ret = um.true_divide(\n"
     ]
    },
    {
     "name": "stdout",
     "output_type": "stream",
     "text": [
      "\n",
      "      Epoch    GPU_mem   box_loss   cls_loss   dfl_loss  Instances       Size\n"
     ]
    },
    {
     "name": "stderr",
     "output_type": "stream",
     "text": [
      "     71/100      2.64G          0      18.97          0          0        640: 100%|██████████| 6/6 [00:00<00:00,  7.87it/s]\n",
      "                 Class     Images  Instances      Box(P          R      mAP50  mAP50-95): 100%|██████████| 1/1 [00:00<00:00,  8.15it/s]"
     ]
    },
    {
     "name": "stdout",
     "output_type": "stream",
     "text": [
      "                   all         23          0          0          0          0          0\n",
      "WARNING ⚠️ no labels found in detect set, can not compute metrics without labels\n"
     ]
    },
    {
     "name": "stderr",
     "output_type": "stream",
     "text": [
      "\n",
      "/home/ruizhong/anaconda3/envs/model_training/lib/python3.12/site-packages/ultralytics/utils/metrics.py:730: RuntimeWarning: Mean of empty slice.\n",
      "  i = smooth(f1_curve.mean(0), 0.1).argmax()  # max F1 index\n",
      "/home/ruizhong/anaconda3/envs/model_training/lib/python3.12/site-packages/numpy/_core/_methods.py:137: RuntimeWarning: invalid value encountered in divide\n",
      "  ret = um.true_divide(\n"
     ]
    },
    {
     "name": "stdout",
     "output_type": "stream",
     "text": [
      "\n",
      "      Epoch    GPU_mem   box_loss   cls_loss   dfl_loss  Instances       Size\n"
     ]
    },
    {
     "name": "stderr",
     "output_type": "stream",
     "text": [
      "     72/100      2.64G          0      18.64          0          0        640: 100%|██████████| 6/6 [00:00<00:00,  7.39it/s]\n",
      "                 Class     Images  Instances      Box(P          R      mAP50  mAP50-95): 100%|██████████| 1/1 [00:00<00:00, 10.77it/s]"
     ]
    },
    {
     "name": "stdout",
     "output_type": "stream",
     "text": [
      "                   all         23          0          0          0          0          0\n",
      "WARNING ⚠️ no labels found in detect set, can not compute metrics without labels\n"
     ]
    },
    {
     "name": "stderr",
     "output_type": "stream",
     "text": [
      "\n",
      "/home/ruizhong/anaconda3/envs/model_training/lib/python3.12/site-packages/ultralytics/utils/metrics.py:730: RuntimeWarning: Mean of empty slice.\n",
      "  i = smooth(f1_curve.mean(0), 0.1).argmax()  # max F1 index\n",
      "/home/ruizhong/anaconda3/envs/model_training/lib/python3.12/site-packages/numpy/_core/_methods.py:137: RuntimeWarning: invalid value encountered in divide\n",
      "  ret = um.true_divide(\n"
     ]
    },
    {
     "name": "stdout",
     "output_type": "stream",
     "text": [
      "\n",
      "      Epoch    GPU_mem   box_loss   cls_loss   dfl_loss  Instances       Size\n"
     ]
    },
    {
     "name": "stderr",
     "output_type": "stream",
     "text": [
      "     73/100      2.64G          0      18.33          0          0        640: 100%|██████████| 6/6 [00:00<00:00,  6.43it/s]\n",
      "                 Class     Images  Instances      Box(P          R      mAP50  mAP50-95): 100%|██████████| 1/1 [00:00<00:00,  9.54it/s]"
     ]
    },
    {
     "name": "stdout",
     "output_type": "stream",
     "text": [
      "                   all         23          0          0          0          0          0\n",
      "WARNING ⚠️ no labels found in detect set, can not compute metrics without labels\n"
     ]
    },
    {
     "name": "stderr",
     "output_type": "stream",
     "text": [
      "\n",
      "/home/ruizhong/anaconda3/envs/model_training/lib/python3.12/site-packages/ultralytics/utils/metrics.py:730: RuntimeWarning: Mean of empty slice.\n",
      "  i = smooth(f1_curve.mean(0), 0.1).argmax()  # max F1 index\n",
      "/home/ruizhong/anaconda3/envs/model_training/lib/python3.12/site-packages/numpy/_core/_methods.py:137: RuntimeWarning: invalid value encountered in divide\n",
      "  ret = um.true_divide(\n"
     ]
    },
    {
     "name": "stdout",
     "output_type": "stream",
     "text": [
      "\n",
      "      Epoch    GPU_mem   box_loss   cls_loss   dfl_loss  Instances       Size\n"
     ]
    },
    {
     "name": "stderr",
     "output_type": "stream",
     "text": [
      "     74/100      2.64G          0      18.08          0          0        640: 100%|██████████| 6/6 [00:00<00:00,  7.66it/s]\n",
      "                 Class     Images  Instances      Box(P          R      mAP50  mAP50-95): 100%|██████████| 1/1 [00:00<00:00, 13.91it/s]"
     ]
    },
    {
     "name": "stdout",
     "output_type": "stream",
     "text": [
      "                   all         23          0          0          0          0          0\n",
      "WARNING ⚠️ no labels found in detect set, can not compute metrics without labels\n"
     ]
    },
    {
     "name": "stderr",
     "output_type": "stream",
     "text": [
      "\n",
      "/home/ruizhong/anaconda3/envs/model_training/lib/python3.12/site-packages/ultralytics/utils/metrics.py:730: RuntimeWarning: Mean of empty slice.\n",
      "  i = smooth(f1_curve.mean(0), 0.1).argmax()  # max F1 index\n",
      "/home/ruizhong/anaconda3/envs/model_training/lib/python3.12/site-packages/numpy/_core/_methods.py:137: RuntimeWarning: invalid value encountered in divide\n",
      "  ret = um.true_divide(\n"
     ]
    },
    {
     "name": "stdout",
     "output_type": "stream",
     "text": [
      "\n",
      "      Epoch    GPU_mem   box_loss   cls_loss   dfl_loss  Instances       Size\n"
     ]
    },
    {
     "name": "stderr",
     "output_type": "stream",
     "text": [
      "     75/100      2.64G          0      17.81          0          0        640: 100%|██████████| 6/6 [00:00<00:00,  8.07it/s]\n",
      "                 Class     Images  Instances      Box(P          R      mAP50  mAP50-95): 100%|██████████| 1/1 [00:00<00:00, 12.06it/s]"
     ]
    },
    {
     "name": "stdout",
     "output_type": "stream",
     "text": [
      "                   all         23          0          0          0          0          0\n",
      "WARNING ⚠️ no labels found in detect set, can not compute metrics without labels\n"
     ]
    },
    {
     "name": "stderr",
     "output_type": "stream",
     "text": [
      "\n",
      "/home/ruizhong/anaconda3/envs/model_training/lib/python3.12/site-packages/ultralytics/utils/metrics.py:730: RuntimeWarning: Mean of empty slice.\n",
      "  i = smooth(f1_curve.mean(0), 0.1).argmax()  # max F1 index\n",
      "/home/ruizhong/anaconda3/envs/model_training/lib/python3.12/site-packages/numpy/_core/_methods.py:137: RuntimeWarning: invalid value encountered in divide\n",
      "  ret = um.true_divide(\n"
     ]
    },
    {
     "name": "stdout",
     "output_type": "stream",
     "text": [
      "\n",
      "      Epoch    GPU_mem   box_loss   cls_loss   dfl_loss  Instances       Size\n"
     ]
    },
    {
     "name": "stderr",
     "output_type": "stream",
     "text": [
      "     76/100      2.64G          0      17.58          0          0        640: 100%|██████████| 6/6 [00:00<00:00,  7.71it/s]\n",
      "                 Class     Images  Instances      Box(P          R      mAP50  mAP50-95): 100%|██████████| 1/1 [00:00<00:00, 11.05it/s]"
     ]
    },
    {
     "name": "stdout",
     "output_type": "stream",
     "text": [
      "                   all         23          0          0          0          0          0\n",
      "WARNING ⚠️ no labels found in detect set, can not compute metrics without labels\n"
     ]
    },
    {
     "name": "stderr",
     "output_type": "stream",
     "text": [
      "\n",
      "/home/ruizhong/anaconda3/envs/model_training/lib/python3.12/site-packages/ultralytics/utils/metrics.py:730: RuntimeWarning: Mean of empty slice.\n",
      "  i = smooth(f1_curve.mean(0), 0.1).argmax()  # max F1 index\n",
      "/home/ruizhong/anaconda3/envs/model_training/lib/python3.12/site-packages/numpy/_core/_methods.py:137: RuntimeWarning: invalid value encountered in divide\n",
      "  ret = um.true_divide(\n"
     ]
    },
    {
     "name": "stdout",
     "output_type": "stream",
     "text": [
      "\n",
      "      Epoch    GPU_mem   box_loss   cls_loss   dfl_loss  Instances       Size\n"
     ]
    },
    {
     "name": "stderr",
     "output_type": "stream",
     "text": [
      "     77/100      2.64G          0      17.34          0          0        640: 100%|██████████| 6/6 [00:00<00:00,  6.69it/s]\n",
      "                 Class     Images  Instances      Box(P          R      mAP50  mAP50-95): 100%|██████████| 1/1 [00:00<00:00, 12.25it/s]"
     ]
    },
    {
     "name": "stdout",
     "output_type": "stream",
     "text": [
      "                   all         23          0          0          0          0          0\n",
      "WARNING ⚠️ no labels found in detect set, can not compute metrics without labels\n"
     ]
    },
    {
     "name": "stderr",
     "output_type": "stream",
     "text": [
      "\n",
      "/home/ruizhong/anaconda3/envs/model_training/lib/python3.12/site-packages/ultralytics/utils/metrics.py:730: RuntimeWarning: Mean of empty slice.\n",
      "  i = smooth(f1_curve.mean(0), 0.1).argmax()  # max F1 index\n",
      "/home/ruizhong/anaconda3/envs/model_training/lib/python3.12/site-packages/numpy/_core/_methods.py:137: RuntimeWarning: invalid value encountered in divide\n",
      "  ret = um.true_divide(\n"
     ]
    },
    {
     "name": "stdout",
     "output_type": "stream",
     "text": [
      "\n",
      "      Epoch    GPU_mem   box_loss   cls_loss   dfl_loss  Instances       Size\n"
     ]
    },
    {
     "name": "stderr",
     "output_type": "stream",
     "text": [
      "     78/100      2.64G          0      17.11          0          0        640: 100%|██████████| 6/6 [00:00<00:00,  6.16it/s]\n",
      "                 Class     Images  Instances      Box(P          R      mAP50  mAP50-95): 100%|██████████| 1/1 [00:00<00:00, 13.31it/s]"
     ]
    },
    {
     "name": "stdout",
     "output_type": "stream",
     "text": [
      "                   all         23          0          0          0          0          0\n",
      "WARNING ⚠️ no labels found in detect set, can not compute metrics without labels\n"
     ]
    },
    {
     "name": "stderr",
     "output_type": "stream",
     "text": [
      "\n",
      "/home/ruizhong/anaconda3/envs/model_training/lib/python3.12/site-packages/ultralytics/utils/metrics.py:730: RuntimeWarning: Mean of empty slice.\n",
      "  i = smooth(f1_curve.mean(0), 0.1).argmax()  # max F1 index\n",
      "/home/ruizhong/anaconda3/envs/model_training/lib/python3.12/site-packages/numpy/_core/_methods.py:137: RuntimeWarning: invalid value encountered in divide\n",
      "  ret = um.true_divide(\n"
     ]
    },
    {
     "name": "stdout",
     "output_type": "stream",
     "text": [
      "\n",
      "      Epoch    GPU_mem   box_loss   cls_loss   dfl_loss  Instances       Size\n"
     ]
    },
    {
     "name": "stderr",
     "output_type": "stream",
     "text": [
      "     79/100      2.64G          0      16.91          0          0        640: 100%|██████████| 6/6 [00:00<00:00,  7.43it/s]\n",
      "                 Class     Images  Instances      Box(P          R      mAP50  mAP50-95): 100%|██████████| 1/1 [00:00<00:00, 14.84it/s]\n"
     ]
    },
    {
     "ename": "RuntimeError",
     "evalue": "torch.cat(): expected a non-empty list of Tensors",
     "output_type": "error",
     "traceback": [
      "\u001b[31m---------------------------------------------------------------------------\u001b[39m",
      "\u001b[31mRuntimeError\u001b[39m                              Traceback (most recent call last)",
      "\u001b[36mCell\u001b[39m\u001b[36m \u001b[39m\u001b[32mIn[21]\u001b[39m\u001b[32m, line 7\u001b[39m\n\u001b[32m      3\u001b[39m model = YOLO(\u001b[33m\"\u001b[39m\u001b[33myolov8n.pt\u001b[39m\u001b[33m\"\u001b[39m) \n\u001b[32m      5\u001b[39m \u001b[38;5;66;03m# Train the model on the COCO8 dataset for 100 epochs\u001b[39;00m\n\u001b[32m----> \u001b[39m\u001b[32m7\u001b[39m train_results = \u001b[43mmodel\u001b[49m\u001b[43m.\u001b[49m\u001b[43mtrain\u001b[49m\u001b[43m(\u001b[49m\n\u001b[32m      8\u001b[39m \u001b[43m    \u001b[49m\u001b[43mdata\u001b[49m\u001b[43m=\u001b[49m\u001b[33;43m'\u001b[39;49m\u001b[33;43m/home/ruizhong/entire_project/project_version5/model_training/car-detection--2/data.yaml\u001b[39;49m\u001b[33;43m'\u001b[39;49m\u001b[43m,\u001b[49m\u001b[43m  \u001b[49m\u001b[38;5;66;43;03m# Path to dataset configuration file\u001b[39;49;00m\n\u001b[32m      9\u001b[39m \u001b[43m    \u001b[49m\u001b[43mepochs\u001b[49m\u001b[43m=\u001b[49m\u001b[32;43m100\u001b[39;49m\u001b[43m,\u001b[49m\u001b[43m  \u001b[49m\u001b[38;5;66;43;03m# Number of training epochs\u001b[39;49;00m\n\u001b[32m     10\u001b[39m \u001b[43m    \u001b[49m\u001b[43mbatch\u001b[49m\u001b[43m=\u001b[49m\u001b[32;43m16\u001b[39;49m\u001b[43m,\u001b[49m\n\u001b[32m     11\u001b[39m \u001b[43m    \u001b[49m\u001b[43mimgsz\u001b[49m\u001b[43m=\u001b[49m\u001b[32;43m640\u001b[39;49m\u001b[43m,\u001b[49m\u001b[43m  \u001b[49m\u001b[38;5;66;43;03m# Image size for training\u001b[39;49;00m\n\u001b[32m     12\u001b[39m \u001b[43m    \u001b[49m\u001b[43mdevice\u001b[49m\u001b[43m=\u001b[49m\u001b[43m \u001b[49m\u001b[32;43m1\u001b[39;49m\n\u001b[32m     13\u001b[39m \u001b[43m)\u001b[49m\n\u001b[32m     17\u001b[39m \u001b[38;5;66;03m# Evaluate the model's performance on the validation set\u001b[39;00m\n\u001b[32m     18\u001b[39m metrics = model.val()\n",
      "\u001b[36mFile \u001b[39m\u001b[32m~/anaconda3/envs/model_training/lib/python3.12/site-packages/ultralytics/engine/model.py:797\u001b[39m, in \u001b[36mModel.train\u001b[39m\u001b[34m(self, trainer, **kwargs)\u001b[39m\n\u001b[32m    794\u001b[39m     \u001b[38;5;28mself\u001b[39m.model = \u001b[38;5;28mself\u001b[39m.trainer.model\n\u001b[32m    796\u001b[39m \u001b[38;5;28mself\u001b[39m.trainer.hub_session = \u001b[38;5;28mself\u001b[39m.session  \u001b[38;5;66;03m# attach optional HUB session\u001b[39;00m\n\u001b[32m--> \u001b[39m\u001b[32m797\u001b[39m \u001b[38;5;28;43mself\u001b[39;49m\u001b[43m.\u001b[49m\u001b[43mtrainer\u001b[49m\u001b[43m.\u001b[49m\u001b[43mtrain\u001b[49m\u001b[43m(\u001b[49m\u001b[43m)\u001b[49m\n\u001b[32m    798\u001b[39m \u001b[38;5;66;03m# Update model and cfg after training\u001b[39;00m\n\u001b[32m    799\u001b[39m \u001b[38;5;28;01mif\u001b[39;00m RANK \u001b[38;5;129;01min\u001b[39;00m {-\u001b[32m1\u001b[39m, \u001b[32m0\u001b[39m}:\n",
      "\u001b[36mFile \u001b[39m\u001b[32m~/anaconda3/envs/model_training/lib/python3.12/site-packages/ultralytics/engine/trainer.py:227\u001b[39m, in \u001b[36mBaseTrainer.train\u001b[39m\u001b[34m(self)\u001b[39m\n\u001b[32m    224\u001b[39m         ddp_cleanup(\u001b[38;5;28mself\u001b[39m, \u001b[38;5;28mstr\u001b[39m(file))\n\u001b[32m    226\u001b[39m \u001b[38;5;28;01melse\u001b[39;00m:\n\u001b[32m--> \u001b[39m\u001b[32m227\u001b[39m     \u001b[38;5;28;43mself\u001b[39;49m\u001b[43m.\u001b[49m\u001b[43m_do_train\u001b[49m\u001b[43m(\u001b[49m\u001b[43mworld_size\u001b[49m\u001b[43m)\u001b[49m\n",
      "\u001b[36mFile \u001b[39m\u001b[32m~/anaconda3/envs/model_training/lib/python3.12/site-packages/ultralytics/engine/trainer.py:459\u001b[39m, in \u001b[36mBaseTrainer._do_train\u001b[39m\u001b[34m(self, world_size)\u001b[39m\n\u001b[32m    457\u001b[39m \u001b[38;5;66;03m# Validation\u001b[39;00m\n\u001b[32m    458\u001b[39m \u001b[38;5;28;01mif\u001b[39;00m \u001b[38;5;28mself\u001b[39m.args.val \u001b[38;5;129;01mor\u001b[39;00m final_epoch \u001b[38;5;129;01mor\u001b[39;00m \u001b[38;5;28mself\u001b[39m.stopper.possible_stop \u001b[38;5;129;01mor\u001b[39;00m \u001b[38;5;28mself\u001b[39m.stop:\n\u001b[32m--> \u001b[39m\u001b[32m459\u001b[39m     \u001b[38;5;28mself\u001b[39m.metrics, \u001b[38;5;28mself\u001b[39m.fitness = \u001b[38;5;28;43mself\u001b[39;49m\u001b[43m.\u001b[49m\u001b[43mvalidate\u001b[49m\u001b[43m(\u001b[49m\u001b[43m)\u001b[49m\n\u001b[32m    460\u001b[39m \u001b[38;5;28mself\u001b[39m.save_metrics(metrics={**\u001b[38;5;28mself\u001b[39m.label_loss_items(\u001b[38;5;28mself\u001b[39m.tloss), **\u001b[38;5;28mself\u001b[39m.metrics, **\u001b[38;5;28mself\u001b[39m.lr})\n\u001b[32m    461\u001b[39m \u001b[38;5;28mself\u001b[39m.stop |= \u001b[38;5;28mself\u001b[39m.stopper(epoch + \u001b[32m1\u001b[39m, \u001b[38;5;28mself\u001b[39m.fitness) \u001b[38;5;129;01mor\u001b[39;00m final_epoch\n",
      "\u001b[36mFile \u001b[39m\u001b[32m~/anaconda3/envs/model_training/lib/python3.12/site-packages/ultralytics/engine/trainer.py:656\u001b[39m, in \u001b[36mBaseTrainer.validate\u001b[39m\u001b[34m(self)\u001b[39m\n\u001b[32m    648\u001b[39m \u001b[38;5;28;01mdef\u001b[39;00m\u001b[38;5;250m \u001b[39m\u001b[34mvalidate\u001b[39m(\u001b[38;5;28mself\u001b[39m):\n\u001b[32m    649\u001b[39m \u001b[38;5;250m    \u001b[39m\u001b[33;03m\"\"\"\u001b[39;00m\n\u001b[32m    650\u001b[39m \u001b[33;03m    Run validation on test set using self.validator.\u001b[39;00m\n\u001b[32m    651\u001b[39m \n\u001b[32m   (...)\u001b[39m\u001b[32m    654\u001b[39m \u001b[33;03m        fitness (float): Fitness score for the validation.\u001b[39;00m\n\u001b[32m    655\u001b[39m \u001b[33;03m    \"\"\"\u001b[39;00m\n\u001b[32m--> \u001b[39m\u001b[32m656\u001b[39m     metrics = \u001b[38;5;28;43mself\u001b[39;49m\u001b[43m.\u001b[49m\u001b[43mvalidator\u001b[49m\u001b[43m(\u001b[49m\u001b[38;5;28;43mself\u001b[39;49m\u001b[43m)\u001b[49m\n\u001b[32m    657\u001b[39m     fitness = metrics.pop(\u001b[33m\"\u001b[39m\u001b[33mfitness\u001b[39m\u001b[33m\"\u001b[39m, -\u001b[38;5;28mself\u001b[39m.loss.detach().cpu().numpy())  \u001b[38;5;66;03m# use loss as fitness measure if not found\u001b[39;00m\n\u001b[32m    658\u001b[39m     \u001b[38;5;28;01mif\u001b[39;00m \u001b[38;5;129;01mnot\u001b[39;00m \u001b[38;5;28mself\u001b[39m.best_fitness \u001b[38;5;129;01mor\u001b[39;00m \u001b[38;5;28mself\u001b[39m.best_fitness < fitness:\n",
      "\u001b[36mFile \u001b[39m\u001b[32m~/anaconda3/envs/model_training/lib/python3.12/site-packages/torch/utils/_contextlib.py:116\u001b[39m, in \u001b[36mcontext_decorator.<locals>.decorate_context\u001b[39m\u001b[34m(*args, **kwargs)\u001b[39m\n\u001b[32m    113\u001b[39m \u001b[38;5;129m@functools\u001b[39m.wraps(func)\n\u001b[32m    114\u001b[39m \u001b[38;5;28;01mdef\u001b[39;00m\u001b[38;5;250m \u001b[39m\u001b[34mdecorate_context\u001b[39m(*args, **kwargs):\n\u001b[32m    115\u001b[39m     \u001b[38;5;28;01mwith\u001b[39;00m ctx_factory():\n\u001b[32m--> \u001b[39m\u001b[32m116\u001b[39m         \u001b[38;5;28;01mreturn\u001b[39;00m \u001b[43mfunc\u001b[49m\u001b[43m(\u001b[49m\u001b[43m*\u001b[49m\u001b[43margs\u001b[49m\u001b[43m,\u001b[49m\u001b[43m \u001b[49m\u001b[43m*\u001b[49m\u001b[43m*\u001b[49m\u001b[43mkwargs\u001b[49m\u001b[43m)\u001b[49m\n",
      "\u001b[36mFile \u001b[39m\u001b[32m~/anaconda3/envs/model_training/lib/python3.12/site-packages/ultralytics/engine/validator.py:231\u001b[39m, in \u001b[36mBaseValidator.__call__\u001b[39m\u001b[34m(self, trainer, model)\u001b[39m\n\u001b[32m    228\u001b[39m         \u001b[38;5;28mself\u001b[39m.plot_predictions(batch, preds, batch_i)\n\u001b[32m    230\u001b[39m     \u001b[38;5;28mself\u001b[39m.run_callbacks(\u001b[33m\"\u001b[39m\u001b[33mon_val_batch_end\u001b[39m\u001b[33m\"\u001b[39m)\n\u001b[32m--> \u001b[39m\u001b[32m231\u001b[39m stats = \u001b[38;5;28;43mself\u001b[39;49m\u001b[43m.\u001b[49m\u001b[43mget_stats\u001b[49m\u001b[43m(\u001b[49m\u001b[43m)\u001b[49m\n\u001b[32m    232\u001b[39m \u001b[38;5;28mself\u001b[39m.check_stats(stats)\n\u001b[32m    233\u001b[39m \u001b[38;5;28mself\u001b[39m.speed = \u001b[38;5;28mdict\u001b[39m(\u001b[38;5;28mzip\u001b[39m(\u001b[38;5;28mself\u001b[39m.speed.keys(), (x.t / \u001b[38;5;28mlen\u001b[39m(\u001b[38;5;28mself\u001b[39m.dataloader.dataset) * \u001b[32m1e3\u001b[39m \u001b[38;5;28;01mfor\u001b[39;00m x \u001b[38;5;129;01min\u001b[39;00m dt)))\n",
      "\u001b[36mFile \u001b[39m\u001b[32m~/anaconda3/envs/model_training/lib/python3.12/site-packages/ultralytics/models/yolo/detect/val.py:247\u001b[39m, in \u001b[36mDetectionValidator.get_stats\u001b[39m\u001b[34m(self)\u001b[39m\n\u001b[32m    240\u001b[39m \u001b[38;5;28;01mdef\u001b[39;00m\u001b[38;5;250m \u001b[39m\u001b[34mget_stats\u001b[39m(\u001b[38;5;28mself\u001b[39m) -> Dict[\u001b[38;5;28mstr\u001b[39m, Any]:\n\u001b[32m    241\u001b[39m \u001b[38;5;250m    \u001b[39m\u001b[33;03m\"\"\"\u001b[39;00m\n\u001b[32m    242\u001b[39m \u001b[33;03m    Calculate and return metrics statistics.\u001b[39;00m\n\u001b[32m    243\u001b[39m \n\u001b[32m    244\u001b[39m \u001b[33;03m    Returns:\u001b[39;00m\n\u001b[32m    245\u001b[39m \u001b[33;03m        (Dict[str, Any]): Dictionary containing metrics results.\u001b[39;00m\n\u001b[32m    246\u001b[39m \u001b[33;03m    \"\"\"\u001b[39;00m\n\u001b[32m--> \u001b[39m\u001b[32m247\u001b[39m     stats = {k: \u001b[43mtorch\u001b[49m\u001b[43m.\u001b[49m\u001b[43mcat\u001b[49m\u001b[43m(\u001b[49m\u001b[43mv\u001b[49m\u001b[43m,\u001b[49m\u001b[43m \u001b[49m\u001b[32;43m0\u001b[39;49m\u001b[43m)\u001b[49m.cpu().numpy() \u001b[38;5;28;01mfor\u001b[39;00m k, v \u001b[38;5;129;01min\u001b[39;00m \u001b[38;5;28mself\u001b[39m.stats.items()}  \u001b[38;5;66;03m# to numpy\u001b[39;00m\n\u001b[32m    248\u001b[39m     \u001b[38;5;28mself\u001b[39m.nt_per_class = np.bincount(stats[\u001b[33m\"\u001b[39m\u001b[33mtarget_cls\u001b[39m\u001b[33m\"\u001b[39m].astype(\u001b[38;5;28mint\u001b[39m), minlength=\u001b[38;5;28mself\u001b[39m.nc)\n\u001b[32m    249\u001b[39m     \u001b[38;5;28mself\u001b[39m.nt_per_image = np.bincount(stats[\u001b[33m\"\u001b[39m\u001b[33mtarget_img\u001b[39m\u001b[33m\"\u001b[39m].astype(\u001b[38;5;28mint\u001b[39m), minlength=\u001b[38;5;28mself\u001b[39m.nc)\n",
      "\u001b[31mRuntimeError\u001b[39m: torch.cat(): expected a non-empty list of Tensors"
     ]
    }
   ],
   "source": [
    "\n",
    "\n",
    "from  ultralytics import YOLO\n",
    "\n",
    "model = YOLO(\"yolov8n.pt\") \n",
    "\n",
    "# Train the model on the COCO8 dataset for 100 epochs\n",
    "\n",
    "train_results = model.train(\n",
    "    data='/home/ruizhong/entire_project/project_version5/model_training/car-detection--2/data.yaml',  # Path to dataset configuration file\n",
    "    epochs=100,  # Number of training epochs\n",
    "    batch=16,\n",
    "    imgsz=640,  # Image size for training\n",
    "    device= 1\n",
    ")\n",
    "\n",
    "\n",
    "\n",
    "# Evaluate the model's performance on the validation set\n",
    "metrics = model.val()\n"
   ]
  },
  {
   "cell_type": "code",
   "execution_count": null,
   "id": "22aa81cc",
   "metadata": {},
   "outputs": [],
   "source": [
    "# Fine-tune on your dataset\n",
    "results = model.train(\n",
    "    data=\"/path/to/data.yaml\",  # Path to your dataset YAML (from April 19, 2025)\n",
    "    epochs=50,                  # Adjust based on dataset size\n",
    "    imgsz=(320,240),                  # Image size for car detection\n",
    "    batch=16,                   # Adjust for GPU memory (e.g., 8 for 2GB VRAM)\n",
    "    name=\"yolov12n_finetuned\",  # Output directory\n",
    "    device=0,                   # GPU device\n",
    "    patience=20,                # Early stopping\n",
    "    lr0=0.001,                  # Initial learning rate for fine-tuning\n",
    "    lrf=0.01,                   # Final learning rate factor\n",
    "    cos_lr=True,                # Use cosine annealing\n",
    "    optimizer=\"AdamW\",          # Optimizer (AdamW is robust for YOLOv12)\n",
    "    mosaic=1.0,                 # Enable mosaic augmentation\n",
    "\n",
    ")"
   ]
  },
  {
   "cell_type": "code",
   "execution_count": null,
   "id": "a85624d2",
   "metadata": {},
   "outputs": [],
   "source": [
    "\n",
    "\n",
    "'''\n",
    "\n",
    "\n",
    "Epoch    GPU_mem   box_loss   obj_loss   cls_loss  Instances       Size\n",
    "  1/50      2.3G    0.04567    0.02345    0.01234         10    320x240\n",
    "  \n",
    "\n",
    "Class     Images  Instances      Box(P          R      mAP50  mAP50-95): 100% 2/2 [00:01<00:00,  1.50it/s]\n",
    "all         50        120      0.750      0.680      0.720      0.450\n",
    "\n",
    "\n",
    "'''\n"
   ]
  }
 ],
 "metadata": {
  "kernelspec": {
   "display_name": "model_training",
   "language": "python",
   "name": "python3"
  },
  "language_info": {
   "codemirror_mode": {
    "name": "ipython",
    "version": 3
   },
   "file_extension": ".py",
   "mimetype": "text/x-python",
   "name": "python",
   "nbconvert_exporter": "python",
   "pygments_lexer": "ipython3",
   "version": "3.12.9"
  }
 },
 "nbformat": 4,
 "nbformat_minor": 5
}
